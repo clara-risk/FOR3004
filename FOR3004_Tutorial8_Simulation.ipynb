{
  "nbformat": 4,
  "nbformat_minor": 0,
  "metadata": {
    "colab": {
      "name": "FOR3004_Tutorial8_Simulation.ipynb",
      "provenance": [],
      "collapsed_sections": []
    },
    "kernelspec": {
      "name": "python3",
      "display_name": "Python 3"
    },
    "language_info": {
      "name": "python"
    }
  },
  "cells": [
    {
      "cell_type": "markdown",
      "source": [
        "**Tutorial 8: Simulation**\n",
        "\n",
        "Part 1: Generating discrete random variables \n",
        "\n",
        "What is a \"discrete random variable\"? It is a number that you generate from a discrete distribution. A distribution (think the normal distribution from statistics) is just a function.\n",
        "\n",
        "Discrete vs Continuous: For example, the number of fires on each day is DISCRETE (you cannot have 1.5 fires), which means that it is count data. It is not something like time or elevation, which is CONTINUOUS. We use different type of functions to model discrete and continuous processes. For discrete data, we use distributions like the Poisson distribution and the binomial distribution. We use smooth continuous functions for continuous data (give an example and show a normally distributed distribution function) and step functions for discrete data. \n",
        "\n",
        "Why would you want to sample numbers from a distribution? It's useful for simulating events, such as fires! \n",
        "\n",
        "**Here, we will see how to do this in Python and R.**"
      ],
      "metadata": {
        "id": "diWJdO7qzAcB"
      }
    },
    {
      "cell_type": "code",
      "execution_count": 22,
      "metadata": {
        "id": "_zZVPLRey4C-"
      },
      "outputs": [],
      "source": [
        "%%capture\n",
        "# First, we need to install the necessary packages. Packages are pre-written \n",
        "# code from other people that we can \"call\" and use ourselves. \n",
        "\n",
        "%pip install matplotlib\n",
        "%pip install numpy\n",
        "%pip install scipy\n",
        "%pip install pandas\n",
        "%pip install distfit\n",
        "%pip install seaborn "
      ]
    },
    {
      "cell_type": "code",
      "source": [
        "# Import the packages we installed \n",
        "\n",
        "from random import randint\n",
        "import numpy as np\n",
        "import sys\n",
        "import time\n",
        "import matplotlib.pyplot as plt\n",
        "from matplotlib.ticker import FormatStrFormatter\n",
        "import scipy\n",
        "import scipy.stats as stats\n",
        "from scipy.special import gamma\n",
        "from distfit import distfit\n",
        "import math\n",
        "import pandas as pd\n",
        "import seaborn as sns"
      ],
      "metadata": {
        "id": "7EFlJ_6k0lo7"
      },
      "execution_count": 23,
      "outputs": []
    },
    {
      "cell_type": "code",
      "source": [
        "# Now, we need to get our data. Our data is located on Quercus under \"Python \n",
        "# Tutorial\", in a text file called \"NFDB_point_20210916.txt\". This is the \n",
        "# text file of the Canadian National Forest Fire Database. Please download this\n",
        "# data and then upload it to your Google Drive in a folder called \"Tutorial8\". \n",
        "\n",
        "# First, we need to give permission for Google Colab to access our data. You \n",
        "# will need to enable all the permissions (there are 8). \n",
        "\n",
        "from google.colab import drive\n",
        "drive.mount('/content/drive')"
      ],
      "metadata": {
        "colab": {
          "base_uri": "https://localhost:8080/"
        },
        "id": "SZ9rbcos0n1z",
        "outputId": "05fb954b-3242-4832-ba0e-2de556779ec4"
      },
      "execution_count": 24,
      "outputs": [
        {
          "output_type": "stream",
          "name": "stdout",
          "text": [
            "Drive already mounted at /content/drive; to attempt to forcibly remount, call drive.mount(\"/content/drive\", force_remount=True).\n"
          ]
        }
      ]
    },
    {
      "cell_type": "code",
      "source": [
        "# Now, grab the data from Google Drive. \n",
        "\n",
        "%cd /content/drive/MyDrive/Tutorial8/\n",
        "\n",
        "dirname = '/content/drive/MyDrive/Tutorial8/'\n",
        "fn = 'NFDB_point_20210916.txt' \n",
        "df = pd.read_csv(dirname+fn, delimiter = \",\")"
      ],
      "metadata": {
        "colab": {
          "base_uri": "https://localhost:8080/"
        },
        "id": "3S-Fgt4x0qag",
        "outputId": "777c6602-7756-4eba-9f6d-1b499bd4476d"
      },
      "execution_count": 25,
      "outputs": [
        {
          "output_type": "stream",
          "name": "stdout",
          "text": [
            "/content/drive/MyDrive/Tutorial8\n"
          ]
        }
      ]
    },
    {
      "cell_type": "markdown",
      "source": [
        "(1) Problem 1: Fitting a distribution to the number of fires per day in Canada for 2019\n",
        "\n",
        "Here is our first problem. Your supervisor has asked you to determine the most likely number of fires tomorrow based on the distribution of fires in 2019 in Canada. Fires are much more likely to occur in the summer so we will focus on the period of June 1 2019 to September 1 2019. They just want you to use a simple mathematical model. Your supervisor has asked you to use the Poisson distribution, which is a type of discrete distribution. \n",
        "\n",
        "First, let's do this in Python: "
      ],
      "metadata": {
        "id": "IUfy94QZ0xNZ"
      }
    },
    {
      "cell_type": "code",
      "source": [
        "from scipy.stats import poisson"
      ],
      "metadata": {
        "id": "ESfwQx3F0sTH"
      },
      "execution_count": 26,
      "outputs": []
    },
    {
      "cell_type": "markdown",
      "source": [
        "(1.1) Loading and filtering a Pandas dataframe\n",
        "\n",
        "Pandas dataframes, denoted using \"pd\" (because of the way we imported the Pandas library) are useful ways of importing and working with tabular data. Let's look at our dataframe we loaded from Google Drive:"
      ],
      "metadata": {
        "id": "CveqfQzD1IHL"
      }
    },
    {
      "cell_type": "code",
      "source": [
        "print(df[['REP_DATE','FIRE_ID','SRC_AGENCY','LATITUDE','LONGITUDE','SIZE_HA','CAUSE']].head(20))"
      ],
      "metadata": {
        "colab": {
          "base_uri": "https://localhost:8080/"
        },
        "id": "rp4O5B_Z1Fmf",
        "outputId": "fe7a87cb-a612-440a-f9fb-82114b34a545"
      },
      "execution_count": 27,
      "outputs": [
        {
          "output_type": "stream",
          "name": "stdout",
          "text": [
            "               REP_DATE      FIRE_ID SRC_AGENCY  LATITUDE  LONGITUDE  SIZE_HA  \\\n",
            "0   1953-05-26 00:00:00  1953-G00041         BC    59.963   -128.172      8.0   \n",
            "1   1950-06-22 00:00:00  1950-R00028         BC    59.318   -132.172      8.0   \n",
            "2   1950-06-04 00:00:00  1950-G00026         BC    59.876   -131.922  12949.9   \n",
            "3   1951-07-15 00:00:00  1951-R00097         BC    59.760   -132.808    241.1   \n",
            "4   1952-06-12 00:00:00  1952-G00116         BC    59.434   -126.172      1.2   \n",
            "5   1951-08-01 00:00:00  1951-R00100         BC    59.963   -136.502    194.2   \n",
            "6   1952-08-11 00:00:00  1952-G00211         BC    59.597   -126.728      0.6   \n",
            "7   1950-06-14 00:00:00  1950-G00035         BC    57.463   -122.816   2071.9   \n",
            "8   1950-06-13 00:00:00  1950-G00039         BC    57.126   -122.762      0.1   \n",
            "9   1953-05-01 00:00:00  1953-G00043         BC    57.684   -121.925   7834.7   \n",
            "10  1950-06-22 00:00:00  1950-R00029         BC    59.318   -133.228   5179.9   \n",
            "11  1950-06-09 00:00:00  1950-R00030         BC    59.568   -133.502      1.2   \n",
            "12  1950-06-13 00:00:00  1950-R00031         BC    59.626   -133.365    194.2   \n",
            "13  1951-06-07 00:00:00  1951-R00042         BC    59.655   -133.672      4.4   \n",
            "14  1951-08-07 00:00:00  1951-R00101         BC    59.713   -134.172    894.7   \n",
            "15  1951-08-29 00:00:00  1951-R00128         BC    59.626   -133.615      2.0   \n",
            "16  1951-09-01 00:00:00  1951-R00129         BC    59.876   -133.478    550.3   \n",
            "17  1951-09-02 00:00:00  1951-R00131         BC    59.626   -133.422      0.1   \n",
            "18  1952-07-07 00:00:00  1952-R00085         BC    59.097   -132.978    161.8   \n",
            "19  1952-08-27 00:00:00  1952-R00092         BC    59.963   -133.808      0.1   \n",
            "\n",
            "   CAUSE  \n",
            "0      H  \n",
            "1      L  \n",
            "2      H  \n",
            "3      H  \n",
            "4      H  \n",
            "5      H  \n",
            "6      H  \n",
            "7      L  \n",
            "8      H  \n",
            "9      H  \n",
            "10     L  \n",
            "11     H  \n",
            "12     H  \n",
            "13     H  \n",
            "14     H  \n",
            "15     H  \n",
            "16     H  \n",
            "17     H  \n",
            "18     L  \n",
            "19     H  \n"
          ]
        }
      ]
    },
    {
      "cell_type": "code",
      "source": [
        "def get_days(year,data):\n",
        "    year = str(year) \n",
        "    data = data[data['YEAR'] == int(year)] #Filter dataframe for year \n",
        "    sdate = pd.to_datetime(year+'-06-01').date() #Create date = Jun 1\n",
        "    edate = pd.to_datetime(year+'-09-01').date() #Create date = Sep 1\n",
        "    dates = list(pd.date_range(sdate,edate,freq='d')) #Make list of all dates\n",
        "    #Make sure date is in correct format for filtering dataframe\n",
        "    dates = [str(input_date)[0:10]+' 00:00:00'for input_date in dates]\n",
        "    #Initiate empty list \n",
        "    num_fires = []\n",
        "    #Loop through list of dates \n",
        "    for date in dates:\n",
        "        #Is the date in the dataframe? \n",
        "        if date in list(set(data['REP_DATE'])): \n",
        "          #Filter dataframe for records on date \n",
        "          df_date = data[data['REP_DATE'] == date]\n",
        "          #Get the number of times record occurs and append to list\n",
        "          num_fires.append(len(df_date))\n",
        "        else: \n",
        "          #If the date isn't there, no fires occurred, so append 0 to list\n",
        "          num_fires.append(0)\n",
        "    #Return the list from the function\n",
        "    return num_fires\n",
        "\n",
        "#Using our function \n",
        "num_pd = get_days(2019,df)\n",
        "\n",
        "#Visualize the dataframe in a histogram \n",
        "plt.hist(num_pd,bins=15)\n",
        "plt.show()"
      ],
      "metadata": {
        "colab": {
          "base_uri": "https://localhost:8080/",
          "height": 264
        },
        "id": "P-TJspgz4S61",
        "outputId": "5f2543ee-8036-463d-d5a2-6f30dfb17d76"
      },
      "execution_count": 28,
      "outputs": [
        {
          "output_type": "display_data",
          "data": {
            "text/plain": [
              "<Figure size 432x288 with 1 Axes>"
            ],
            "image/png": "[encoded data removed]"
          },
          "metadata": {
            "needs_background": "light"
          }
        }
      ]
    },
    {
      "cell_type": "markdown",
      "source": [
        "(1.3) Now, we need to fit a Poisson distribution. This is NOT fit to the histogram. It is fit to the data itself. The distribution is fit using only one parameter: the mean of the data itself."
      ],
      "metadata": {
        "id": "12GBXucx1rfD"
      }
    },
    {
      "cell_type": "code",
      "source": [
        "# Create an array of X values (which plot on X axis)\n",
        "# Should start at 0 (can't have less than 0 fires)\n",
        "# Should end at the maximum number of fires seen in 2019 \n",
        "X = np.arange(0,np.nanmax(num_pd)+1)\n",
        "\n",
        "# Poisson parameter is just the mean of the data \n",
        "par = np.nanmean(num_pd)\n",
        "plt.plot(X, poisson.pmf(X, par)*100, 'ko', markersize=5) \n",
        "plt.xlabel('Number Fires')\n",
        "plt.ylabel('Probability (%)')\n",
        "plt.show() "
      ],
      "metadata": {
        "colab": {
          "base_uri": "https://localhost:8080/",
          "height": 279
        },
        "id": "L51HTLfd19kl",
        "outputId": "f2670b03-4a7b-4c27-84d3-e2f13f5bef0d"
      },
      "execution_count": 29,
      "outputs": [
        {
          "output_type": "display_data",
          "data": {
            "text/plain": [
              "<Figure size 432x288 with 1 Axes>"
            ],
            "image/png": "[encoded data removed]"
          },
          "metadata": {
            "needs_background": "light"
          }
        }
      ]
    },
    {
      "cell_type": "markdown",
      "source": [
        "(1.4) We have created the simple mathematical Poisson distribution model for the number of fires on each day. Now, we will use the pmf (probability mass function) to determine the % chance of X number of fires tomorrow."
      ],
      "metadata": {
        "id": "IHSJgvno2BVb"
      }
    },
    {
      "cell_type": "code",
      "source": [
        "# What is the probability of a specific number of fires? \n",
        "\n",
        "y = stats.poisson.pmf(10, par)\n",
        "print(round(y*100,2)) # 0.03% chance of 10 fires\n",
        "\n",
        "y = stats.poisson.pmf(15, par)\n",
        "print(round(y*100,2)) # 0.78 % chance of 15 fires\n",
        "\n",
        "y = stats.poisson.pmf(20, par)\n",
        "print(round(y*100,2)) # 4.61 % chance of 20 fires"
      ],
      "metadata": {
        "colab": {
          "base_uri": "https://localhost:8080/"
        },
        "id": "3d1nXVc12DgJ",
        "outputId": "3cd9f8fb-6a85-4e9e-b13b-91154eb04972"
      },
      "execution_count": 30,
      "outputs": [
        {
          "output_type": "stream",
          "name": "stdout",
          "text": [
            "0.03\n",
            "0.78\n",
            "4.61\n"
          ]
        }
      ]
    },
    {
      "cell_type": "markdown",
      "source": [
        "(1.5) This information is not incredibly useful because you it's just for specifically 10, 15 fires, etc., and not a range of fire numbers. Let's check probabilities for less than a certain number of fires occurring. This can gives us an idea of upper and lower bounds for fire numbers. We can do this using the cumulative distribution function (cdf)."
      ],
      "metadata": {
        "id": "H_aVhg4I2JxU"
      }
    },
    {
      "cell_type": "code",
      "source": [
        "y = poisson.cdf(10, par)\n",
        "print(round(y*100,2)) # 0.04 % chance of <= 10 fires\n",
        "\n",
        "y = poisson.cdf(15, par)\n",
        "print(round(y*100,2)) # 1.73 % chance of <= 15 fires\n",
        "\n",
        "y = poisson.cdf(20, par)\n",
        "print(round(y*100,2)) # 15.76 % chance of <= 20 fires "
      ],
      "metadata": {
        "colab": {
          "base_uri": "https://localhost:8080/"
        },
        "id": "6FNvnsHO2L3X",
        "outputId": "5aa050d1-316a-4e64-d1ed-3a0be5d3e6e6"
      },
      "execution_count": 31,
      "outputs": [
        {
          "output_type": "stream",
          "name": "stdout",
          "text": [
            "0.04\n",
            "1.73\n",
            "15.76\n"
          ]
        }
      ]
    },
    {
      "cell_type": "markdown",
      "source": [
        "(1.6) Using a probability distribution to get the likelihood of an event (that next year X fires will happen tomorrow in Canada)\n",
        "\n",
        "But your supervisor asked you to get the most likely number of fires occurring on any given day (e.g. tomorrow). We haven't done that yet! It is the \"top\" of the probability mass function."
      ],
      "metadata": {
        "id": "Fdc8FDGm2Qkg"
      }
    },
    {
      "cell_type": "code",
      "source": [
        "test_numbers = np.arange(0,np.nanmax(num_pd)+1)\n",
        "par = np.nanmean(num_pd)\n",
        "probabilities = poisson.pmf(test_numbers, par)\n",
        "max_prob = list(probabilities).index(np.nanmax(probabilities))\n",
        "most_prob_numf = test_numbers[max_prob]\n",
        "percent = probabilities[max_prob]\n",
        "print('The most probable number of fires is: %s with a probability of %s percent'\n",
        "%(most_prob_numf, round(percent*100)))"
      ],
      "metadata": {
        "colab": {
          "base_uri": "https://localhost:8080/"
        },
        "id": "9SC5xOxT2QOk",
        "outputId": "6ad721b2-3c53-472e-b581-3b5ea30085da"
      },
      "execution_count": 32,
      "outputs": [
        {
          "output_type": "stream",
          "name": "stdout",
          "text": [
            "The most probable number of fires is: 25 with a probability of 8 percent\n"
          ]
        }
      ]
    },
    {
      "cell_type": "markdown",
      "source": [
        "That corresponds well to the probability mass function plotted above. Our answer to the supervisor is that it is most likely that there will be 25 fires in Canada tomorrow, but that they should be skeptical of this estimate because it does not take into account factors such as weather and spatial variation across Canada. "
      ],
      "metadata": {
        "id": "1hvHNwtZ3c5D"
      }
    },
    {
      "cell_type": "markdown",
      "source": [
        "(2) Now, let's see how to do this in R: "
      ],
      "metadata": {
        "id": "vF3mlAZQ4kIs"
      }
    },
    {
      "cell_type": "code",
      "source": [
        "%%capture\n",
        "#Set up the Colab Notebook for R\n",
        "\n",
        "%load_ext rpy2.ipython "
      ],
      "metadata": {
        "id": "M-YbrUvX4nok"
      },
      "execution_count": 33,
      "outputs": []
    },
    {
      "cell_type": "markdown",
      "source": [
        "(2.1) Making the histogram: "
      ],
      "metadata": {
        "id": "qxdotwIi6SJ8"
      }
    },
    {
      "cell_type": "code",
      "source": [
        "%%R\n",
        "\n",
        "#The cells do not communicate well between R and Python. Here is just the number of fires\n",
        "#on each day (num_pd) from above\n",
        "num_pd_R <-  c(35, 31, 17, 20, 22, 13, 19, 28, 26, 15, 8, 18, 48, 32, 28, 29, 33, 26, 27, \n",
        "        23, 27, 26, 21, 22, 30, 33, 20, 11, 15, 42, 45, 25, 15, 13, 19, 22, 28, 29, \n",
        "        17, 25, 20, 14, 17, 28, 14, 42, 37, 59, 50, 34, 33, 38, 59, 98, 35, 24, 51, \n",
        "        28, 19, 26, 17, 37, 41, 32, 40, 74, 23, 26, 16, 15, 22, 19, 22, 15, 20, 23, \n",
        "        10, 14, 18, 14, 18, 23, 12, 9, 10, 23, 12, 15, 17, 7, 3, 10, 12)\n",
        "\n",
        "hist(num_pd_R, breaks = 15)"
      ],
      "metadata": {
        "colab": {
          "base_uri": "https://localhost:8080/",
          "height": 497
        },
        "id": "QyrhnfIg4wLn",
        "outputId": "b49b8d89-113a-4b8d-fcfc-958bd48024e9"
      },
      "execution_count": 34,
      "outputs": [
        {
          "output_type": "display_data",
          "data": {
            "image/png": "[encoded data removed]"
          },
          "metadata": {}
        }
      ]
    },
    {
      "cell_type": "markdown",
      "source": [
        "(2.2) Fit a Poisson distribution: "
      ],
      "metadata": {
        "id": "kRopoXNl6Uwq"
      }
    },
    {
      "cell_type": "code",
      "source": [
        "%%R\n",
        "num_pd_R <-  c(35, 31, 17, 20, 22, 13, 19, 28, 26, 15, 8, 18, 48, 32, 28, 29, 33, 26, 27, \n",
        "        23, 27, 26, 21, 22, 30, 33, 20, 11, 15, 42, 45, 25, 15, 13, 19, 22, 28, 29, \n",
        "        17, 25, 20, 14, 17, 28, 14, 42, 37, 59, 50, 34, 33, 38, 59, 98, 35, 24, 51, \n",
        "        28, 19, 26, 17, 37, 41, 32, 40, 74, 23, 26, 16, 15, 22, 19, 22, 15, 20, 23, \n",
        "        10, 14, 18, 14, 18, 23, 12, 9, 10, 23, 12, 15, 17, 7, 3, 10, 12)\n",
        "library(MASS)\n",
        "pmf<-fitdistr(num_pd_R, densfun=\"poisson\")\n",
        "print(pmf[1]) # This is the Poisson parameter "
      ],
      "metadata": {
        "colab": {
          "base_uri": "https://localhost:8080/"
        },
        "id": "HHyUVecq6QX_",
        "outputId": "73025cea-1df4-42bd-b7aa-895541204c58"
      },
      "execution_count": 35,
      "outputs": [
        {
          "output_type": "stream",
          "name": "stdout",
          "text": [
            "$estimate\n",
            "  lambda \n",
            "25.56989 \n",
            "\n"
          ]
        }
      ]
    },
    {
      "cell_type": "code",
      "source": [
        "%%R\n",
        "eq <- function(x){dpois(x, lambda=25.56989)*100}\n",
        "num_fires <- seq(from = 0, to = 100, by = 1)\n",
        "probability <- eq(test_num)\n",
        "plot(probability ~ num_fires, type = \"s\")"
      ],
      "metadata": {
        "colab": {
          "base_uri": "https://localhost:8080/",
          "height": 497
        },
        "id": "F4qFZUWR7s--",
        "outputId": "4408a682-0b52-4224-eda3-2ca9882c2357"
      },
      "execution_count": 36,
      "outputs": [
        {
          "output_type": "display_data",
          "data": {
            "image/png": "[encoded data removed]"
          },
          "metadata": {}
        }
      ]
    },
    {
      "cell_type": "markdown",
      "source": [
        "(2.3) We have created the simple mathematical Poisson distribution model for the number of fires on each day in R. Now, we will use the pmf (probability mass function) to determine the % chance of X number of fires tomorrow. We see that our answer is the same as we got using Python: "
      ],
      "metadata": {
        "id": "zr_yP3mK89K-"
      }
    },
    {
      "cell_type": "code",
      "source": [
        "%%R\n",
        "\n",
        "calc_pmf <- function(x){dpois(x, lambda=25.56989)*100}\n",
        "\n",
        "print(calc_pmf(10)) #Probability of 10 fires\n",
        "print(calc_pmf(15))\n",
        "print(calc_pmf(20))"
      ],
      "metadata": {
        "colab": {
          "base_uri": "https://localhost:8080/"
        },
        "id": "gN2aJ1m-9KqQ",
        "outputId": "78bc1088-a76a-4ba2-c6b6-4371e4d6b18e"
      },
      "execution_count": 37,
      "outputs": [
        {
          "output_type": "stream",
          "name": "stdout",
          "text": [
            "[1] 0.02586208\n",
            "[1] 0.7844606\n",
            "[1] 4.608827\n"
          ]
        }
      ]
    },
    {
      "cell_type": "markdown",
      "source": [
        "(1.5) Now, let's create the cumulative distribution function (cdf) in R. We also get the same answers as Python. "
      ],
      "metadata": {
        "id": "L1xCEM7f_Vi4"
      }
    },
    {
      "cell_type": "code",
      "source": [
        "%%R\n",
        "\n",
        "calc_cdf <- function(x){ppois(x, lambda=25.56989)*100}\n",
        "\n",
        "print(calc_cdf(10)) # Chance of <= 10 fires\n",
        "print(calc_cdf(15))\n",
        "print(calc_cdf(20))"
      ],
      "metadata": {
        "colab": {
          "base_uri": "https://localhost:8080/"
        },
        "id": "A-fQ1GVM92iI",
        "outputId": "087eeae9-f6eb-4315-cd0d-32669dd590b1"
      },
      "execution_count": 38,
      "outputs": [
        {
          "output_type": "stream",
          "name": "stdout",
          "text": [
            "[1] 0.04104306\n",
            "[1] 1.725867\n",
            "[1] 15.75754\n"
          ]
        }
      ]
    },
    {
      "cell_type": "markdown",
      "source": [
        "(1.6) How do we calculate the most likely number of fires tomorrow in R? "
      ],
      "metadata": {
        "id": "RdgCsrgmAPEc"
      }
    },
    {
      "cell_type": "code",
      "source": [
        "%%R\n",
        "eq <- function(x){dpois(x, lambda=25.56989)*100}\n",
        "test_num <- seq(from = 0, to = 100, by = 1)\n",
        "initialize <- seq(0,0,length.out=101)\n",
        "for(i in test_num){\n",
        "    y <- eq(i)\n",
        "    initialize[i] = y\n",
        "}\n",
        "print(max(initialize))\n",
        "print(which(initialize == max(initialize)))"
      ],
      "metadata": {
        "colab": {
          "base_uri": "https://localhost:8080/"
        },
        "id": "W11kBqZ2ATuD",
        "outputId": "39a4d1ca-eea0-4694-c7e8-e2c3e510f047"
      },
      "execution_count": 39,
      "outputs": [
        {
          "output_type": "stream",
          "name": "stdout",
          "text": [
            "[1] 7.901575\n",
            "[1] 25\n"
          ]
        }
      ]
    },
    {
      "cell_type": "markdown",
      "source": [
        "Same as Python, as it should be!"
      ],
      "metadata": {
        "id": "dC7m7y4X5ec0"
      }
    },
    {
      "cell_type": "markdown",
      "source": [
        "(3) Now, what if we want to simulate number of fires on a given day? \n",
        "\n",
        "(3.1) Generate a pseudo-random number"
      ],
      "metadata": {
        "id": "mo9u-H4J6Iwk"
      }
    },
    {
      "cell_type": "code",
      "source": [
        "def gen_rand():\n",
        "    '''\n",
        "    Use random's randint to generate a pseudo-random integer between 0-99\n",
        "    Parameters\n",
        "    ----------\n",
        "    Returns\n",
        "    ----------\n",
        "    int\n",
        "        a pseudo-random integer\n",
        "    '''\n",
        "    return randint(0,99)\n",
        "\n",
        "gen_rand()"
      ],
      "metadata": {
        "colab": {
          "base_uri": "https://localhost:8080/"
        },
        "id": "-K1KJ1cm8IIC",
        "outputId": "0bf01c68-5cb7-4ffb-bd6c-0517fef4759d"
      },
      "execution_count": 40,
      "outputs": [
        {
          "output_type": "execute_result",
          "data": {
            "text/plain": [
              "39"
            ]
          },
          "metadata": {},
          "execution_count": 40
        }
      ]
    },
    {
      "cell_type": "markdown",
      "source": [
        "(3.2) As discussed in the lecture, we can use this to simulate the number of fires on a given day. NumPy in Python has a built-in function to do this for us, so you do not actually have to use our special random number generator. "
      ],
      "metadata": {
        "id": "GFQ7HcOu9YJy"
      }
    },
    {
      "cell_type": "code",
      "source": [
        "rng = np.random.default_rng()\n",
        "num_fires = rng.poisson(lam=par, size=1000)\n",
        "print(num_fires)"
      ],
      "metadata": {
        "colab": {
          "base_uri": "https://localhost:8080/"
        },
        "id": "cz3OeXM59V6B",
        "outputId": "5e334c6b-397a-4fbd-d9e5-cb9f9bac2e71"
      },
      "execution_count": 41,
      "outputs": [
        {
          "output_type": "stream",
          "name": "stdout",
          "text": [
            "[32 22 27 24 32 25 23 26 21 29 29 26 28 19 28 19 31 29 22 17 20 30 30 19\n",
            " 25 22 17 23 26 37 31 13 17 32 21 25 26 22 16 29 28 26 24 19 26 31 24 22\n",
            " 21 27 22 19 24 33 42 19 26 26 24 20 27 25 26 22 28 24 28 33 25 27 21 27\n",
            " 26 30 29 33 27 29 29 26 29 33 16 27 25 27 29 25 25 31 26 24 27 19 23 21\n",
            " 27 20 26 26 16 26 27 28 26 29 33 28 27 30 30 29 20 29 27 31 34 20 33 21\n",
            " 27 23 30 28 24 22 32 24 35 20 22 22 27 24 31 26 14 21 28 33 25 25 28 17\n",
            " 34 25 21 19 25 29 22 30 27 30 25 26 23 22 24 35 23 29 28 22 30 26 23 41\n",
            " 27 26 27 24 26 31 33 26 26 20 29 26 26 19 25 26 16 26 31 26 26 33 20 28\n",
            " 15 29 29 33 23 32 22 19 23 33 16 32 27 29 22 35 19 28 29 35 29 15 28 30\n",
            " 25 28 32 21 27 24 27 24 19 30 25 34 26 23 26 17 18 22 21 30 31 28 28 25\n",
            " 33 21 24 29 19 27 18 24 27 22 23 24 27 27 28 25 22 25 21 23 20 23 19 26\n",
            " 25 27 28 33 25 19 24 28 39 27 13 30 27 29 30 22 23 25 26 16 22 27 34 37\n",
            " 20 23 28 27 29 23 21 25 36 28 25 21 23 18 34 20 23 23 24 31 28 33 25 20\n",
            " 24 24 24 17 20 21 21 29 24 17 21 26 22 25 27 32 31 35 29 25 26 23 35 29\n",
            " 21 24 26 20 25 27 23 30 25 28 25 30 30 28 27 27 31 33 32 31 24 37 30 28\n",
            " 25 21 29 23 29 18 32 29 21 30 31 23 22 31 26 26 37 13 27 30 27 30 33 26\n",
            " 35 28 30 28 22 29 38 18 20 24 25 19 26 17 21 24 20 28 23 37 34 25 28 22\n",
            " 22 33 33 28 28 34 24 22 29 28 22 31 19 25 16 33 34 24 21 17 19 26 23 22\n",
            " 24 24 16 28 27 26 15 20 30 25 26 25 22 19 27 26 18 25 20 27 31 18 22 23\n",
            " 27 21 23 24 20 28 35 27 34 24 26 24 29 25 31 33 25 23 23 36 34 27 26 20\n",
            " 29 22 27 29 27 25 24 29 26 22 38 27 33 20 28 29 19 27 25 30 17 39 29 29\n",
            " 24 21 30 36 28 23 26 29 22 16 23 39 16 28 23 26 26 20 24 28 29 28 26 14\n",
            " 26 25 30 22 26 18 25 23 22 25 32 33 27 21 21 23 18 25 26 31 25 31 21 30\n",
            " 21 26 15 32 27 29 22 33 27 30 18 26 31 18 18 22 36 31 27 21 33 24 23 27\n",
            " 24 22 31 25 23 29 30 36 24 24 21 23 23 26 23 22 29 39 22 25 23 34 30 20\n",
            " 28 25 18 24 26 28 30 28 32 19 32 35 19 22 28 29 28 29 29 22 34 32 26 23\n",
            " 31 26 25 15 28 28 27 22 22 24 27 28 23 24 27 23 20 20 30 20 33 28 27 29\n",
            " 24 37 29 25 16 18 30 27 23 22 32 27 23 29 22 25 22 29 29 26 22 22 20 22\n",
            " 23 18 26 29 28 25 32 26 25 16 23 31 24 27 27 23 26 25 26 26 27 32 27 24\n",
            " 24 26 24 27 27 30 32 31 37 22 15 31 21 23 29 22 29 22 26 33 26 28 23 21\n",
            " 26 24 27 16 25 27 34 30 24 22 24 27 31 25 21 22 21 23 20 31 27 27 24 23\n",
            " 17 33 10 26 25 28 19 23 26 21 25 28 32 40 22 25 25 33 23 23 23 23 32 26\n",
            " 21 27 21 20 31 26 24 23 17 16 30 17 23 28 32 15 35 25 24 15 31 24 24 28\n",
            " 29 26 32 27 29 31 20 27 30 22 29 22 25 29 24 24 31 16 24 36 24 31 26 34\n",
            " 20 30 23 20 27 24 26 25 28 30 31 24 28 36 25 25 14 34 21 22 24 29 30 30\n",
            " 35 25 23 18 24 18 21 23 21 29 22 20 33 26 25 31 12 21 32 32 20 26 31 26\n",
            " 40 21 34 21 40 27 31 27 24 31 28 23 27 28 20 19 27 29 32 25 23 23 21 35\n",
            " 25 23 32 28 21 36 21 30 21 17 29 20 24 19 22 28 46 30 26 25 19 23 34 33\n",
            " 24 26 34 30 29 24 22 24 35 30 29 24 26 28 25 22 25 28 29 16 22 28 25 24\n",
            " 32 29 31 26 27 27 27 27 26 27 18 17 18 24 24 31 24 26 32 19 27 25 27 19\n",
            " 31 31 35 23 32 24 19 29 28 28 27 22 23 29 22 27 27 25 31 33 24 27 33 25\n",
            " 20 27 34 20 28 27 30 33 28 33 20 35 23 23 25 31]\n"
          ]
        }
      ]
    },
    {
      "cell_type": "markdown",
      "source": [
        "What does this look like? "
      ],
      "metadata": {
        "id": "6gaKBksRCfPl"
      }
    },
    {
      "cell_type": "code",
      "source": [
        "plt.hist(num_fires,bins=15)\n",
        "plt.show()"
      ],
      "metadata": {
        "colab": {
          "base_uri": "https://localhost:8080/",
          "height": 264
        },
        "id": "44pJx_PVCg2r",
        "outputId": "2281c7ff-f190-4b59-afdc-7a6545fe7b0f"
      },
      "execution_count": 42,
      "outputs": [
        {
          "output_type": "display_data",
          "data": {
            "text/plain": [
              "<Figure size 432x288 with 1 Axes>"
            ],
            "image/png": "[encoded data removed]"
          },
          "metadata": {
            "needs_background": "light"
          }
        }
      ]
    },
    {
      "cell_type": "markdown",
      "source": [
        "(4) How would we do this in R? \n",
        "\n",
        "(4.1) Now, generate a pseudo-random number in R: "
      ],
      "metadata": {
        "id": "43AfMgmYD42u"
      }
    },
    {
      "cell_type": "code",
      "source": [
        "%%R\n",
        "floor(runif(1, min=0, max=101))"
      ],
      "metadata": {
        "colab": {
          "base_uri": "https://localhost:8080/"
        },
        "id": "kL26mfA-D7If",
        "outputId": "9a6eac94-3231-4fec-c668-7f395b0b52a8"
      },
      "execution_count": 43,
      "outputs": [
        {
          "output_type": "stream",
          "name": "stdout",
          "text": [
            "[1] 43\n"
          ]
        }
      ]
    },
    {
      "cell_type": "markdown",
      "source": [
        "(4.2)  Using R to simulate the number of fires on a given day."
      ],
      "metadata": {
        "id": "cW9eVnJGEbE7"
      }
    },
    {
      "cell_type": "code",
      "source": [
        "%%R\n",
        "r_fire_num = rpois(1000,25.56989)"
      ],
      "metadata": {
        "id": "iizgXajaEY9y"
      },
      "execution_count": 44,
      "outputs": []
    },
    {
      "cell_type": "markdown",
      "source": [
        "What does it look like? "
      ],
      "metadata": {
        "id": "e4hgXiy2HqmA"
      }
    },
    {
      "cell_type": "code",
      "source": [
        "%%R\n",
        "hist(r_fire_num, breaks = 15)"
      ],
      "metadata": {
        "colab": {
          "base_uri": "https://localhost:8080/",
          "height": 497
        },
        "id": "RS_nsof5HtOE",
        "outputId": "81cdb9a5-371b-4fbe-b93c-9669e80bfa6f"
      },
      "execution_count": 45,
      "outputs": [
        {
          "output_type": "display_data",
          "data": {
            "image/png": "[encoded data removed]"
          },
          "metadata": {}
        }
      ]
    },
    {
      "cell_type": "markdown",
      "source": [
        "**Tutorial 8: Simulation**\n",
        "\n",
        "Part 2: Generating continuous random variables \n",
        "\n",
        "(5) Your supervisor has a new problem for you. They want to know the most likely amount of land that will burn in Ontario in the months of June, July, and August based on historical area burned data.\n",
        "\n",
        "First, we need to get our data! Let's make a function to save us time."
      ],
      "metadata": {
        "id": "tDC6F0O8JCNK"
      }
    },
    {
      "cell_type": "code",
      "source": [
        "def get_area_burned(month, province): \n",
        "  years = [] \n",
        "  areab = [] \n",
        "  df_province = df[df['SRC_AGENCY']=='ON']\n",
        "  df_month = df_province[df_province['MONTH'].isin(month)]\n",
        "  for year in list(set(df_month['YEAR'])): \n",
        "    df_year = df_month[df_month['YEAR']==year]\n",
        "    total_area_burned = sum(df_year['SIZE_HA'])/100 #Convert to km\n",
        "    years.append(year)\n",
        "    areab.append(total_area_burned)\n",
        "  return years, areab\n",
        "\n",
        "year_list,area_list = get_area_burned([7,8,9],'ON')\n",
        "plt.plot(year_list,area_list)\n",
        "plt.title('Area Burned in Ontario - June-July-August')\n",
        "plt.xlabel('year')\n",
        "plt.ylabel('area burned km^2')\n",
        "plt.show()"
      ],
      "metadata": {
        "colab": {
          "base_uri": "https://localhost:8080/",
          "height": 295
        },
        "id": "3QmbzX8_JTRc",
        "outputId": "80511219-43bb-4734-f28e-81c75607e597"
      },
      "execution_count": 46,
      "outputs": [
        {
          "output_type": "display_data",
          "data": {
            "text/plain": [
              "<Figure size 432x288 with 1 Axes>"
            ],
            "image/png": "[encoded data removed]"
          },
          "metadata": {
            "needs_background": "light"
          }
        }
      ]
    },
    {
      "cell_type": "markdown",
      "source": [
        "Now that we have our data, we can move on to solving our problem. There are multiple ways to do this. Why not fit a distribution, similar to before? It will be a continuous distribution instead of a discrete one, because area burned is not count data. A test for this is whether area burned can have a decimal. Obviously it can - a fire can burn 4.5 km^2. \n",
        "\n",
        "Let's fit a distribution: "
      ],
      "metadata": {
        "id": "6JZ0T8TqJl8E"
      }
    },
    {
      "cell_type": "code",
      "source": [
        "# First, let's take a look at the histogram. \n",
        "\n",
        "plt.hist(area_list, bins=5)\n",
        "plt.show()"
      ],
      "metadata": {
        "colab": {
          "base_uri": "https://localhost:8080/",
          "height": 264
        },
        "id": "VOs0aFYfJmem",
        "outputId": "a4b730cc-1e16-4f76-8ed2-d0fe10ae71b9"
      },
      "execution_count": 47,
      "outputs": [
        {
          "output_type": "display_data",
          "data": {
            "text/plain": [
              "<Figure size 432x288 with 1 Axes>"
            ],
            "image/png": "[encoded data removed]"
          },
          "metadata": {
            "needs_background": "light"
          }
        }
      ]
    },
    {
      "cell_type": "markdown",
      "source": [
        "(5.1) Fitting a continuous probability distribution\n",
        "\n",
        "Looks familiar, but we cannot use Poisson here... we need to fit a continuous distribution. Different distributions have different parameters (which are used to fit them to the data), such as their mean and standard deviation. These control how the distribution looks. They are calculated differently for different continuous distributions. Wikipedia is a great resource for how this is done. You can find the information on the Wikipedia page of the distribution. Here, we will do this for the Exponential distribution. "
      ],
      "metadata": {
        "id": "RDoaDeCXJsJy"
      }
    },
    {
      "cell_type": "code",
      "source": [
        "# First, create functions to calculate the parameters of the distribution.\n",
        "\n",
        "def calc_mean_exp(rate):\n",
        "    '''\n",
        "    Calculate mean of fitted exponential distribution\n",
        "    Method from: https://en.wikipedia.org/wiki/Exponential_distribution\n",
        "    Parameters\n",
        "    ----------\n",
        "    rate : float\n",
        "        rate parameter, 1/scale (as stated on Wikipedia page)\n",
        "    Returns\n",
        "    ----------\n",
        "    float\n",
        "        mean\n",
        "    '''\n",
        "\n",
        "    mean = 1/rate\n",
        "\n",
        "    return mean\n",
        "\n",
        "def calc_stdev_exp(rate):\n",
        "    '''\n",
        "    Calculate stdev of fitted exponential distribution\n",
        "    Method from: https://en.wikipedia.org/wiki/Exponential_distribution\n",
        "    Parameters\n",
        "    ----------\n",
        "    rate : float\n",
        "        rate parameter, 1/scale (as stated on Wikipedia page)\n",
        "    Returns\n",
        "    ----------\n",
        "    float\n",
        "        stdev\n",
        "    '''\n",
        "\n",
        "    var = 1/np.power(rate,2)\n",
        "    stdev = math.sqrt(var)\n",
        "\n",
        "    return stdev"
      ],
      "metadata": {
        "id": "-_pVVjrzJxxj"
      },
      "execution_count": 48,
      "outputs": []
    },
    {
      "cell_type": "code",
      "source": [
        "def get_distribution(data):\n",
        "    '''\n",
        "    Fit the theoretical distributions\n",
        "    Method from: https://erdogant.github.io/distfit/pages/html/Performance.html#probability-density-function-fitting\n",
        "    Parameters\n",
        "    ----------\n",
        "    data : list\n",
        "        list of the data we want to fit distribution for\n",
        "    Returns\n",
        "    ----------\n",
        "    dict\n",
        "        dictionary containing information about each tested distribution \n",
        "    '''\n",
        "\n",
        "    mean = sum(list(data))/len(list(data))\n",
        "    stdev = math.sqrt(stats.describe(data)[3])\n",
        "    dict_distributions = {} \n",
        "    dict_distributions['actual data'] = [0,mean,stdev]\n",
        "\n",
        "    #Exponential\n",
        "\n",
        "    dist = distfit(distr='expon')\n",
        "    dist.fit_transform(np.array(data))\n",
        "\n",
        "    scale = dist.model['scale']\n",
        "    shape = dist.model['loc']\n",
        "    rss = dist.model['score']\n",
        "    m = calc_mean_exp(1/scale) #rate = inverse scale\n",
        "    sd = calc_stdev_exp(1/scale)\n",
        "\n",
        "    dict_distributions['exponential'] = [rss,m,sd]\n",
        "\n",
        "    return dict_distributions\n",
        "\n",
        "get_distribution(area_list)"
      ],
      "metadata": {
        "colab": {
          "base_uri": "https://localhost:8080/"
        },
        "id": "5pKCtVw6KMUV",
        "outputId": "9c826d20-6a42-4a92-85fe-a8e392d3eda3"
      },
      "execution_count": 49,
      "outputs": [
        {
          "output_type": "stream",
          "name": "stdout",
          "text": [
            "[distfit] >fit..\n",
            "[distfit] >transform..\n",
            "[distfit] >[expon] [0.00 sec] [RSS: 0.0000205] [loc=0.492 scale=620.635]\n",
            "[distfit] >Compute confidence interval [parametric]\n"
          ]
        },
        {
          "output_type": "execute_result",
          "data": {
            "text/plain": [
              "{'actual data': [0, 621.1272500278816, 1036.7404192077076],\n",
              " 'exponential': [2.0535497974080776e-05, 620.6352500245738, 620.6352500245738]}"
            ]
          },
          "metadata": {},
          "execution_count": 49
        }
      ]
    },
    {
      "cell_type": "markdown",
      "source": [
        "(5.2) Let's visualize this: "
      ],
      "metadata": {
        "id": "6F9DLVwEK-tT"
      }
    },
    {
      "cell_type": "code",
      "source": [
        "def plot_hist_and_distributions(data):\n",
        "    '''\n",
        "    Make the graph of the different theoretical distributions\n",
        "    Information from: https://docs.scipy.org/doc/scipy/reference/generated/scipy.stats.weibull_min.html\n",
        "    & https://stackoverflow.com/questions/33811353/histogram-fitting-with-python\n",
        "    Parameters\n",
        "    ----------\n",
        "    data : list\n",
        "        list of area burned data\n",
        "    '''\n",
        "    idict = get_distribution(data)\n",
        "\n",
        "    data = np.array(data)\n",
        "    \n",
        "    fig, ax = plt.subplots(2, sharey=True,sharex=True)\n",
        "    plt.rcParams['figure.figsize'] = [15,10]\n",
        "\n",
        "    ax[0].hist(data, density=True, bins=8,color='#4DB6AC')  # density=False would make counts\n",
        "    ax[0].set_ylabel('Probability')\n",
        "    ax[0].set_xlabel('Area burned (km^2)')\n",
        "    m1 = round(idict['actual data'][1],1)\n",
        "    s1 = round(idict['actual data'][2],1)\n",
        "    ax[0].set_title('Data: mean %s stdev %s'%(m1,s1))\n",
        "    ax[0].yaxis.set_major_formatter(FormatStrFormatter('%.2f'))\n",
        "\n",
        "\n",
        "    ax[1].hist(data, density=True, bins=8,color='#4DB6AC')  # density=False would make counts\n",
        "    x = np.linspace(0,np.max(data), 1000)\n",
        "    mod = stats.expon.fit(data)\n",
        "    y = stats.expon.pdf(x, *mod)\n",
        "    ax[1].plot(x,y,color='#5C6BC0')\n",
        "\n",
        "    ax[1].set_xlabel('Area burned (km^2)')\n",
        "    m1 = round(idict['exponential'][1],1)\n",
        "    s1 = round(idict['exponential'][2],1)\n",
        "    \n",
        "    ax[1].set_title('Exponential: \\nmean %s \\nstdev %s'%(m1,s1))\n",
        "\n",
        "    ax[1].yaxis.set_major_formatter(FormatStrFormatter('%.2f'))\n",
        "\n",
        "    fig.subplots_adjust(hspace=.5)\n",
        "    plt.show()\n",
        "\n",
        "plot_hist_and_distributions(area_list)"
      ],
      "metadata": {
        "colab": {
          "base_uri": "https://localhost:8080/",
          "height": 364
        },
        "id": "n0yq6UQsK9pI",
        "outputId": "c162b7d2-5712-47ca-fe3a-f650e095bd9d"
      },
      "execution_count": 50,
      "outputs": [
        {
          "output_type": "stream",
          "name": "stdout",
          "text": [
            "[distfit] >fit..\n",
            "[distfit] >transform..\n",
            "[distfit] >[expon] [0.00 sec] [RSS: 0.0000205] [loc=0.492 scale=620.635]\n",
            "[distfit] >Compute confidence interval [parametric]\n"
          ]
        },
        {
          "output_type": "display_data",
          "data": {
            "text/plain": [
              "<Figure size 432x288 with 2 Axes>"
            ],
            "image/png": "[encoded data removed]"
          },
          "metadata": {
            "needs_background": "light"
          }
        }
      ]
    },
    {
      "cell_type": "markdown",
      "source": [
        "The distribution is an approximation of the real data. \n",
        "\n",
        "(5.2) How do we sample numbers from the distribution we've fit? Easy! Same as we've done before. "
      ],
      "metadata": {
        "id": "ixwBBuzJQsM7"
      }
    },
    {
      "cell_type": "code",
      "source": [
        "random_sample = [round(x, 2) for x in np.random.exponential(620.6352500245738, size=1000)]\n",
        "print(random_sample)"
      ],
      "metadata": {
        "colab": {
          "base_uri": "https://localhost:8080/"
        },
        "id": "ZrpJ0O_DRLPv",
        "outputId": "3cb21c8c-1ccf-4848-aeec-706e0c933e4b"
      },
      "execution_count": 51,
      "outputs": [
        {
          "output_type": "stream",
          "name": "stdout",
          "text": [
            "[1414.67, 415.04, 327.68, 1122.37, 519.07, 234.86, 499.57, 704.43, 480.56, 1070.04, 214.48, 346.38, 729.76, 247.39, 1205.07, 980.54, 307.86, 645.59, 213.25, 3763.49, 906.87, 1213.83, 38.94, 59.22, 2710.23, 38.1, 688.27, 495.58, 1000.39, 2349.93, 1427.66, 2694.88, 199.18, 844.56, 113.16, 338.38, 1227.55, 2443.49, 423.11, 6.51, 1221.44, 1647.64, 88.65, 286.2, 338.15, 54.32, 436.78, 1198.63, 608.64, 1131.01, 1.13, 14.3, 1476.08, 230.22, 2063.9, 888.42, 303.93, 399.67, 95.86, 1056.82, 812.54, 277.59, 406.06, 1613.05, 229.87, 505.46, 2244.4, 242.77, 62.19, 1460.07, 162.09, 121.15, 527.15, 495.81, 763.9, 382.8, 835.6, 403.86, 1086.42, 1023.81, 303.88, 13.3, 180.3, 687.69, 774.97, 873.21, 177.12, 102.14, 6.26, 891.82, 251.98, 147.12, 604.58, 595.19, 550.32, 447.65, 2.46, 476.62, 208.9, 805.23, 303.03, 1198.16, 1019.66, 132.19, 12.5, 785.25, 2863.18, 719.87, 587.29, 195.47, 1049.83, 638.51, 1541.9, 793.54, 1035.61, 1322.52, 138.24, 682.5, 1301.03, 806.08, 221.42, 312.17, 102.2, 1481.52, 101.85, 2573.79, 772.58, 2869.72, 785.01, 163.7, 390.3, 324.37, 346.62, 93.83, 543.5, 594.24, 3398.63, 293.79, 377.83, 1347.36, 336.33, 696.03, 142.91, 326.69, 3068.69, 1118.4, 703.75, 557.6, 2455.8, 352.68, 3043.98, 154.94, 164.1, 94.1, 1106.06, 1006.97, 1027.3, 130.29, 85.06, 587.79, 138.02, 570.01, 214.15, 268.48, 4417.7, 186.65, 245.32, 206.16, 1431.86, 69.06, 117.38, 52.23, 1899.1, 2797.22, 791.5, 101.3, 137.3, 154.92, 132.52, 216.06, 1660.53, 677.86, 26.09, 136.69, 448.71, 71.96, 253.71, 419.87, 851.38, 939.48, 2389.32, 367.09, 736.48, 190.22, 770.09, 1435.03, 357.3, 767.84, 594.0, 633.31, 847.03, 133.73, 366.78, 539.5, 1009.78, 544.09, 1540.05, 154.81, 1654.72, 46.16, 908.02, 604.29, 689.31, 406.05, 368.23, 1168.46, 69.41, 1291.1, 353.27, 622.09, 1170.97, 1874.94, 19.31, 3023.96, 582.64, 1838.55, 3576.72, 680.77, 137.19, 103.55, 409.47, 1906.51, 286.34, 322.38, 260.49, 153.46, 133.26, 1024.28, 898.47, 421.45, 2748.69, 931.19, 463.79, 524.54, 1617.26, 222.29, 506.89, 378.06, 281.75, 857.84, 244.01, 26.65, 412.75, 744.22, 119.75, 24.44, 3488.67, 563.97, 1469.22, 113.27, 383.69, 1374.98, 164.04, 192.32, 1599.79, 202.04, 5.36, 615.62, 251.57, 683.21, 609.83, 834.38, 473.23, 170.33, 1124.68, 163.3, 705.62, 519.93, 54.49, 278.23, 439.49, 31.44, 997.33, 1222.29, 101.53, 709.55, 1785.36, 123.46, 467.45, 101.99, 339.77, 515.6, 549.2, 68.09, 49.17, 72.42, 68.29, 649.38, 759.07, 2019.4, 35.82, 121.83, 197.72, 258.92, 761.55, 260.72, 147.01, 2772.42, 234.5, 631.09, 467.75, 299.84, 225.19, 184.95, 154.84, 3375.1, 107.2, 60.91, 125.62, 802.3, 742.14, 542.34, 1803.37, 509.05, 987.0, 57.86, 941.56, 66.61, 980.26, 268.31, 131.12, 449.39, 1144.09, 331.31, 474.02, 1177.44, 200.06, 2120.34, 21.84, 698.65, 269.56, 564.63, 554.2, 221.98, 357.98, 1404.28, 4.36, 671.1, 73.59, 303.78, 1226.58, 1236.75, 917.13, 12.34, 1427.61, 867.16, 76.57, 43.91, 185.96, 638.55, 575.73, 231.3, 762.05, 550.22, 1101.49, 1120.47, 2267.19, 682.84, 277.91, 818.95, 122.85, 348.02, 84.56, 259.25, 157.45, 740.6, 96.73, 3271.11, 14.86, 2436.76, 1601.56, 506.45, 560.1, 48.15, 698.02, 218.87, 767.25, 617.4, 79.93, 545.14, 1025.23, 153.07, 510.62, 517.35, 61.62, 362.88, 541.46, 34.07, 77.31, 1880.47, 166.82, 315.45, 844.28, 121.11, 428.99, 181.03, 207.07, 156.37, 1608.38, 665.08, 969.45, 343.42, 359.0, 669.13, 517.72, 1157.43, 1620.1, 460.17, 377.37, 128.96, 105.72, 120.69, 121.18, 274.99, 1285.71, 1242.57, 1540.75, 324.84, 1807.88, 1826.88, 645.42, 1381.43, 955.91, 460.57, 444.86, 390.21, 272.25, 43.31, 432.28, 226.23, 539.37, 587.24, 804.79, 390.02, 3292.35, 1423.07, 340.49, 901.37, 402.59, 1740.15, 802.64, 47.2, 106.87, 1745.11, 431.32, 1790.41, 788.48, 3754.16, 979.32, 137.69, 66.7, 46.56, 38.48, 543.53, 459.13, 675.15, 395.88, 903.68, 660.7, 762.86, 128.94, 689.56, 487.94, 131.85, 772.24, 296.27, 684.23, 35.17, 497.59, 897.4, 211.27, 177.31, 419.5, 1589.42, 640.93, 254.49, 214.24, 82.64, 1110.64, 200.51, 799.52, 119.3, 436.45, 285.57, 252.09, 703.93, 313.05, 83.02, 3276.98, 187.87, 194.99, 632.7, 452.42, 429.02, 372.84, 0.25, 2975.02, 465.44, 1494.03, 428.98, 603.59, 672.04, 492.65, 424.18, 1076.79, 33.62, 2503.16, 18.22, 439.84, 758.75, 231.43, 974.07, 1537.47, 1668.62, 1111.55, 388.44, 368.16, 19.09, 882.37, 91.92, 303.18, 793.61, 516.24, 542.42, 320.55, 429.38, 1114.35, 1239.8, 1865.19, 693.91, 471.58, 901.65, 0.98, 1026.23, 406.96, 128.26, 1471.35, 180.3, 373.12, 41.37, 627.79, 1172.58, 99.5, 1048.65, 165.61, 129.74, 1070.48, 94.4, 1254.97, 1076.08, 3878.54, 331.19, 1157.5, 93.69, 38.06, 1018.45, 967.81, 595.1, 165.82, 77.52, 143.01, 374.61, 179.15, 759.2, 678.13, 611.41, 278.67, 1129.49, 446.33, 855.83, 346.58, 436.8, 26.03, 735.87, 4465.14, 161.42, 95.03, 399.71, 782.06, 727.23, 61.87, 8.69, 134.51, 1596.67, 259.71, 1202.02, 808.95, 118.79, 511.45, 423.43, 28.21, 193.43, 558.68, 223.37, 965.92, 185.11, 425.04, 272.87, 353.33, 373.51, 2136.62, 632.45, 146.02, 1715.09, 23.58, 297.28, 524.05, 63.46, 1694.07, 1439.84, 798.51, 200.56, 7.58, 369.98, 1205.76, 884.81, 17.34, 114.06, 174.82, 459.55, 289.09, 220.38, 77.55, 51.88, 140.63, 1228.54, 160.44, 246.44, 61.57, 545.3, 970.1, 759.43, 732.4, 767.94, 544.38, 722.13, 129.76, 419.08, 30.67, 108.89, 16.12, 766.52, 295.19, 214.92, 851.21, 215.32, 482.8, 658.86, 352.76, 1332.86, 380.74, 1850.61, 852.15, 219.49, 71.37, 431.86, 946.77, 417.65, 98.33, 214.39, 847.33, 524.38, 10.75, 446.91, 1226.51, 465.34, 831.32, 582.62, 1330.03, 318.85, 110.78, 105.17, 601.08, 151.34, 1504.0, 1357.31, 351.96, 88.8, 90.64, 148.97, 1386.61, 620.72, 2358.6, 445.38, 627.01, 569.7, 175.36, 426.26, 1702.53, 83.11, 1839.06, 515.54, 396.92, 842.58, 1118.42, 227.84, 1377.62, 168.21, 869.49, 1919.63, 90.08, 686.47, 1660.8, 584.14, 555.58, 203.15, 1817.38, 174.71, 223.93, 250.13, 105.28, 183.4, 397.43, 15.85, 360.57, 492.53, 999.09, 1320.53, 473.61, 338.07, 243.35, 529.12, 359.61, 76.11, 696.22, 477.71, 752.82, 99.42, 116.91, 883.91, 787.93, 1030.46, 280.37, 825.72, 972.24, 5439.92, 23.96, 1025.38, 119.73, 180.72, 431.77, 157.21, 379.09, 91.08, 392.6, 319.7, 811.21, 163.29, 617.78, 245.55, 321.27, 757.49, 218.25, 152.22, 563.2, 197.19, 383.69, 353.33, 2309.0, 925.39, 263.74, 528.49, 220.67, 443.45, 2086.2, 549.34, 99.72, 613.72, 1476.98, 34.18, 947.01, 1412.83, 1130.15, 146.63, 653.03, 924.7, 1844.79, 114.45, 302.58, 388.82, 770.94, 57.95, 607.21, 35.8, 112.87, 117.72, 258.33, 354.05, 929.3, 104.32, 10.96, 294.32, 1798.34, 87.04, 334.45, 1022.42, 167.33, 291.26, 465.04, 172.55, 411.33, 71.84, 223.83, 152.05, 341.52, 677.37, 408.58, 32.62, 228.16, 146.53, 275.15, 1497.92, 344.42, 669.13, 5.76, 202.36, 282.53, 255.37, 479.3, 512.62, 467.71, 401.73, 1028.99, 13.12, 1028.83, 1138.71, 1749.19, 69.36, 189.91, 470.59, 135.84, 194.11, 161.11, 439.77, 1193.6, 894.01, 1741.87, 251.14, 518.73, 1141.15, 707.51, 576.77, 58.11, 394.43, 82.58, 29.75, 392.57, 867.91, 433.93, 678.91, 202.92, 712.0, 1881.97, 719.11, 377.93, 250.32, 409.83, 1748.98, 873.62, 24.74, 1366.52, 1089.84, 406.5, 1227.37, 174.16, 137.03, 120.44, 456.25, 164.03, 314.23, 185.28, 315.67, 14.83, 667.75, 401.1, 276.07, 1797.63, 710.57, 283.34, 774.43, 378.72, 271.88, 477.21, 1054.63, 159.76, 449.33, 13.21, 132.18, 592.15, 58.75, 115.21, 79.24, 572.36, 927.68, 960.83, 162.62, 512.67, 42.5, 694.65, 1565.49, 1211.27, 0.16, 82.28, 338.45, 665.89, 244.33, 98.42, 186.25, 9.65, 486.78, 900.73, 134.46, 98.06, 349.24, 780.96, 253.93, 1403.26, 2309.58, 673.61, 1141.68, 565.71, 199.24, 1177.29, 380.96, 1275.13, 77.98, 1457.36, 437.64, 115.22, 1570.46, 196.32, 70.56, 1546.58, 158.41, 39.5, 516.79, 680.48, 266.55, 648.52, 89.93, 190.36, 1161.15, 120.61, 1367.0, 2090.72, 540.33, 91.0, 1747.71, 339.72, 340.18, 273.52, 534.54, 1196.12, 549.63, 948.57, 726.77, 538.64, 1049.6, 173.03, 65.29, 552.08, 1661.77, 833.64, 265.05, 1419.81, 246.27, 35.44, 954.07, 493.53, 1532.82, 1347.9, 620.76, 468.76, 421.7, 775.72, 1967.33, 1010.34, 74.07, 152.24, 66.06, 26.02, 47.0, 213.03, 607.46, 308.3, 739.64, 447.18, 1.25, 1921.93, 740.24]\n"
          ]
        }
      ]
    },
    {
      "cell_type": "code",
      "source": [
        "plt.hist(random_sample)\n",
        "plt.show()"
      ],
      "metadata": {
        "colab": {
          "base_uri": "https://localhost:8080/",
          "height": 592
        },
        "id": "wZtAnQ8WWSPn",
        "outputId": "2e485e2b-15be-4521-98a6-a97ad9f7b582"
      },
      "execution_count": 52,
      "outputs": [
        {
          "output_type": "display_data",
          "data": {
            "text/plain": [
              "<Figure size 1080x720 with 1 Axes>"
            ],
            "image/png": "[encoded data removed]"
          },
          "metadata": {
            "needs_background": "light"
          }
        }
      ]
    },
    {
      "cell_type": "code",
      "source": [
        "print(area_list)"
      ],
      "metadata": {
        "colab": {
          "base_uri": "https://localhost:8080/"
        },
        "id": "Bfa4RR36SU0g",
        "outputId": "dfc4a33f-145a-424a-b384-b723df8f62ae"
      },
      "execution_count": 53,
      "outputs": [
        {
          "output_type": "stream",
          "name": "stdout",
          "text": [
            "[2.39, 90.09, 97.43, 51.22, 16.03, 18.99, 14.57, 47.04, 3.04, 3083.94, 56.65, 1272.2350002794656, 288.2340000357767, 9.494000024154134, 178.07500009323593, 52.79300001715081, 1565.6700001368652, 18.06500006179487, 3713.2090002170617, 955.4990000479664, 2.280000026076287, 41.85300000138578, 39.3610000194005, 1128.601000048814, 2944.4760000331235, 1730.253000027834, 1568.394000038979, 7.017000003605922, 3.1200000090893947, 36.38300000259266, 2221.6100000178208, 231.2430000115927, 126.96800003044174, 709.5690000281469, 216.67900001212908, 47.55700000874667, 48.81500002747593, 1271.5990000246304, 89.26400001324677, 2.1910000047084037, 265.86100001181507, 1373.2470000674552, 44.85900002169566, 9.300000002622403, 0.49200000330792065, 14.687000005543162, 4734.622000031454, 996.4670000256136, 267.57999999828604, 25.170000003203494, 58.51600001543674, 15.444000019058272, 914.9369999852763, 1844.386000055223, 86.97000001206939, 128.69100000000003]\n"
          ]
        }
      ]
    },
    {
      "cell_type": "markdown",
      "source": [
        "(6) Let's do this in R! First, we calculate the mean of the area burned data: \n",
        "\n",
        "❕ As a note here, we need to re-define area_list below because the Python and R cells of the Colab notebook do not communicate. "
      ],
      "metadata": {
        "id": "Obk_uLsoRm9G"
      }
    },
    {
      "cell_type": "code",
      "source": [
        "%%R\n",
        "area_list_r <- c(2.39, 90.09, 97.43, 51.22, 16.03, 18.99, 14.57, 47.04, 3.04, 3083.94, 56.65, 1272.2350002794656, 288.2340000357767, 9.494000024154134, 178.07500009323593, 52.79300001715081, 1565.6700001368652, 18.06500006179487, 3713.2090002170617, 955.4990000479664, 2.280000026076287, 41.85300000138578, 39.3610000194005, 1128.601000048814, 2944.4760000331235, 1730.253000027834, 1568.394000038979, 7.017000003605922, 3.1200000090893947, 36.38300000259266, 2221.6100000178208, 231.2430000115927, 126.96800003044174, 709.5690000281469, 216.67900001212908, 47.55700000874667, 48.81500002747593, 1271.5990000246304, 89.26400001324677, 2.1910000047084037, 265.86100001181507, 1373.2470000674552, 44.85900002169566, 9.300000002622403, 0.49200000330792065, 14.687000005543162, 4734.622000031454, 996.4670000256136, 267.57999999828604, 25.170000003203494, 58.51600001543674, 15.444000019058272, 914.9369999852763, 1844.386000055223, 86.97000001206939, 128.69100000000003)\n",
        "fitted_parameters <- fitdistr(area_list_r, \"exponential\") \n",
        "print(fitted_parameters[1])"
      ],
      "metadata": {
        "colab": {
          "base_uri": "https://localhost:8080/"
        },
        "id": "8FYupweTRucv",
        "outputId": "37371939-b483-4882-f5df-a7b8f28b2436"
      },
      "execution_count": 54,
      "outputs": [
        {
          "output_type": "stream",
          "name": "stdout",
          "text": [
            "$estimate\n",
            "       rate \n",
            "0.001609976 \n",
            "\n"
          ]
        }
      ]
    },
    {
      "cell_type": "markdown",
      "source": [
        "(6.1) Now that we have rate, we calculate the mean (same as standard deviation) as: "
      ],
      "metadata": {
        "id": "TsmrJaN-SuYZ"
      }
    },
    {
      "cell_type": "code",
      "source": [
        "%%R\n",
        "mean <- 1/0.001609976 \n",
        "print(mean)"
      ],
      "metadata": {
        "colab": {
          "base_uri": "https://localhost:8080/"
        },
        "id": "QoQv_sBVSyu2",
        "outputId": "a3799c1a-a604-4a01-8cf6-88687df98ca6"
      },
      "execution_count": 55,
      "outputs": [
        {
          "output_type": "stream",
          "name": "stdout",
          "text": [
            "[1] 621.1273\n"
          ]
        }
      ]
    },
    {
      "cell_type": "markdown",
      "source": [
        "Same as Python, as expected!\n",
        "\n",
        "(6.2) Let's sample 1000 values from the fitted exponential distribution: "
      ],
      "metadata": {
        "id": "8EKI-qKtS8wC"
      }
    },
    {
      "cell_type": "code",
      "source": [
        "%%R\n",
        "area_burned <- rexp(1000, 1/621.1273)\n",
        "hist(area_burned)"
      ],
      "metadata": {
        "colab": {
          "base_uri": "https://localhost:8080/",
          "height": 497
        },
        "id": "-j3N6_1vS-5Z",
        "outputId": "4a2676db-0363-4760-9826-57b23721d0f4"
      },
      "execution_count": 56,
      "outputs": [
        {
          "output_type": "display_data",
          "data": {
            "image/png": "[encoded data removed]"
          },
          "metadata": {}
        }
      ]
    }
  ]
}