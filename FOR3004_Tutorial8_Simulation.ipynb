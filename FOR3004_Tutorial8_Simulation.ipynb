{
  "nbformat": 4,
  "nbformat_minor": 0,
  "metadata": {
    "colab": {
      "name": "FOR3004_Tutorial8_Simulation.ipynb",
      "provenance": []
    },
    "kernelspec": {
      "name": "python3",
      "display_name": "Python 3"
    },
    "language_info": {
      "name": "python"
    }
  },
  "cells": [
    {
      "cell_type": "markdown",
      "source": [
        "**Tutorial 8: Simulation**\n",
        "\n",
        "Part 1: Generating discrete random variables \n",
        "\n",
        "What is a \"discrete random variable\"? It is a number that you generate from a discrete distribution. A distribution (think the normal distribution from statistics) is just a function.\n",
        "\n",
        "Discrete vs Continuous: For example, the number of fires on each day is DISCRETE (you cannot have 1.5 fires), which means that it is count data. It is not something like time or elevation, which is CONTINUOUS. We have special distributions for discrete and continuous data. For discrete data, we use distributions like the Poisson distribution and the binomial distribution. Your supervisor has asked you to use the Poisson distribution.\n",
        "\n",
        "Why would you want to sample numbers from a distribution? It's useful for simulating events, such as fires! \n",
        "\n",
        "**Here, we will see how to do this in Python and R.**"
      ],
      "metadata": {
        "id": "diWJdO7qzAcB"
      }
    },
    {
      "cell_type": "code",
      "execution_count": 128,
      "metadata": {
        "id": "_zZVPLRey4C-"
      },
      "outputs": [],
      "source": [
        "%%capture\n",
        "# First, we need to install the necessary packages. Packages are pre-written \n",
        "# code from other people that we can \"call\" and use ourselves. \n",
        "\n",
        "%pip install matplotlib\n",
        "%pip install numpy\n",
        "%pip install scipy\n",
        "%pip install pandas\n",
        "%pip install distfit\n",
        "%pip install seaborn "
      ]
    },
    {
      "cell_type": "code",
      "source": [
        "# Import the packages we installed \n",
        "\n",
        "from random import randint\n",
        "import numpy as np\n",
        "import sys\n",
        "import time\n",
        "import matplotlib.pyplot as plt\n",
        "from matplotlib.ticker import FormatStrFormatter\n",
        "import scipy\n",
        "import scipy.stats as stats\n",
        "from scipy.special import gamma\n",
        "from distfit import distfit\n",
        "import math\n",
        "import pandas as pd\n",
        "import seaborn as sns"
      ],
      "metadata": {
        "id": "7EFlJ_6k0lo7"
      },
      "execution_count": 129,
      "outputs": []
    },
    {
      "cell_type": "code",
      "source": [
        "# Now, we need to get our data. Our data is located on Quercus under \"Python \n",
        "# Tutorial\", in a text file called \"NFDB_point_20201029.txt\". This is the \n",
        "# text file of the Canadian National Forest Fire Database. Please download this\n",
        "# data and then upload it to your Google Drive in a folder called \"FOR3004_ \n",
        "# Python_Tutorial\". \n",
        "\n",
        "# First, we need to give permission for Google Colab to access our data. You \n",
        "# will need to enable all the permissions (there are 8). \n",
        "\n",
        "from google.colab import drive\n",
        "drive.mount('/content/drive')"
      ],
      "metadata": {
        "colab": {
          "base_uri": "https://localhost:8080/"
        },
        "id": "SZ9rbcos0n1z",
        "outputId": "029763c3-802f-47c5-a0e8-d7e9b925ef39"
      },
      "execution_count": 130,
      "outputs": [
        {
          "output_type": "stream",
          "name": "stdout",
          "text": [
            "Drive already mounted at /content/drive; to attempt to forcibly remount, call drive.mount(\"/content/drive\", force_remount=True).\n"
          ]
        }
      ]
    },
    {
      "cell_type": "code",
      "source": [
        "# Now, grab the data from Google Drive. \n",
        "\n",
        "%cd /content/drive/MyDrive/Tutorial8/\n",
        "\n",
        "dirname = '/content/drive/MyDrive/Tutorial8/'\n",
        "fn = 'NFDB_point_20210916.txt' \n",
        "df = pd.read_csv(dirname+fn, delimiter = \",\")"
      ],
      "metadata": {
        "colab": {
          "base_uri": "https://localhost:8080/"
        },
        "id": "3S-Fgt4x0qag",
        "outputId": "35187c76-a2db-4e31-f0b3-8905202d66c6"
      },
      "execution_count": 163,
      "outputs": [
        {
          "output_type": "stream",
          "name": "stdout",
          "text": [
            "/content/drive/MyDrive/Tutorial8\n"
          ]
        }
      ]
    },
    {
      "cell_type": "markdown",
      "source": [
        "(1) Problem 1: Fitting a distribution to the number of fires per day in Canada for 2019\n",
        "\n",
        "Here is our first problem. Your supervisor has asked you to determine the most likely number of fires tomorrow based on the distribution of fires in 2019 in Canada. Fires are much more likely to occur in the summer so we will focus on the period of June 1 2019 to September 1 2019. They just want you to use a simple mathematical model. Your supervisor has asked you to use the Poisson distribution, which is a type of discrete distribution. \n",
        "\n",
        "First, let's do this in Python: "
      ],
      "metadata": {
        "id": "IUfy94QZ0xNZ"
      }
    },
    {
      "cell_type": "code",
      "source": [
        "from scipy.stats import poisson"
      ],
      "metadata": {
        "id": "ESfwQx3F0sTH"
      },
      "execution_count": 132,
      "outputs": []
    },
    {
      "cell_type": "markdown",
      "source": [
        "(1.1) Loading and filtering a Pandas dataframe\n",
        "\n",
        "Pandas dataframes, denoted using \"pd\" (because of the way we imported the Pandas library) are useful ways of importing and working with tabular data. Let's look at our dataframe we loaded from Google Drive:"
      ],
      "metadata": {
        "id": "CveqfQzD1IHL"
      }
    },
    {
      "cell_type": "code",
      "source": [
        "print(df[['REP_DATE','FIRE_ID','SRC_AGENCY','LATITUDE','LONGITUDE','SIZE_HA','CAUSE']].head(20))"
      ],
      "metadata": {
        "colab": {
          "base_uri": "https://localhost:8080/"
        },
        "id": "rp4O5B_Z1Fmf",
        "outputId": "7fcfe5cf-cb6c-4333-8233-3576aae4723e"
      },
      "execution_count": 133,
      "outputs": [
        {
          "output_type": "stream",
          "name": "stdout",
          "text": [
            "               REP_DATE      FIRE_ID SRC_AGENCY  LATITUDE  LONGITUDE  SIZE_HA  \\\n",
            "0   1953-05-26 00:00:00  1953-G00041         BC    59.963   -128.172      8.0   \n",
            "1   1950-06-22 00:00:00  1950-R00028         BC    59.318   -132.172      8.0   \n",
            "2   1950-06-04 00:00:00  1950-G00026         BC    59.876   -131.922  12949.9   \n",
            "3   1951-07-15 00:00:00  1951-R00097         BC    59.760   -132.808    241.1   \n",
            "4   1952-06-12 00:00:00  1952-G00116         BC    59.434   -126.172      1.2   \n",
            "5   1951-08-01 00:00:00  1951-R00100         BC    59.963   -136.502    194.2   \n",
            "6   1952-08-11 00:00:00  1952-G00211         BC    59.597   -126.728      0.6   \n",
            "7   1950-06-14 00:00:00  1950-G00035         BC    57.463   -122.816   2071.9   \n",
            "8   1950-06-13 00:00:00  1950-G00039         BC    57.126   -122.762      0.1   \n",
            "9   1953-05-01 00:00:00  1953-G00043         BC    57.684   -121.925   7834.7   \n",
            "10  1950-06-22 00:00:00  1950-R00029         BC    59.318   -133.228   5179.9   \n",
            "11  1950-06-09 00:00:00  1950-R00030         BC    59.568   -133.502      1.2   \n",
            "12  1950-06-13 00:00:00  1950-R00031         BC    59.626   -133.365    194.2   \n",
            "13  1951-06-07 00:00:00  1951-R00042         BC    59.655   -133.672      4.4   \n",
            "14  1951-08-07 00:00:00  1951-R00101         BC    59.713   -134.172    894.7   \n",
            "15  1951-08-29 00:00:00  1951-R00128         BC    59.626   -133.615      2.0   \n",
            "16  1951-09-01 00:00:00  1951-R00129         BC    59.876   -133.478    550.3   \n",
            "17  1951-09-02 00:00:00  1951-R00131         BC    59.626   -133.422      0.1   \n",
            "18  1952-07-07 00:00:00  1952-R00085         BC    59.097   -132.978    161.8   \n",
            "19  1952-08-27 00:00:00  1952-R00092         BC    59.963   -133.808      0.1   \n",
            "\n",
            "   CAUSE  \n",
            "0      H  \n",
            "1      L  \n",
            "2      H  \n",
            "3      H  \n",
            "4      H  \n",
            "5      H  \n",
            "6      H  \n",
            "7      L  \n",
            "8      H  \n",
            "9      H  \n",
            "10     L  \n",
            "11     H  \n",
            "12     H  \n",
            "13     H  \n",
            "14     H  \n",
            "15     H  \n",
            "16     H  \n",
            "17     H  \n",
            "18     L  \n",
            "19     H  \n"
          ]
        }
      ]
    },
    {
      "cell_type": "code",
      "source": [
        "def get_days(year,data):\n",
        "    year = str(year) \n",
        "    data = data[data['YEAR'] == int(year)] #Filter dataframe for year \n",
        "    sdate = pd.to_datetime(year+'-06-01').date() #Create date = Jun 1\n",
        "    edate = pd.to_datetime(year+'-09-01').date() #Create date = Sep 1\n",
        "    dates = list(pd.date_range(sdate,edate,freq='d')) #Make list of all dates\n",
        "    #Make sure date is in correct format for filtering dataframe\n",
        "    dates = [str(input_date)[0:10]+' 00:00:00'for input_date in dates]\n",
        "    #Initiate empty list \n",
        "    num_fires = []\n",
        "    #Loop through list of dates \n",
        "    for date in dates:\n",
        "        #Is the date in the dataframe? \n",
        "        if date in list(set(data['REP_DATE'])): \n",
        "          #Filter dataframe for records on date \n",
        "          df_date = data[data['REP_DATE'] == date]\n",
        "          #Get the number of times record occurs and append to list\n",
        "          num_fires.append(len(df_date))\n",
        "        else: \n",
        "          #If the date isn't there, no fires occurred, so append 0 to list\n",
        "          num_fires.append(0)\n",
        "    #Return the list from the function\n",
        "    return num_fires\n",
        "\n",
        "#Using our function \n",
        "num_pd = get_days(2019,df)\n",
        "\n",
        "#Visualize the dataframe in a histogram \n",
        "plt.hist(num_pd,bins=15)\n",
        "plt.show()"
      ],
      "metadata": {
        "colab": {
          "base_uri": "https://localhost:8080/",
          "height": 592
        },
        "id": "P-TJspgz4S61",
        "outputId": "36d1d735-471e-4e83-fd3f-3dfcf8ebf206"
      },
      "execution_count": 134,
      "outputs": [
        {
          "output_type": "display_data",
          "data": {
            "text/plain": [
              "<Figure size 1080x720 with 1 Axes>"
            ],
            "image/png": "[encoded data removed]"
          },
          "metadata": {
            "needs_background": "light"
          }
        }
      ]
    },
    {
      "cell_type": "markdown",
      "source": [
        "(1.3) Now, we need to fit a Poisson distribution. This is NOT fit to the histogram. It is fit to the data itself. The distribution is fit using only one parameter: the mean of the data itself."
      ],
      "metadata": {
        "id": "12GBXucx1rfD"
      }
    },
    {
      "cell_type": "code",
      "source": [
        "# Create an array of X values (which plot on X axis)\n",
        "# Should start at 0 (can't have less than 0 fires)\n",
        "# Should end at the maximum number of fires seen in 2019 \n",
        "X = np.arange(0,np.nanmax(num_pd)+1)\n",
        "\n",
        "# Poisson parameter is just the mean of the data \n",
        "par = np.nanmean(num_pd)\n",
        "plt.plot(X, poisson.pmf(X, par)*100, 'ko', markersize=5) \n",
        "plt.xlabel('Number Fires')\n",
        "plt.ylabel('Probability (%)')\n",
        "plt.show() "
      ],
      "metadata": {
        "colab": {
          "base_uri": "https://localhost:8080/",
          "height": 605
        },
        "id": "L51HTLfd19kl",
        "outputId": "f676c9ec-da42-4ec7-a84b-8b96e533783f"
      },
      "execution_count": 135,
      "outputs": [
        {
          "output_type": "display_data",
          "data": {
            "text/plain": [
              "<Figure size 1080x720 with 1 Axes>"
            ],
            "image/png": "[encoded data removed]"
          },
          "metadata": {
            "needs_background": "light"
          }
        }
      ]
    },
    {
      "cell_type": "markdown",
      "source": [
        "(1.4) We have created the simple mathematical Poisson distribution model for the number of fires on each day. Now, we will use the pmf (probability mass function) to determine the % chance of X number of fires tomorrow."
      ],
      "metadata": {
        "id": "IHSJgvno2BVb"
      }
    },
    {
      "cell_type": "code",
      "source": [
        "# What is the probability of a specific number of fires? \n",
        "\n",
        "y = stats.poisson.pmf(10, par)\n",
        "print(round(y*100,2)) # 0.03% chance of 10 fires\n",
        "\n",
        "y = stats.poisson.pmf(15, par)\n",
        "print(round(y*100,2)) # 0.78 % chance of 15 fires\n",
        "\n",
        "y = stats.poisson.pmf(20, par)\n",
        "print(round(y*100,2)) # 4.61 % chance of 20 fires"
      ],
      "metadata": {
        "colab": {
          "base_uri": "https://localhost:8080/"
        },
        "id": "3d1nXVc12DgJ",
        "outputId": "9d1705b1-1466-4c4f-ccc5-54806911af7a"
      },
      "execution_count": 136,
      "outputs": [
        {
          "output_type": "stream",
          "name": "stdout",
          "text": [
            "0.03\n",
            "0.78\n",
            "4.61\n"
          ]
        }
      ]
    },
    {
      "cell_type": "markdown",
      "source": [
        "(1.5) This information is not incredibly useful because you it's just for specifically 10, 15 fires, etc., and not a range of fire numbers. Let's check probabilities for less than a certain number of fires occurring. This can gives us an idea of upper and lower bounds for fire numbers. We can do this using the cumulative distribution function (cdf)."
      ],
      "metadata": {
        "id": "H_aVhg4I2JxU"
      }
    },
    {
      "cell_type": "code",
      "source": [
        "y = poisson.cdf(10, par)\n",
        "print(round(y*100,2)) # 0.04 % chance of <= 10 fires\n",
        "\n",
        "y = poisson.cdf(15, par)\n",
        "print(round(y*100,2)) # 1.73 % chance of <= 15 fires\n",
        "\n",
        "y = poisson.cdf(20, par)\n",
        "print(round(y*100,2)) # 15.76 % chance of <= 20 fires "
      ],
      "metadata": {
        "colab": {
          "base_uri": "https://localhost:8080/"
        },
        "id": "6FNvnsHO2L3X",
        "outputId": "b62daca1-a72d-49b0-9729-8b05e358c488"
      },
      "execution_count": 137,
      "outputs": [
        {
          "output_type": "stream",
          "name": "stdout",
          "text": [
            "0.04\n",
            "1.73\n",
            "15.76\n"
          ]
        }
      ]
    },
    {
      "cell_type": "markdown",
      "source": [
        "(1.6) Using a probability distribution to get the likelihood of an event (that next year X fires will happen tomorrow in Canada)\n",
        "\n",
        "But your supervisor asked you to get the most likely number of fires occurring on any given day (e.g. tomorrow). We haven't done that yet! It is the \"top\" of the probability mass function."
      ],
      "metadata": {
        "id": "Fdc8FDGm2Qkg"
      }
    },
    {
      "cell_type": "code",
      "source": [
        "test_numbers = np.arange(0,np.nanmax(num_pd)+1)\n",
        "par = np.nanmean(num_pd)\n",
        "probabilities = poisson.pmf(test_numbers, par)\n",
        "max_prob = list(probabilities).index(np.nanmax(probabilities))\n",
        "most_prob_numf = test_numbers[max_prob]\n",
        "percent = probabilities[max_prob]\n",
        "print('The most probable number of fires is: %s with a probability of %s percent'\n",
        "%(most_prob_numf, round(percent*100)))"
      ],
      "metadata": {
        "colab": {
          "base_uri": "https://localhost:8080/"
        },
        "id": "9SC5xOxT2QOk",
        "outputId": "4db002d1-42a0-42cf-ecf5-b82f7bc13506"
      },
      "execution_count": 138,
      "outputs": [
        {
          "output_type": "stream",
          "name": "stdout",
          "text": [
            "The most probable number of fires is: 25 with a probability of 8 percent\n"
          ]
        }
      ]
    },
    {
      "cell_type": "markdown",
      "source": [
        "That corresponds well to the probability mass function plotted above. Our answer to the supervisor is that it is most likely that there will be 25 fires in Canada tomorrow, but that they should be skeptical of this estimate because it does not take into account factors such as weather and spatial variation across Canada. "
      ],
      "metadata": {
        "id": "1hvHNwtZ3c5D"
      }
    },
    {
      "cell_type": "markdown",
      "source": [
        "(2) Now, let's see how to do this in R: "
      ],
      "metadata": {
        "id": "vF3mlAZQ4kIs"
      }
    },
    {
      "cell_type": "code",
      "source": [
        "%%capture\n",
        "#Set up the Colab Notebook for R\n",
        "\n",
        "%load_ext rpy2.ipython "
      ],
      "metadata": {
        "id": "M-YbrUvX4nok"
      },
      "execution_count": 139,
      "outputs": []
    },
    {
      "cell_type": "markdown",
      "source": [
        "(2.1) Making the histogram: "
      ],
      "metadata": {
        "id": "qxdotwIi6SJ8"
      }
    },
    {
      "cell_type": "code",
      "source": [
        "%%R\n",
        "\n",
        "#The cells do not communicate well between R and Python. Here is just the number of fires\n",
        "#on each day (num_pd) from above\n",
        "num_pd_R <-  c(35, 31, 17, 20, 22, 13, 19, 28, 26, 15, 8, 18, 48, 32, 28, 29, 33, 26, 27, \n",
        "        23, 27, 26, 21, 22, 30, 33, 20, 11, 15, 42, 45, 25, 15, 13, 19, 22, 28, 29, \n",
        "        17, 25, 20, 14, 17, 28, 14, 42, 37, 59, 50, 34, 33, 38, 59, 98, 35, 24, 51, \n",
        "        28, 19, 26, 17, 37, 41, 32, 40, 74, 23, 26, 16, 15, 22, 19, 22, 15, 20, 23, \n",
        "        10, 14, 18, 14, 18, 23, 12, 9, 10, 23, 12, 15, 17, 7, 3, 10, 12)\n",
        "\n",
        "hist(num_pd_R, breaks = 15)"
      ],
      "metadata": {
        "colab": {
          "base_uri": "https://localhost:8080/",
          "height": 497
        },
        "id": "QyrhnfIg4wLn",
        "outputId": "3d2cec00-6a93-45b3-c377-327a4cc932bb"
      },
      "execution_count": 140,
      "outputs": [
        {
          "output_type": "display_data",
          "data": {
            "image/png": "[encoded data removed]"
          },
          "metadata": {}
        }
      ]
    },
    {
      "cell_type": "markdown",
      "source": [
        "(2.2) Fit a Poisson distribution: "
      ],
      "metadata": {
        "id": "kRopoXNl6Uwq"
      }
    },
    {
      "cell_type": "code",
      "source": [
        "%%R\n",
        "num_pd_R <-  c(35, 31, 17, 20, 22, 13, 19, 28, 26, 15, 8, 18, 48, 32, 28, 29, 33, 26, 27, \n",
        "        23, 27, 26, 21, 22, 30, 33, 20, 11, 15, 42, 45, 25, 15, 13, 19, 22, 28, 29, \n",
        "        17, 25, 20, 14, 17, 28, 14, 42, 37, 59, 50, 34, 33, 38, 59, 98, 35, 24, 51, \n",
        "        28, 19, 26, 17, 37, 41, 32, 40, 74, 23, 26, 16, 15, 22, 19, 22, 15, 20, 23, \n",
        "        10, 14, 18, 14, 18, 23, 12, 9, 10, 23, 12, 15, 17, 7, 3, 10, 12)\n",
        "library(MASS)\n",
        "pmf<-fitdistr(num_pd_R, densfun=\"poisson\")\n",
        "print(pmf[1]) # This is the Poisson parameter "
      ],
      "metadata": {
        "colab": {
          "base_uri": "https://localhost:8080/"
        },
        "id": "HHyUVecq6QX_",
        "outputId": "096ce7f3-1157-4812-8ba4-a61fb1465728"
      },
      "execution_count": 141,
      "outputs": [
        {
          "output_type": "stream",
          "name": "stdout",
          "text": [
            "$estimate\n",
            "  lambda \n",
            "25.56989 \n",
            "\n"
          ]
        }
      ]
    },
    {
      "cell_type": "code",
      "source": [
        "%%R\n",
        "eq <- function(x){dpois(x, lambda=25.56989)*100}\n",
        "curve(eq, from=0, to=100, xlab=\"x\", ylab=\"y\")"
      ],
      "metadata": {
        "colab": {
          "base_uri": "https://localhost:8080/",
          "height": 497
        },
        "id": "F4qFZUWR7s--",
        "outputId": "97631f71-c4cc-4ac0-9eb1-3488bd31d2a3"
      },
      "execution_count": 142,
      "outputs": [
        {
          "output_type": "display_data",
          "data": {
            "image/png": "[encoded data removed]"
          },
          "metadata": {}
        }
      ]
    },
    {
      "cell_type": "markdown",
      "source": [
        "(2.3) We have created the simple mathematical Poisson distribution model for the number of fires on each day in R. Now, we will use the pmf (probability mass function) to determine the % chance of X number of fires tomorrow. We see that our answer is the same as we got using Python: "
      ],
      "metadata": {
        "id": "zr_yP3mK89K-"
      }
    },
    {
      "cell_type": "code",
      "source": [
        "%%R\n",
        "\n",
        "calc_pmf <- function(x){dpois(x, lambda=25.56989)*100}\n",
        "\n",
        "print(calc_pmf(10)) #Probability of 10 fires\n",
        "print(calc_pmf(15))\n",
        "print(calc_pmf(20))"
      ],
      "metadata": {
        "colab": {
          "base_uri": "https://localhost:8080/"
        },
        "id": "gN2aJ1m-9KqQ",
        "outputId": "90b96ece-7309-4fde-a5aa-8f66570a5fe1"
      },
      "execution_count": 143,
      "outputs": [
        {
          "output_type": "stream",
          "name": "stdout",
          "text": [
            "[1] 0.02586208\n",
            "[1] 0.7844606\n",
            "[1] 4.608827\n"
          ]
        }
      ]
    },
    {
      "cell_type": "markdown",
      "source": [
        "(1.5) Now, let's create the cumulative distribution function (cdf) in R. We also get the same answers as Python. "
      ],
      "metadata": {
        "id": "L1xCEM7f_Vi4"
      }
    },
    {
      "cell_type": "code",
      "source": [
        "%%R\n",
        "\n",
        "calc_cdf <- function(x){ppois(x, lambda=25.56989)*100}\n",
        "\n",
        "print(calc_cdf(10)) # Chance of <= 10 fires\n",
        "print(calc_cdf(15))\n",
        "print(calc_cdf(20))"
      ],
      "metadata": {
        "colab": {
          "base_uri": "https://localhost:8080/"
        },
        "id": "A-fQ1GVM92iI",
        "outputId": "b9158ee6-f8f2-41ee-9d92-5c7ea43044b7"
      },
      "execution_count": 144,
      "outputs": [
        {
          "output_type": "stream",
          "name": "stdout",
          "text": [
            "[1] 0.04104306\n",
            "[1] 1.725867\n",
            "[1] 15.75754\n"
          ]
        }
      ]
    },
    {
      "cell_type": "markdown",
      "source": [
        "(1.6) How do we calculate the most likely number of fires tomorrow in R? "
      ],
      "metadata": {
        "id": "RdgCsrgmAPEc"
      }
    },
    {
      "cell_type": "code",
      "source": [
        "%%R\n",
        "eq <- function(x){dpois(x, lambda=25.56989)*100}\n",
        "test_num <- seq(from = 0, to = 100, by = 1)\n",
        "initialize <- seq(0,0,length.out=101)\n",
        "for(i in test_num){\n",
        "    y <- eq(i)\n",
        "    initialize[i] = y\n",
        "}\n",
        "print(max(initialize))\n",
        "print(which(initialize == max(initialize)))"
      ],
      "metadata": {
        "colab": {
          "base_uri": "https://localhost:8080/"
        },
        "id": "W11kBqZ2ATuD",
        "outputId": "cff1020f-a355-460f-9883-2bbbbb28904f"
      },
      "execution_count": 145,
      "outputs": [
        {
          "output_type": "stream",
          "name": "stdout",
          "text": [
            "[1] 7.901575\n",
            "[1] 25\n"
          ]
        }
      ]
    },
    {
      "cell_type": "markdown",
      "source": [
        "Same as Python, as it should be!"
      ],
      "metadata": {
        "id": "dC7m7y4X5ec0"
      }
    },
    {
      "cell_type": "markdown",
      "source": [
        "(3) Now, what if we want to simulate number of fires on a given day? \n",
        "\n",
        "(3.1) Generate a pseudo-random number"
      ],
      "metadata": {
        "id": "mo9u-H4J6Iwk"
      }
    },
    {
      "cell_type": "code",
      "source": [
        "def gen_rand():\n",
        "    '''\n",
        "    Use random's randint to generate a pseudo-random integer between 0-99\n",
        "    Parameters\n",
        "    ----------\n",
        "    Returns\n",
        "    ----------\n",
        "    int\n",
        "        a pseudo-random integer\n",
        "    '''\n",
        "    return randint(0,99)\n",
        "\n",
        "gen_rand()"
      ],
      "metadata": {
        "colab": {
          "base_uri": "https://localhost:8080/"
        },
        "id": "-K1KJ1cm8IIC",
        "outputId": "3fd29aff-af1f-420e-e455-68b57a3be96a"
      },
      "execution_count": 146,
      "outputs": [
        {
          "output_type": "execute_result",
          "data": {
            "text/plain": [
              "98"
            ]
          },
          "metadata": {},
          "execution_count": 146
        }
      ]
    },
    {
      "cell_type": "markdown",
      "source": [
        "(3.2) As discussed in the lecture, we can use this to simulate the number of fires on a given day. NumPy in Python has a built-in function to do this for us, so you do not actually have to use our special random number generator. "
      ],
      "metadata": {
        "id": "GFQ7HcOu9YJy"
      }
    },
    {
      "cell_type": "code",
      "source": [
        "rng = np.random.default_rng()\n",
        "num_fires = rng.poisson(lam=par, size=1000)\n",
        "print(num_fires)"
      ],
      "metadata": {
        "colab": {
          "base_uri": "https://localhost:8080/"
        },
        "id": "cz3OeXM59V6B",
        "outputId": "18433d3f-4f78-42ac-fd38-077f84b829c9"
      },
      "execution_count": 147,
      "outputs": [
        {
          "output_type": "stream",
          "name": "stdout",
          "text": [
            "[31 16 27 24 29 29 25 26 22 25 31 29 30 17 18 25 16 17 21 16 25 19 26 18\n",
            " 27 26 23 21 25 25 25 31 34 35 31 19 19 28 23 27 23 20 29 24 28 22 23 19\n",
            " 31 35 28 37 27 21 23 27 26 25 24 34 16 30 24 32 36 30 23 25 31 19 27 26\n",
            " 31 30 21 21 20 34 21 15 23 25 20 33 22 29 22 27 17 32 28 22 18 20 25 22\n",
            " 27 29 26 22 31 26 20 35 25 20 31 30 17 26 27 24 24 20 18 23 23 17 23 24\n",
            " 20 22 32 23 25 24 28 24 20 24 24 28 28 24 31 22 25 17 21 28 22 22 28 32\n",
            " 23 43 35 23 24 28 23 29 24 18 30 34 27 27 37 27 28 17 19 24 24 21 21 27\n",
            " 26 29 27 20 27 17 23 28 21 27 32 28 24 29 20 33 26 38 41 27 22 27 30 23\n",
            " 27 18 27 26 16 25 30 21 28 27 22 37 29 26 33 26 19 28 28 26 33 32 16 21\n",
            " 14 35 23 24 24 33 24 30 27 24 26 21 34 26 30 28 21 22 30 17 29 14 32 15\n",
            " 23 24 15 20 31 27 14 23 26 28 25 28 21 25 26 25 24 27 25 25 37 33 15 21\n",
            " 28 31 27 31 29 26 35 19 27 23 19 27 31 32 23 40 15 26 25 22 30 29 23 27\n",
            " 33 22 18 26 35 19 23 29 31 29 22 22 26 20 25 16 18 17 23 22 20 22 21 22\n",
            " 26 25 19 26 27 32 20 19 21 18 25 28 23 20 26 30 28 20 28 25 25 27 27 17\n",
            " 31 29 17 28 25 24 28 33 27 26 27 27 18 33 26 21 28 23 24 41 22 19 29 25\n",
            " 28 16 31 29 19 27 28 29 22 31 23 24 21 31 30 24 28 31 27 23 23 19 24 29\n",
            " 21 21 23 25 26 31 28 20 33 20 20 15 26 21 27 36 29 29 28 22 13 26 27 25\n",
            " 32 35 18 29 34 28 25 26 22 37 24 32 30 25 22 26 30 22 21 23 18 22 16 20\n",
            " 25 27 37 24 30 27 27 23 32 25 22 27 33 25 21 33 24 31 21 21 31 24 26 30\n",
            " 31 17 23 18 27 28 28 21 25 36 29 23 27 39 21 28 30 26 26 24 31 30 25 21\n",
            " 26 28 22 20 23 41 27 16 23 24 19 29 22 27 17 25 27 31 28 22 19 26 27 30\n",
            " 31 18 30 22 30 30 33 26 28 31 22 20 26 18 27 27 32 27 19 31 24 28 19 27\n",
            " 32 23 27 20 25 37 29 22 34 19 24 25 30 20 25 18 33 34 26 22 27 24 14 21\n",
            " 26 16 25 25 25 22 33 24 26 31 23 26 30 29 35 26 25 24 23 22 48 28 33 26\n",
            " 26 24 22 20 23 27 30 16 22 27 21 27 29 31 19 31 28 16 29 23 23 36 29 31\n",
            " 30 20 25 31 21 22 26 21 24 32 30 18 20 20 21 33 28 23 23 15 28 22 31 30\n",
            " 24 23 26 31 21 25 21 21 33 34 28 22 24 21 21 23 24 30 32 24 25 27 20 17\n",
            " 25 31 23 26 18 29 28 32 23 16 25 26 21 23 25 18 22 28 27 25 26 38 29 20\n",
            " 38 29 27 33 36 25 21 22 28 27 22 27 27 24 23 23 38 21 18 25 38 24 25 29\n",
            " 26 26 24 26 19 29 18 25 19 25 23 26 27 27 21 20 22 24 24 28 18 32 31 31\n",
            " 28 27 25 22 22 33 25 25 22 26 29 29 31 28 23 23 33 17 31 30 30 31 31 36\n",
            " 21 28 27 30 21 22 25 27 20 27 23 21 20 18 25 26 26 23 31 27 26 22 21 27\n",
            " 26 28 32 21 35 31 26 24 35 27 23 26 29 35 27 28 25 25 22 25 31 23 27 27\n",
            " 27 19 32 23 30 20 21 30 30 31 17 30 27 24 18 28 36 24 26 23 24 20 25 20\n",
            " 27 32 26 29 17 27 31 23 26 21 25 22 30 26 26 27 29 25 23 23 23 24 27 21\n",
            " 24 18 25 27 26 22 28 31 31 14 18 16 34 22 24 24 35 30 26 22 27 34 34 32\n",
            " 25 22 23 33 27 27 21 29 17 25 36 30 24 26 24 26 25 16 16 32 23 23 22 37\n",
            " 30 26 21 28 23 30 22 23 28 24 26 23 25 22 32 23 18 19 25 34 19 27 26 24\n",
            " 16 25 29 23 26 28 17 24 19 33 29 28 27 33 21 23 26 20 26 35 15 34 22 25\n",
            " 28 20 16 21 19 26 33 31 30 27 32 28 26 27 26 28 30 23 20 25 32 28 20 27\n",
            " 32 26 19 21 22 24 36 24 21 27 26 33 36 29 25 30 28 25 30 29 34 27 29 22\n",
            " 24 23 26 20 36 24 36 19 26 24 28 23 18 30 32 25]\n"
          ]
        }
      ]
    },
    {
      "cell_type": "markdown",
      "source": [
        "What does this look like? "
      ],
      "metadata": {
        "id": "6gaKBksRCfPl"
      }
    },
    {
      "cell_type": "code",
      "source": [
        "plt.hist(num_fires,bins=15)\n",
        "plt.show()"
      ],
      "metadata": {
        "colab": {
          "base_uri": "https://localhost:8080/",
          "height": 592
        },
        "id": "44pJx_PVCg2r",
        "outputId": "c239a2c6-a26c-480e-d1ca-78c248a9db1d"
      },
      "execution_count": 148,
      "outputs": [
        {
          "output_type": "display_data",
          "data": {
            "text/plain": [
              "<Figure size 1080x720 with 1 Axes>"
            ],
            "image/png": "[encoded data removed]"
          },
          "metadata": {
            "needs_background": "light"
          }
        }
      ]
    },
    {
      "cell_type": "markdown",
      "source": [
        "(4) How would we do this in R? \n",
        "\n",
        "(4.1) Now, generate a pseudo-random number in R: "
      ],
      "metadata": {
        "id": "43AfMgmYD42u"
      }
    },
    {
      "cell_type": "code",
      "source": [
        "%%R\n",
        "floor(runif(1, min=0, max=101))"
      ],
      "metadata": {
        "colab": {
          "base_uri": "https://localhost:8080/"
        },
        "id": "kL26mfA-D7If",
        "outputId": "02476dec-088c-4fa5-94d4-0b6f733c0ed2"
      },
      "execution_count": 149,
      "outputs": [
        {
          "output_type": "stream",
          "name": "stdout",
          "text": [
            "[1] 30\n"
          ]
        }
      ]
    },
    {
      "cell_type": "markdown",
      "source": [
        "(4.2)  Using R to simulate the number of fires on a given day."
      ],
      "metadata": {
        "id": "cW9eVnJGEbE7"
      }
    },
    {
      "cell_type": "code",
      "source": [
        "%%R\n",
        "r_fire_num = rpois(1000,25.56989)"
      ],
      "metadata": {
        "id": "iizgXajaEY9y"
      },
      "execution_count": 150,
      "outputs": []
    },
    {
      "cell_type": "markdown",
      "source": [
        "What does it look like? "
      ],
      "metadata": {
        "id": "e4hgXiy2HqmA"
      }
    },
    {
      "cell_type": "code",
      "source": [
        "%%R\n",
        "hist(r_fire_num, breaks = 15)"
      ],
      "metadata": {
        "colab": {
          "base_uri": "https://localhost:8080/",
          "height": 497
        },
        "id": "RS_nsof5HtOE",
        "outputId": "fbc5f2e2-ed39-439a-ea5c-de9b1ae416df"
      },
      "execution_count": 151,
      "outputs": [
        {
          "output_type": "display_data",
          "data": {
            "image/png": "[encoded data removed]"
          },
          "metadata": {}
        }
      ]
    },
    {
      "cell_type": "markdown",
      "source": [
        "**Tutorial 8: Simulation**\n",
        "\n",
        "Part 2: Generating continuous random variables \n",
        "\n",
        "(5) Your supervisor has a new problem for you. They want to know the most likely amount of land that will burn in Ontario in the months of June, July, and August based on historical area burned data.\n",
        "\n",
        "First, we need to get our data! Let's make a function to save us time."
      ],
      "metadata": {
        "id": "tDC6F0O8JCNK"
      }
    },
    {
      "cell_type": "code",
      "source": [
        "def get_area_burned(month, province): \n",
        "  years = [] \n",
        "  areab = [] \n",
        "  df_province = df[df['SRC_AGENCY']=='ON']\n",
        "  df_month = df_province[df_province['MONTH'].isin(month)]\n",
        "  for year in list(set(df_month['YEAR'])): \n",
        "    df_year = df_month[df_month['YEAR']==year]\n",
        "    total_area_burned = sum(df_year['SIZE_HA'])/100 #Convert to km\n",
        "    years.append(year)\n",
        "    areab.append(total_area_burned)\n",
        "  return years, areab\n",
        "\n",
        "year_list,area_list = get_area_burned([7,8,9],'ON')\n",
        "plt.plot(year_list,area_list)\n",
        "plt.title('Area Burned in Ontario - June-July-August')\n",
        "plt.xlabel('year')\n",
        "plt.ylabel('area burned km^2')\n",
        "plt.show()"
      ],
      "metadata": {
        "colab": {
          "base_uri": "https://localhost:8080/",
          "height": 620
        },
        "id": "3QmbzX8_JTRc",
        "outputId": "b931ef36-543f-4458-95b3-b4ecb9a0a448"
      },
      "execution_count": 152,
      "outputs": [
        {
          "output_type": "display_data",
          "data": {
            "text/plain": [
              "<Figure size 1080x720 with 1 Axes>"
            ],
            "image/png": "[encoded data removed]"
          },
          "metadata": {
            "needs_background": "light"
          }
        }
      ]
    },
    {
      "cell_type": "markdown",
      "source": [
        "Now that we have our data, we can move on to solving our problem. There are multiple ways to do this. Why not fit a distribution, similar to before? It will be a continuous distribution instead of a discrete one, because area burned is not count data. A test for this is whether area burned can have a decimal. Obviously it can - a fire can burn 4.5 km^2. \n",
        "\n",
        "Let's fit a distribution: "
      ],
      "metadata": {
        "id": "6JZ0T8TqJl8E"
      }
    },
    {
      "cell_type": "code",
      "source": [
        "# First, let's take a look at the histogram. \n",
        "\n",
        "plt.hist(area_list, bins=5)\n",
        "plt.show()"
      ],
      "metadata": {
        "colab": {
          "base_uri": "https://localhost:8080/",
          "height": 592
        },
        "id": "VOs0aFYfJmem",
        "outputId": "5a1ee7d2-586d-4c96-a256-76a7df54c0a3"
      },
      "execution_count": 166,
      "outputs": [
        {
          "output_type": "display_data",
          "data": {
            "text/plain": [
              "<Figure size 1080x720 with 1 Axes>"
            ],
            "image/png": "[encoded data removed]"
          },
          "metadata": {
            "needs_background": "light"
          }
        }
      ]
    },
    {
      "cell_type": "markdown",
      "source": [
        "(5.1) Fitting a continuous probability distribution\n",
        "\n",
        "Looks familiar, but we cannot use Poisson here... we need to fit a continuous distribution. Different distributions have different parameters (which are used to fit them to the data), such as their mean and standard deviation. These control how the distribution looks. They are calculated differently for different continuous distributions. Wikipedia is a great resource for how this is done. You can find the information on the Wikipedia page of the distribution. Here, we will do this for the Exponential distribution. "
      ],
      "metadata": {
        "id": "RDoaDeCXJsJy"
      }
    },
    {
      "cell_type": "code",
      "source": [
        "# First, create functions to calculate the parameters of the distribution.\n",
        "\n",
        "def calc_mean_exp(rate):\n",
        "    '''\n",
        "    Calculate mean of fitted exponential distribution\n",
        "    Method from: https://en.wikipedia.org/wiki/Exponential_distribution\n",
        "    Parameters\n",
        "    ----------\n",
        "    rate : float\n",
        "        rate parameter, 1/scale (as stated on Wikipedia page)\n",
        "    Returns\n",
        "    ----------\n",
        "    float\n",
        "        mean\n",
        "    '''\n",
        "\n",
        "    mean = 1/rate\n",
        "\n",
        "    return mean\n",
        "\n",
        "def calc_stdev_exp(rate):\n",
        "    '''\n",
        "    Calculate stdev of fitted exponential distribution\n",
        "    Method from: https://en.wikipedia.org/wiki/Exponential_distribution\n",
        "    Parameters\n",
        "    ----------\n",
        "    rate : float\n",
        "        rate parameter, 1/scale (as stated on Wikipedia page)\n",
        "    Returns\n",
        "    ----------\n",
        "    float\n",
        "        stdev\n",
        "    '''\n",
        "\n",
        "    var = 1/np.power(rate,2)\n",
        "    stdev = math.sqrt(var)\n",
        "\n",
        "    return stdev"
      ],
      "metadata": {
        "id": "-_pVVjrzJxxj"
      },
      "execution_count": 154,
      "outputs": []
    },
    {
      "cell_type": "code",
      "source": [
        "def get_distribution(data):\n",
        "    '''\n",
        "    Fit the theoretical distributions\n",
        "    Method from: https://erdogant.github.io/distfit/pages/html/Performance.html#probability-density-function-fitting\n",
        "    Parameters\n",
        "    ----------\n",
        "    data : list\n",
        "        list of the data we want to fit distribution for\n",
        "    Returns\n",
        "    ----------\n",
        "    dict\n",
        "        dictionary containing information about each tested distribution \n",
        "    '''\n",
        "\n",
        "    mean = sum(list(data))/len(list(data))\n",
        "    stdev = math.sqrt(stats.describe(data)[3])\n",
        "    dict_distributions = {} \n",
        "    dict_distributions['actual data'] = [0,mean,stdev]\n",
        "\n",
        "    #Exponential\n",
        "\n",
        "    dist = distfit(distr='expon')\n",
        "    dist.fit_transform(np.array(data))\n",
        "\n",
        "    scale = dist.model['scale']\n",
        "    shape = dist.model['loc']\n",
        "    rss = dist.model['score']\n",
        "    m = calc_mean_exp(1/scale) #rate = inverse scale\n",
        "    sd = calc_stdev_exp(1/scale)\n",
        "\n",
        "    dict_distributions['exponential'] = [rss,m,sd]\n",
        "\n",
        "    return dict_distributions\n",
        "\n",
        "get_distribution(area_list)"
      ],
      "metadata": {
        "colab": {
          "base_uri": "https://localhost:8080/"
        },
        "id": "5pKCtVw6KMUV",
        "outputId": "0d6010ea-eac4-4fc7-deb0-1b55e5229df7"
      },
      "execution_count": 155,
      "outputs": [
        {
          "output_type": "stream",
          "name": "stdout",
          "text": [
            "[distfit] >fit..\n",
            "[distfit] >transform..\n",
            "[distfit] >[expon] [0.00 sec] [RSS: 0.0000205] [loc=0.492 scale=620.635]\n",
            "[distfit] >Compute confidence interval [parametric]\n"
          ]
        },
        {
          "output_type": "execute_result",
          "data": {
            "text/plain": [
              "{'actual data': [0, 621.1272500278816, 1036.7404192077076],\n",
              " 'exponential': [2.0535497974080776e-05, 620.6352500245738, 620.6352500245738]}"
            ]
          },
          "metadata": {},
          "execution_count": 155
        }
      ]
    },
    {
      "cell_type": "markdown",
      "source": [
        "(5.2) Let's visualize this: "
      ],
      "metadata": {
        "id": "6F9DLVwEK-tT"
      }
    },
    {
      "cell_type": "code",
      "source": [
        "def plot_hist_and_distributions(data):\n",
        "    '''\n",
        "    Make the graph of the different theoretical distributions\n",
        "    Information from: https://docs.scipy.org/doc/scipy/reference/generated/scipy.stats.weibull_min.html\n",
        "    & https://stackoverflow.com/questions/33811353/histogram-fitting-with-python\n",
        "    Parameters\n",
        "    ----------\n",
        "    data : list\n",
        "        list of area burned data\n",
        "    '''\n",
        "    idict = get_distribution(data)\n",
        "\n",
        "    data = np.array(data)\n",
        "    \n",
        "    fig, ax = plt.subplots(2, sharey=True,sharex=True)\n",
        "    plt.rcParams['figure.figsize'] = [15,10]\n",
        "\n",
        "    ax[0].hist(data, density=True, bins=8,color='#4DB6AC')  # density=False would make counts\n",
        "    ax[0].set_ylabel('Probability')\n",
        "    ax[0].set_xlabel('Area burned (km^2)')\n",
        "    m1 = round(idict['actual data'][1],1)\n",
        "    s1 = round(idict['actual data'][2],1)\n",
        "    ax[0].set_title('Data: mean %s stdev %s'%(m1,s1))\n",
        "    ax[0].yaxis.set_major_formatter(FormatStrFormatter('%.2f'))\n",
        "\n",
        "\n",
        "    ax[1].hist(data, density=True, bins=8,color='#4DB6AC')  # density=False would make counts\n",
        "    x = np.linspace(0,np.max(data), 1000)\n",
        "    mod = stats.expon.fit(data)\n",
        "    y = stats.expon.pdf(x, *mod)\n",
        "    ax[1].plot(x,y,color='#5C6BC0')\n",
        "\n",
        "    ax[1].set_xlabel('Area burned (km^2)')\n",
        "    m1 = round(idict['exponential'][1],1)\n",
        "    s1 = round(idict['exponential'][2],1)\n",
        "    \n",
        "    ax[1].set_title('Exponential: \\nmean %s \\nstdev %s'%(m1,s1))\n",
        "\n",
        "    ax[1].yaxis.set_major_formatter(FormatStrFormatter('%.2f'))\n",
        "\n",
        "    fig.subplots_adjust(hspace=.5)\n",
        "    plt.show()\n",
        "\n",
        "plot_hist_and_distributions(area_list)"
      ],
      "metadata": {
        "colab": {
          "base_uri": "https://localhost:8080/",
          "height": 690
        },
        "id": "n0yq6UQsK9pI",
        "outputId": "22ed6517-9665-4de7-ee50-29ef5e265038"
      },
      "execution_count": 171,
      "outputs": [
        {
          "output_type": "stream",
          "name": "stdout",
          "text": [
            "[distfit] >fit..\n",
            "[distfit] >transform..\n",
            "[distfit] >[expon] [0.00 sec] [RSS: 0.0000205] [loc=0.492 scale=620.635]\n",
            "[distfit] >Compute confidence interval [parametric]\n"
          ]
        },
        {
          "output_type": "display_data",
          "data": {
            "text/plain": [
              "<Figure size 1080x720 with 2 Axes>"
            ],
            "image/png": "[encoded data removed]"
          },
          "metadata": {
            "needs_background": "light"
          }
        }
      ]
    },
    {
      "cell_type": "markdown",
      "source": [
        "The distribution is an approximation of the real data. \n",
        "\n",
        "(5.2) How do we sample numbers from the distribution we've fit? Easy! Same as we've done before. "
      ],
      "metadata": {
        "id": "ixwBBuzJQsM7"
      }
    },
    {
      "cell_type": "code",
      "source": [
        "random_sample = [round(x, 2) for x in np.random.exponential(620.6352500245738, size=1000)]\n",
        "print(random_sample)"
      ],
      "metadata": {
        "colab": {
          "base_uri": "https://localhost:8080/"
        },
        "id": "ZrpJ0O_DRLPv",
        "outputId": "c1881c55-c6df-4765-d0fa-2209062ff1d8"
      },
      "execution_count": 157,
      "outputs": [
        {
          "output_type": "stream",
          "name": "stdout",
          "text": [
            "[135.86, 1395.37, 803.38, 1528.3, 1698.96, 423.64, 893.01, 170.79, 70.17, 214.35, 929.24, 1122.42, 44.34, 1064.37, 278.03, 2511.07, 188.65, 510.62, 94.35, 2056.33, 1749.23, 711.58, 511.49, 43.48, 18.63, 154.95, 873.99, 1065.61, 1412.96, 995.02, 581.67, 2239.1, 51.74, 342.02, 116.4, 56.84, 114.45, 1133.34, 94.28, 83.31, 356.71, 722.8, 429.65, 57.36, 151.56, 466.8, 3.4, 1342.16, 821.56, 1145.16, 2609.42, 426.78, 484.96, 403.14, 256.0, 750.02, 1053.67, 3196.73, 215.36, 537.38, 277.3, 634.77, 262.09, 78.18, 525.5, 294.08, 379.38, 1015.65, 834.79, 605.74, 1394.68, 570.65, 45.79, 112.91, 375.43, 3218.18, 156.55, 2292.12, 11.09, 402.72, 543.47, 275.52, 598.28, 171.49, 281.76, 1594.02, 247.68, 754.42, 393.68, 852.42, 171.97, 1668.13, 86.1, 3599.68, 1644.42, 622.65, 559.45, 665.59, 263.88, 694.53, 245.9, 1206.1, 1255.96, 2161.23, 1365.06, 197.06, 483.07, 90.54, 803.7, 117.01, 854.94, 138.18, 459.01, 395.75, 522.46, 149.27, 697.16, 743.75, 716.05, 1305.84, 30.28, 2565.9, 619.11, 839.33, 1874.89, 178.27, 1060.53, 298.68, 543.14, 614.85, 33.8, 506.48, 103.71, 124.77, 774.29, 1567.57, 1677.11, 250.07, 2085.9, 692.76, 446.67, 281.58, 1867.54, 1713.63, 1313.59, 447.02, 116.67, 808.08, 1815.2, 105.81, 978.36, 1245.82, 1259.04, 301.92, 910.01, 562.64, 565.78, 250.06, 162.84, 178.24, 1404.77, 454.05, 184.7, 2782.46, 145.67, 197.52, 864.71, 51.39, 551.47, 223.77, 715.0, 757.93, 1641.75, 937.21, 1169.15, 437.33, 347.26, 1094.84, 88.89, 13.45, 775.91, 179.43, 1825.48, 529.35, 452.44, 391.39, 335.71, 1049.33, 958.87, 52.09, 576.75, 10.1, 50.56, 2019.43, 836.84, 350.5, 238.82, 249.25, 544.43, 338.16, 572.47, 267.4, 632.68, 990.19, 60.88, 1921.3, 439.61, 201.35, 134.38, 1020.27, 812.67, 669.04, 186.88, 407.57, 976.45, 1340.66, 933.16, 8.98, 958.73, 455.13, 88.04, 264.76, 891.38, 60.15, 532.6, 1809.86, 793.41, 1087.0, 68.09, 26.58, 470.34, 369.03, 19.75, 219.35, 1504.65, 536.9, 31.34, 284.16, 248.95, 734.86, 574.25, 1502.51, 129.04, 1598.69, 122.37, 55.21, 298.02, 565.72, 2553.73, 123.57, 131.13, 113.72, 803.56, 380.37, 549.72, 136.56, 858.4, 2464.24, 1472.4, 179.56, 1745.71, 69.84, 136.93, 666.56, 1079.0, 120.33, 330.69, 341.17, 198.59, 249.84, 1053.87, 1040.02, 189.48, 1247.92, 2456.74, 892.37, 719.04, 2045.15, 465.32, 377.87, 479.61, 754.27, 63.28, 507.07, 792.21, 22.11, 32.0, 32.16, 298.33, 649.61, 1914.95, 46.77, 917.77, 597.76, 519.9, 1062.86, 976.47, 601.74, 222.64, 19.18, 1299.03, 281.09, 233.34, 19.74, 431.36, 924.78, 969.1, 469.52, 526.43, 221.96, 1213.39, 49.94, 1185.59, 1074.7, 389.17, 122.06, 523.42, 1089.48, 219.4, 1220.53, 236.24, 82.46, 151.91, 371.2, 304.44, 1134.35, 419.14, 800.11, 58.25, 1113.18, 540.88, 53.91, 20.09, 311.58, 75.24, 64.14, 622.92, 628.66, 85.93, 42.85, 118.32, 505.55, 159.54, 133.33, 73.87, 51.9, 447.78, 491.37, 1621.45, 123.49, 676.01, 297.21, 1587.93, 743.55, 604.62, 981.06, 3476.41, 503.0, 191.48, 678.44, 144.44, 76.15, 1398.03, 1513.45, 554.82, 338.96, 739.92, 472.89, 17.86, 515.85, 312.67, 56.16, 203.85, 19.38, 905.84, 526.93, 245.96, 196.45, 1820.84, 651.44, 197.95, 435.47, 2206.38, 111.25, 654.03, 609.2, 359.91, 174.64, 912.11, 173.95, 427.59, 677.2, 567.58, 912.93, 317.81, 546.53, 769.09, 92.61, 340.05, 1268.91, 54.05, 934.94, 612.17, 1472.27, 1052.59, 1040.44, 354.54, 941.41, 505.2, 297.17, 267.82, 89.26, 37.97, 715.85, 480.41, 704.42, 29.3, 1023.58, 538.77, 971.54, 442.78, 101.19, 39.94, 624.66, 164.09, 272.43, 1718.24, 1189.93, 197.96, 302.0, 291.76, 1596.04, 44.85, 130.38, 1170.28, 29.18, 106.81, 209.08, 341.27, 190.91, 198.41, 121.36, 356.03, 686.88, 716.98, 1610.22, 373.5, 1426.7, 102.04, 365.18, 374.93, 306.03, 181.51, 2.41, 191.57, 168.12, 505.23, 286.57, 356.87, 248.31, 372.73, 1183.68, 1594.13, 408.4, 323.5, 839.81, 885.57, 58.51, 172.03, 432.14, 159.85, 218.02, 371.04, 785.66, 630.19, 112.93, 62.47, 559.97, 172.45, 759.09, 213.91, 854.71, 706.72, 889.19, 2075.78, 1631.0, 180.57, 499.76, 27.27, 230.73, 3.42, 535.14, 61.46, 789.29, 532.96, 1520.76, 47.29, 284.86, 356.25, 106.25, 28.81, 429.24, 119.71, 209.53, 15.92, 677.3, 818.22, 59.26, 737.91, 469.74, 124.25, 557.76, 1179.93, 629.92, 729.17, 78.25, 859.87, 273.82, 122.01, 4.9, 266.52, 1789.68, 575.8, 545.82, 1976.65, 271.86, 614.02, 11.08, 921.96, 956.0, 1665.6, 418.24, 135.26, 1138.49, 282.47, 234.61, 193.66, 768.86, 125.13, 350.92, 661.33, 17.5, 2394.66, 1379.0, 665.79, 137.54, 153.6, 147.71, 24.47, 1058.78, 672.1, 298.35, 832.31, 89.82, 114.73, 90.06, 87.25, 156.7, 85.79, 116.28, 814.97, 1003.6, 987.17, 29.98, 1246.78, 610.04, 1764.4, 144.64, 49.98, 843.87, 1253.39, 258.71, 345.51, 578.53, 523.63, 1093.33, 94.59, 1697.27, 79.29, 893.43, 3476.92, 504.0, 1160.4, 66.43, 18.2, 764.34, 480.25, 529.03, 693.1, 474.92, 1009.59, 128.76, 1070.83, 303.43, 711.96, 40.98, 540.75, 461.5, 2909.72, 116.82, 230.69, 235.72, 182.59, 3.28, 1599.48, 314.96, 168.79, 270.53, 379.02, 390.14, 892.12, 1351.56, 570.07, 1501.3, 133.52, 96.29, 448.92, 534.59, 1074.47, 1633.07, 158.41, 694.82, 124.47, 584.8, 1927.29, 452.92, 888.68, 0.39, 0.98, 280.49, 136.98, 397.44, 543.38, 182.91, 156.81, 524.39, 53.46, 165.63, 37.3, 431.45, 948.55, 43.19, 701.06, 301.67, 54.2, 949.69, 38.09, 1054.65, 432.98, 672.4, 21.75, 515.76, 2442.35, 137.05, 786.9, 664.96, 53.42, 186.57, 111.82, 46.89, 34.17, 187.13, 21.55, 45.1, 669.19, 1071.16, 698.78, 1884.41, 1478.56, 244.42, 829.8, 205.58, 1149.27, 1754.62, 391.98, 191.78, 121.41, 374.95, 172.56, 142.07, 657.7, 342.89, 155.07, 441.86, 444.36, 1380.29, 107.44, 131.83, 122.37, 1270.96, 228.34, 700.68, 1091.23, 612.77, 1177.06, 827.22, 889.8, 164.8, 129.53, 563.54, 78.47, 274.83, 639.86, 876.05, 437.42, 93.12, 544.69, 774.41, 311.52, 60.74, 360.64, 15.97, 45.7, 34.27, 1288.79, 53.86, 90.5, 449.8, 541.92, 220.5, 10.06, 114.43, 311.12, 775.99, 759.02, 1202.69, 238.93, 871.3, 95.4, 37.31, 146.24, 231.5, 81.81, 46.98, 554.13, 2778.24, 341.38, 1065.52, 440.38, 978.86, 1907.67, 625.87, 599.46, 189.17, 291.38, 1632.17, 1917.63, 1009.73, 550.69, 1283.78, 436.85, 628.6, 126.61, 459.88, 2483.1, 752.67, 379.67, 404.46, 623.69, 1769.11, 264.7, 205.86, 1098.78, 157.63, 718.39, 424.45, 314.5, 967.85, 92.93, 2181.32, 817.88, 631.09, 930.84, 42.45, 1134.86, 1480.54, 121.86, 47.55, 2101.82, 1262.5, 785.09, 17.47, 646.34, 483.82, 181.95, 465.25, 61.55, 536.51, 1103.96, 44.98, 421.66, 289.85, 696.31, 948.4, 353.79, 1156.36, 686.45, 1692.82, 156.54, 323.9, 385.78, 753.32, 487.69, 282.35, 91.22, 425.55, 983.65, 1343.23, 116.75, 741.65, 21.14, 47.35, 213.31, 103.29, 182.09, 146.83, 766.17, 69.08, 1381.32, 115.42, 2215.4, 1913.62, 39.58, 1477.96, 696.82, 366.52, 1427.37, 15.38, 436.64, 1332.18, 210.57, 233.44, 930.95, 132.81, 1348.02, 229.15, 407.47, 89.07, 1085.95, 52.53, 593.49, 42.44, 834.13, 1089.02, 1184.0, 1554.86, 245.97, 230.1, 967.27, 1161.61, 100.9, 477.19, 101.84, 186.1, 660.63, 604.41, 7.02, 37.35, 18.79, 327.65, 50.73, 696.35, 447.38, 956.91, 733.47, 961.12, 538.42, 613.49, 684.39, 13.57, 1360.54, 952.0, 89.37, 148.86, 437.68, 83.58, 29.62, 243.77, 59.24, 1138.1, 97.99, 50.52, 288.15, 143.75, 1384.17, 456.72, 29.48, 123.15, 1657.02, 33.37, 94.89, 1559.72, 324.39, 1.67, 905.59, 1116.58, 120.75, 1077.88, 830.84, 50.87, 215.05, 222.07, 277.88, 1946.54, 750.99, 675.21, 441.39, 143.84, 177.86, 844.72, 329.44, 593.81, 1960.33, 563.77, 2546.84, 510.47, 136.1, 776.23, 454.55, 993.71, 643.5, 195.82, 418.08, 1393.76, 394.25, 612.77, 334.1, 118.9, 286.21, 174.2, 2239.05, 1014.27, 634.55, 541.85, 1801.17, 1188.01, 937.17, 668.71, 942.69, 733.06, 198.53, 617.4, 445.04, 159.12, 201.5, 987.65, 253.28, 422.29, 289.59, 203.13, 461.72, 1550.4, 619.07, 461.3, 588.93, 204.89, 200.0, 216.5, 788.32, 1109.94, 256.77, 227.33, 586.25, 342.16, 244.31, 27.53, 1916.37, 962.31, 1029.98, 71.22, 2254.82, 377.05, 340.92, 213.0, 377.64, 778.84, 672.35, 260.43, 562.68, 127.51, 456.68, 508.8, 923.03, 113.86, 297.18, 468.73, 2006.03, 206.42, 362.6, 1110.21, 17.19, 350.92, 5.94, 559.91, 423.05, 3248.16, 101.43, 122.51, 211.15, 273.59]\n"
          ]
        }
      ]
    },
    {
      "cell_type": "code",
      "source": [
        "plt.hist(random_sample)\n",
        "plt.show()"
      ],
      "metadata": {
        "colab": {
          "base_uri": "https://localhost:8080/",
          "height": 592
        },
        "id": "wZtAnQ8WWSPn",
        "outputId": "dc74e6a2-16d5-4710-b425-0c1a72985c0f"
      },
      "execution_count": 158,
      "outputs": [
        {
          "output_type": "display_data",
          "data": {
            "text/plain": [
              "<Figure size 1080x720 with 1 Axes>"
            ],
            "image/png": "[encoded data removed]"
          },
          "metadata": {
            "needs_background": "light"
          }
        }
      ]
    },
    {
      "cell_type": "code",
      "source": [
        "print(area_list)"
      ],
      "metadata": {
        "colab": {
          "base_uri": "https://localhost:8080/"
        },
        "id": "Bfa4RR36SU0g",
        "outputId": "0295db51-1e54-4705-caa8-ed2cac769a8b"
      },
      "execution_count": 159,
      "outputs": [
        {
          "output_type": "stream",
          "name": "stdout",
          "text": [
            "[2.39, 90.09, 97.43, 51.22, 16.03, 18.99, 14.57, 47.04, 3.04, 3083.94, 56.65, 1272.2350002794656, 288.2340000357767, 9.494000024154134, 178.07500009323593, 52.79300001715081, 1565.6700001368652, 18.06500006179487, 3713.2090002170617, 955.4990000479664, 2.280000026076287, 41.85300000138578, 39.3610000194005, 1128.601000048814, 2944.4760000331235, 1730.253000027834, 1568.394000038979, 7.017000003605922, 3.1200000090893947, 36.38300000259266, 2221.6100000178208, 231.2430000115927, 126.96800003044174, 709.5690000281469, 216.67900001212908, 47.55700000874667, 48.81500002747593, 1271.5990000246304, 89.26400001324677, 2.1910000047084037, 265.86100001181507, 1373.2470000674552, 44.85900002169566, 9.300000002622403, 0.49200000330792065, 14.687000005543162, 4734.622000031454, 996.4670000256136, 267.57999999828604, 25.170000003203494, 58.51600001543674, 15.444000019058272, 914.9369999852763, 1844.386000055223, 86.97000001206939, 128.69100000000003]\n"
          ]
        }
      ]
    },
    {
      "cell_type": "markdown",
      "source": [
        "(6) Let's do this in R! First, we calculate the mean of the area burned data: \n",
        "\n",
        "❕ As a note here, we need to re-define area_list below because the Python and R cells of the Colab notebook do not communicate. "
      ],
      "metadata": {
        "id": "Obk_uLsoRm9G"
      }
    },
    {
      "cell_type": "code",
      "source": [
        "%%R\n",
        "area_list_r <- c(2.39, 90.09, 97.43, 51.22, 16.03, 18.99, 14.57, 47.04, 3.04, 3083.94, 56.65, 1272.2350002794656, 288.2340000357767, 9.494000024154134, 178.07500009323593, 52.79300001715081, 1565.6700001368652, 18.06500006179487, 3713.2090002170617, 955.4990000479664, 2.280000026076287, 41.85300000138578, 39.3610000194005, 1128.601000048814, 2944.4760000331235, 1730.253000027834, 1568.394000038979, 7.017000003605922, 3.1200000090893947, 36.38300000259266, 2221.6100000178208, 231.2430000115927, 126.96800003044174, 709.5690000281469, 216.67900001212908, 47.55700000874667, 48.81500002747593, 1271.5990000246304, 89.26400001324677, 2.1910000047084037, 265.86100001181507, 1373.2470000674552, 44.85900002169566, 9.300000002622403, 0.49200000330792065, 14.687000005543162, 4734.622000031454, 996.4670000256136, 267.57999999828604, 25.170000003203494, 58.51600001543674, 15.444000019058272, 914.9369999852763, 1844.386000055223, 86.97000001206939, 128.69100000000003)\n",
        "fitted_parameters <- fitdistr(area_list_r, \"exponential\") \n",
        "print(fitted_parameters[1])"
      ],
      "metadata": {
        "colab": {
          "base_uri": "https://localhost:8080/"
        },
        "id": "8FYupweTRucv",
        "outputId": "ed33fd5c-32ea-4be0-ceaa-a53db6c62bef"
      },
      "execution_count": 160,
      "outputs": [
        {
          "output_type": "stream",
          "name": "stdout",
          "text": [
            "$estimate\n",
            "       rate \n",
            "0.001609976 \n",
            "\n"
          ]
        }
      ]
    },
    {
      "cell_type": "markdown",
      "source": [
        "(6.1) Now that we have rate, we calculate the mean (same as standard deviation) as: "
      ],
      "metadata": {
        "id": "TsmrJaN-SuYZ"
      }
    },
    {
      "cell_type": "code",
      "source": [
        "%%R\n",
        "mean <- 1/0.001609976 \n",
        "print(mean)"
      ],
      "metadata": {
        "colab": {
          "base_uri": "https://localhost:8080/"
        },
        "id": "QoQv_sBVSyu2",
        "outputId": "d841ab64-ca08-4d0a-adbe-b927afbc0e4c"
      },
      "execution_count": 161,
      "outputs": [
        {
          "output_type": "stream",
          "name": "stdout",
          "text": [
            "[1] 621.1273\n"
          ]
        }
      ]
    },
    {
      "cell_type": "markdown",
      "source": [
        "Same as Python, as expected!\n",
        "\n",
        "(6.2) Let's sample 1000 values from the fitted exponential distribution: "
      ],
      "metadata": {
        "id": "8EKI-qKtS8wC"
      }
    },
    {
      "cell_type": "code",
      "source": [
        "%%R\n",
        "area_burned <- rexp(1000, 1/621.1273)\n",
        "hist(area_burned)"
      ],
      "metadata": {
        "colab": {
          "base_uri": "https://localhost:8080/",
          "height": 497
        },
        "id": "-j3N6_1vS-5Z",
        "outputId": "ef4d9737-a134-42ed-a247-3535aadeee27"
      },
      "execution_count": 162,
      "outputs": [
        {
          "output_type": "display_data",
          "data": {
            "image/png": "[encoded data removed]"
          },
          "metadata": {}
        }
      ]
    }
  ]
}