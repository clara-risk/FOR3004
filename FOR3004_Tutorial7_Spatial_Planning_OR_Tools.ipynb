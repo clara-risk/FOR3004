{
  "nbformat": 4,
  "nbformat_minor": 0,
  "metadata": {
    "colab": {
      "name": "FOR3004_Tutorial6_Spatial_Planning_OR_Tools.ipynb",
      "provenance": []
    },
    "kernelspec": {
      "name": "python3",
      "display_name": "Python 3"
    },
    "language_info": {
      "name": "python"
    }
  },
  "cells": [
    {
      "cell_type": "markdown",
      "source": [
        "**FOR3004 Tutorial 7: Integer Programming for Spatial Planning in LINGO & Google OR-Tools**\n",
        "\n",
        "Tutorial Problem: The Forest Management Unit (FMU) has asked you to design a timber harvesting program over 3 time steps. \n",
        "\n",
        "They have the following instructions for you: \n",
        "\n",
        "(1) They want a spatially-explicit solution. The FMU area is split into 9 equal parts (“stands”) on a regular grid.\n",
        "\n",
        "(2) If a stand is harvested in a time step, the stands that are Rooks-case adjacent to it cannot be harvested. \n",
        "\n",
        "(3) The stand cannot be harvested more than once but it must be harvested at least once before the end of the time steps. \n",
        "\n",
        "(4) They want to maximize the volume harvested over the time steps. \n"
      ],
      "metadata": {
        "id": "tSJb70s4s8RG"
      }
    },
    {
      "cell_type": "markdown",
      "source": [
        "(1) We need to install and import the packages we will be using. "
      ],
      "metadata": {
        "id": "f2LhyQmotVWs"
      }
    },
    {
      "cell_type": "code",
      "execution_count": 14,
      "metadata": {
        "id": "_wy7aRObszHc"
      },
      "outputs": [],
      "source": [
        "#Install the packages we need, including Google OR-Tools \n",
        "%%capture\n",
        "!pip install ortools\n",
        "!pip install pandas\n",
        "!pip install numpy\n",
        "!pip install matplotlib"
      ]
    },
    {
      "cell_type": "code",
      "source": [
        "#Here we are importing the packages we need. \n",
        "\n",
        "import pandas as pd\n",
        "from ortools.linear_solver import pywraplp\n",
        "import numpy as np\n",
        "import matplotlib.pyplot as plt\n",
        "import matplotlib\n",
        "import string"
      ],
      "metadata": {
        "id": "91-Ni3qys4Td"
      },
      "execution_count": 15,
      "outputs": []
    },
    {
      "cell_type": "markdown",
      "source": [
        "(2) We need to set up our \"knowns\" / data about our FMU. "
      ],
      "metadata": {
        "id": "p0fAtRcZtajX"
      }
    },
    {
      "cell_type": "code",
      "source": [
        "#Because we are programming in space, we need to use array format. We define an\n",
        "#array using np.array. The shape of the array is defined by brackets and commas.\n",
        "stand_ids = np.array([[1,2,3],\n",
        "                      [4,5,6],\n",
        "                      [7,8,9]])\n",
        "\n",
        "#Starting volumes m3 / ha\n",
        "stand_volumes_t1 = np.array([[150,120,110],\n",
        "                      [100,180,170],\n",
        "                      [150,145,120]]) \n",
        "#Stand volume (hypothetical) if not havested in T1 \n",
        "stand_volumes_t2 = np.array([[160,140,120],\n",
        "                      [115,190,180],\n",
        "                      [155,160,130]]) \n",
        "#Stand volume (hypothetical) if not havested in T1 or T2 \n",
        "stand_volumes_t3 = np.array([[180,170,130],\n",
        "                      [130,200,190],\n",
        "                      [160,175,140]]) "
      ],
      "metadata": {
        "id": "4jbxbr3fs5MW"
      },
      "execution_count": 16,
      "outputs": []
    },
    {
      "cell_type": "markdown",
      "source": [
        "Let's visualize what this looks like in space, so we have a better idea of what is going on. "
      ],
      "metadata": {
        "id": "XzCKUYWut_EK"
      }
    },
    {
      "cell_type": "code",
      "source": [
        "fig, ax = plt.subplots(figsize=(15, 15))\n",
        "matplotlib.rcParams.update({'font.size': 22})\n",
        "gk = plt.imshow(stand_ids,vmin=np.nanmin(stand_ids),\\\n",
        "                vmax=np.nanmax(stand_ids),cmap='Pastel1')\n",
        "c = fig.colorbar(gk)\n",
        "c.set_label('Stand ID', rotation=270,labelpad=20)\n",
        "ax.set_title('Equal Split of FMU')\n",
        "for (j,i),label in np.ndenumerate(stand_ids):\n",
        "    ax.text(i,j,label,ha='center',va='center')\n",
        "ax.set_xticks([])\n",
        "ax.set_yticks([])\n",
        "plt.show()"
      ],
      "metadata": {
        "colab": {
          "base_uri": "https://localhost:8080/",
          "height": 866
        },
        "id": "9kh_iBJZt-xW",
        "outputId": "30cae432-9e78-422c-c4c8-487e3f332cb7"
      },
      "execution_count": 17,
      "outputs": [
        {
          "output_type": "display_data",
          "data": {
            "image/png": "[encoded data removed]",
            "text/plain": [
              "<Figure size 1080x1080 with 2 Axes>"
            ]
          },
          "metadata": {
            "needs_background": "light"
          }
        }
      ]
    },
    {
      "cell_type": "markdown",
      "source": [
        "(3) We need to define some \"helper\" functions (blocks of code to complete tasks for us). Specifically, a helper function to calculate the neighbours for us. You can also find that information in the tutorial slides. "
      ],
      "metadata": {
        "id": "N9a1u94quKYH"
      }
    },
    {
      "cell_type": "code",
      "source": [
        "def calc_neighborhood(array):\n",
        "    '''Calculate and return the neighbors of each cell in the array. From: \n",
        "    https://github.com/MaxRudometkin/2d_array_neighbours/blob/master/array_neighbours.py \n",
        "    '''\n",
        "    neighbors = {} \n",
        "\n",
        "    for i in range(len(array)):\n",
        "        for j, value in enumerate(array[i]):\n",
        "\n",
        "            if i == 0 or i == len(array) - 1 or j == 0 or j == len(array[i])- 1:\n",
        "                nlist = []\n",
        "                if i != 0:\n",
        "                    nlist.append(array[i - 1][j])  \n",
        "                if j != len(array[i]) - 1:\n",
        "                    nlist.append(array[i][j + 1])  \n",
        "                if i != len(array) - 1:\n",
        "                    nlist.append(array[i + 1][j])  \n",
        "                if j != 0:\n",
        "                    nlist.append(array[i][j - 1])  \n",
        "\n",
        "            else:\n",
        "                nlist = [\n",
        "                    array[i - 1][j], \n",
        "                    array[i][j + 1],  \n",
        "                    array[i + 1][j],  \n",
        "                    array[i][j - 1]   \n",
        "                ]\n",
        "\n",
        "            neighbors[value]=  nlist\n",
        "\n",
        "    return neighbors"
      ],
      "metadata": {
        "id": "KZQFMhoRuZnC"
      },
      "execution_count": 18,
      "outputs": []
    },
    {
      "cell_type": "markdown",
      "source": [
        "(4) We need to create a dataframe (a table) with our known information - this is the one that you are seeing / have seen in the slides! "
      ],
      "metadata": {
        "id": "nyZ5olZOubom"
      }
    },
    {
      "cell_type": "code",
      "source": [
        "# Get a list of the stand id's. This looks complicated, but that's all it's\n",
        "#getting us. \n",
        "stack_arrays = list(np.hstack([stand_volumes_t1.flatten(),\\\n",
        "                               stand_volumes_t2.flatten(),\\\n",
        "                               stand_volumes_t3.flatten()]).flatten())\n",
        "\n",
        "#Initialize an empty dataframe. \n",
        "information = pd.DataFrame() \n",
        "\n",
        "#Get the time step information - also looks complicated but this is just creating\n",
        "#a list of numbers that will go in as a column in our table. \n",
        "ts1 = np.ones(stand_ids.shape)\n",
        "ts2 = np.ones(stand_ids.shape)*2\n",
        "ts3 = np.ones(stand_ids.shape)*3\n",
        "\n",
        "time_step = list(np.hstack([ts1.flatten(),ts2.flatten(),ts3.flatten()]).flatten())\n",
        "\n",
        "#Put relevant information into the dataframe / table. \n",
        "information['stand_id'] = list(np.array(list(stand_ids)*3).flatten())\n",
        "information['vol'] = stack_arrays\n",
        "information['time_step'] = time_step\n",
        "\n",
        "neighborhoods = calc_neighborhood(stand_ids)\n",
        "n_list = []\n",
        "for key in list(information['stand_id']): #Loop through the stand ids\n",
        "    n = neighborhoods[key] #Get the neighborhood from the helper function\n",
        "    n_list.append(n) #Send it to an empty list, which we will send to the dataframe\n",
        "  \n",
        "information['neighbors'] = n_list\n",
        "\n",
        "print(information)"
      ],
      "metadata": {
        "colab": {
          "base_uri": "https://localhost:8080/"
        },
        "id": "hexttl_putLy",
        "outputId": "8ebeb1f9-ee46-4cf4-b8cf-973843d4a1a4"
      },
      "execution_count": 19,
      "outputs": [
        {
          "output_type": "stream",
          "name": "stdout",
          "text": [
            "    stand_id  vol  time_step     neighbors\n",
            "0          1  150        1.0        [2, 4]\n",
            "1          2  120        1.0     [3, 5, 1]\n",
            "2          3  110        1.0        [6, 2]\n",
            "3          4  100        1.0     [1, 5, 7]\n",
            "4          5  180        1.0  [2, 6, 8, 4]\n",
            "5          6  170        1.0     [3, 9, 5]\n",
            "6          7  150        1.0        [4, 8]\n",
            "7          8  145        1.0     [5, 9, 7]\n",
            "8          9  120        1.0        [6, 8]\n",
            "9          1  160        2.0        [2, 4]\n",
            "10         2  140        2.0     [3, 5, 1]\n",
            "11         3  120        2.0        [6, 2]\n",
            "12         4  115        2.0     [1, 5, 7]\n",
            "13         5  190        2.0  [2, 6, 8, 4]\n",
            "14         6  180        2.0     [3, 9, 5]\n",
            "15         7  155        2.0        [4, 8]\n",
            "16         8  160        2.0     [5, 9, 7]\n",
            "17         9  130        2.0        [6, 8]\n",
            "18         1  180        3.0        [2, 4]\n",
            "19         2  170        3.0     [3, 5, 1]\n",
            "20         3  130        3.0        [6, 2]\n",
            "21         4  130        3.0     [1, 5, 7]\n",
            "22         5  200        3.0  [2, 6, 8, 4]\n",
            "23         6  190        3.0     [3, 9, 5]\n",
            "24         7  160        3.0        [4, 8]\n",
            "25         8  175        3.0     [5, 9, 7]\n",
            "26         9  140        3.0        [6, 8]\n"
          ]
        }
      ]
    },
    {
      "cell_type": "markdown",
      "source": [
        "(5) We need to initialize our integer programming problem using Google OR-Tools."
      ],
      "metadata": {
        "id": "_k2dIFqcvUWH"
      }
    },
    {
      "cell_type": "code",
      "source": [
        "#Choose the type of solver we want. This is SCIP, read more here: \n",
        "#https://www.scipopt.org/\n",
        "\n",
        "solver = pywraplp.Solver.CreateSolver('SCIP')\n",
        "\n",
        "# Create a list of the variables (the unknowns)\n",
        "var_list = ['x_11','x_21','x_31','x_41','x_51','x_61','x_71','x_81','x_91','x_12'\\\n",
        "            ,'x_22','x_32','x_42',\\\n",
        "            'x_52','x_62','x_72','x_82','x_92','x_13','x_23','x_33','x_43','x_53',\\\n",
        "            'x_63','x_73','x_83',\\\n",
        "            'x_93']\n",
        "\n",
        "information['var_name'] = var_list[:27] #Add a column in our table for \n",
        "                                        #variable name \n",
        "\n",
        "# Create a dictionary (a way of storing data) containing the OR-Tools object for\n",
        "#each of our variables (confusing... just how computers work)\n",
        "var_collect = {}\n",
        "\n",
        "for i in range(0, len(information)): \n",
        "    # solver.IntVar(0.0, 1, var_list[i]) --> tell computer that the variable can\n",
        "    # only be 1 or 0. \n",
        "    var_collect[var_list[i]] = solver.IntVar(0.0, 1, var_list[i]) \n",
        "            \n",
        "print(var_collect) #Print this dictionary so we can see it. \n",
        "\n",
        "locals().update(var_collect) #Turn the variables from \n",
        "                             # strings (text) to actual variables \n",
        "\n",
        "print('Number of variables =', solver.NumVariables()) #Print number of variables"
      ],
      "metadata": {
        "colab": {
          "base_uri": "https://localhost:8080/"
        },
        "id": "6UTWJP9Pv1FW",
        "outputId": "cac18f31-452d-4aab-8a8b-dcd40512b6bc"
      },
      "execution_count": 20,
      "outputs": [
        {
          "output_type": "stream",
          "name": "stdout",
          "text": [
            "{'x_11': x_11, 'x_21': x_21, 'x_31': x_31, 'x_41': x_41, 'x_51': x_51, 'x_61': x_61, 'x_71': x_71, 'x_81': x_81, 'x_91': x_91, 'x_12': x_12, 'x_22': x_22, 'x_32': x_32, 'x_42': x_42, 'x_52': x_52, 'x_62': x_62, 'x_72': x_72, 'x_82': x_82, 'x_92': x_92, 'x_13': x_13, 'x_23': x_23, 'x_33': x_33, 'x_43': x_43, 'x_53': x_53, 'x_63': x_63, 'x_73': x_73, 'x_83': x_83, 'x_93': x_93}\n",
            "Number of variables = 27\n"
          ]
        }
      ]
    },
    {
      "cell_type": "markdown",
      "source": [
        "(6) Our next step is to define the constraints. Remember, these are: (a) the adjacency constraints and (b) the harvest time step constraints. "
      ],
      "metadata": {
        "id": "PaEHr3X_w5gV"
      }
    },
    {
      "cell_type": "code",
      "source": [
        "# We need to create an index column in our original table. \n",
        "information['lookup_index'] = range(0, len(information))\n",
        "\n",
        "#List of variables, note the lack of '' because we have applied locals().update(var_collect)\n",
        "vars = [x_11,x_21,x_31,x_41,x_51,x_61,x_71,x_81,x_91,x_12\\\n",
        "            ,x_22,x_32,x_42,\\\n",
        "            x_52,x_62,x_72,x_82,x_92,x_13,x_23,x_33,x_43,x_53,\\\n",
        "            x_63,x_73,x_83,\\\n",
        "            x_93] \n",
        "\n",
        "# time step 1 \n",
        "tracker = [] #Track the constraints done so far\n",
        "time1 = information[information['time_step'] == 1.0] #Filter table for Time step 1\n",
        "for id in time1['stand_id']: #Loop through stand ids\n",
        "  df = time1[time1['stand_id'] == id] #Get record / row for stand id \n",
        "  var = vars[id-1] #Get corresponding variable name for stand id. \n",
        "  ne = df['neighbors'] #Obtain neighbours of stand. \n",
        "  constraint = [vars[i-1] for i in list(ne)[0]] #Constraint = neighbours. \n",
        "  for c in constraint: #Loop through constraints / neighbours. \n",
        "    #We don't want two of the same constraints, so make sure we haven't \n",
        "    #already created the constraint in the opposite order. \n",
        "    if [str(var),str(c)] not in tracker and [str(c),str(var)] not in tracker:\n",
        "      #Add the constraint to the Google OR-Tools solver.  \n",
        "      solver.Add(var + c <= 1)\n",
        "      #Append the constraint information to the tracker so we don't re-append it. \n",
        "      tracker.append([str(var),str(c)])\n",
        "\n",
        "# time step 2\n",
        "time1 = information[information['time_step'] == 2.0]\n",
        "for id in time1['stand_id']: \n",
        "  df = time1[time1['stand_id'] == id]\n",
        "  var = vars[id+8] #Plus 8 because of index in original table. \n",
        "  ne = df['neighbors']\n",
        "  constraint = [vars[i+8] for i in list(ne)[0]]\n",
        "  for c in constraint: \n",
        "    if [str(var),str(c)] not in tracker and [str(c),str(var)] not in tracker: \n",
        "      solver.Add(var + c <= 1)\n",
        "      tracker.append([str(var),str(c)])\n",
        "\n",
        "# time step 3 \n",
        "time1 = information[information['time_step'] == 3.0]\n",
        "time1 = time1[time1['stand_id'] <= 26]\n",
        "count = 0 \n",
        "for id in time1['stand_id']: \n",
        "  df = time1[time1['stand_id'] == id]\n",
        "  var = vars[id+17]\n",
        "  ne = df['neighbors']\n",
        "  constraint = [vars[i+17] for i in list(ne)[0]]\n",
        "  for c in constraint: \n",
        "    if [str(var),str(c)] not in tracker and [str(c),str(var)] not in tracker: \n",
        "      solver.Add(var + c <= 1)\n",
        "      tracker.append([str(var),str(c)])\n",
        "\n",
        "#Cannot harvest except in one of the time steps \n",
        "for sid in list(set(information['stand_id'])): #Loop through stand ids. \n",
        "    time1 = information[information['stand_id'] == sid] #Get all records with\n",
        "                                                        #that stand id. \n",
        "    track_cvar = [] \n",
        "    for id in time1['lookup_index']:\n",
        "      c_var = vars[id]\n",
        "      track_cvar.append(c_var)\n",
        "    solver.Add(sum(track_cvar) == 1) #Sum of those 3 stands must be 1. \n",
        "#Print number of constraints. \n",
        "print('Number of constraints =', solver.NumConstraints()) "
      ],
      "metadata": {
        "colab": {
          "base_uri": "https://localhost:8080/"
        },
        "id": "qptEM4VaxRBt",
        "outputId": "ae6177c6-72b0-4873-cb1c-e1983fb1b2f6"
      },
      "execution_count": 21,
      "outputs": [
        {
          "output_type": "stream",
          "name": "stdout",
          "text": [
            "Number of constraints = 45\n"
          ]
        }
      ]
    },
    {
      "cell_type": "markdown",
      "source": [
        "(7) Now we need to define the objective function. "
      ],
      "metadata": {
        "id": "FEzx3kpryvBP"
      }
    },
    {
      "cell_type": "code",
      "source": [
        "#Tell computer that each component of the objective function is volume * variable\n",
        "obj_collect = [i*j for i, j in zip(vars,list(information['vol']))]\n",
        "#Tell the computer to maximize the sum of these volume*variable pairs \n",
        "solver.Maximize(sum(obj_collect))"
      ],
      "metadata": {
        "id": "9Duz6-Z6yy3O"
      },
      "execution_count": 22,
      "outputs": []
    },
    {
      "cell_type": "markdown",
      "source": [
        "(8) Solve using Google OR-Tools. "
      ],
      "metadata": {
        "id": "tHwODC6BzEDS"
      }
    },
    {
      "cell_type": "code",
      "source": [
        "#Solve \n",
        "status = solver.Solve()\n",
        "\n",
        "#Get information from solver \n",
        "decision = [] \n",
        "if status == pywraplp.Solver.OPTIMAL:\n",
        "    \n",
        "    print('Objective value =', solver.Objective().Value())\n",
        "    for var in vars: \n",
        "      #Append to decision list the solution for the specific variable. \n",
        "      decision.append(abs(var.solution_value()))\n",
        "else:\n",
        "    print('The problem does not have an optimal solution.')\n",
        "\n",
        "if len(decision) > 0: \n",
        "  #Append a row to the original table IF there is an optimal solution\n",
        "  information['cut'] = decision \n",
        "\n",
        "#Here's our table. 'cut' tells us whether to harvest or not. \n",
        "print(information[['stand_id','time_step','var_name','cut']])"
      ],
      "metadata": {
        "colab": {
          "base_uri": "https://localhost:8080/"
        },
        "id": "0Lg2fVCvzDif",
        "outputId": "e804366f-4262-4f74-be11-52f8dd3a7bc3"
      },
      "execution_count": 23,
      "outputs": [
        {
          "output_type": "stream",
          "name": "stdout",
          "text": [
            "Objective value = 1420.0\n",
            "    stand_id  time_step var_name  cut\n",
            "0          1        1.0     x_11  0.0\n",
            "1          2        1.0     x_21  0.0\n",
            "2          3        1.0     x_31  0.0\n",
            "3          4        1.0     x_41  0.0\n",
            "4          5        1.0     x_51  0.0\n",
            "5          6        1.0     x_61  0.0\n",
            "6          7        1.0     x_71  0.0\n",
            "7          8        1.0     x_81  0.0\n",
            "8          9        1.0     x_91  0.0\n",
            "9          1        2.0     x_12  1.0\n",
            "10         2        2.0     x_22  0.0\n",
            "11         3        2.0     x_32  1.0\n",
            "12         4        2.0     x_42  0.0\n",
            "13         5        2.0     x_52  1.0\n",
            "14         6        2.0     x_62  0.0\n",
            "15         7        2.0     x_72  1.0\n",
            "16         8        2.0     x_82  0.0\n",
            "17         9        2.0     x_92  1.0\n",
            "18         1        3.0     x_13  0.0\n",
            "19         2        3.0     x_23  1.0\n",
            "20         3        3.0     x_33  0.0\n",
            "21         4        3.0     x_43  1.0\n",
            "22         5        3.0     x_53  0.0\n",
            "23         6        3.0     x_63  1.0\n",
            "24         7        3.0     x_73  0.0\n",
            "25         8        3.0     x_83  1.0\n",
            "26         9        3.0     x_93  0.0\n"
          ]
        }
      ]
    },
    {
      "cell_type": "markdown",
      "source": [
        "The solution is the same as we got from LINGO! Let's visualize it. "
      ],
      "metadata": {
        "id": "Bao5dimdzfoK"
      }
    },
    {
      "cell_type": "code",
      "source": [
        "fig, ax = plt.subplots(figsize=(15, 15))\n",
        "matplotlib.rcParams.update({'font.size': 22})\n",
        "new_array = np.zeros(stand_ids.shape)\n",
        "new_array[0][0] = 2\n",
        "new_array[0][1] = 3\n",
        "new_array[0][2] = 2\n",
        "new_array[1][0] = 3\n",
        "new_array[1][1] = 2\n",
        "new_array[1][2] = 3\n",
        "new_array[2][0] = 2\n",
        "new_array[2][1] = 3\n",
        "new_array[2][2] = 2\n",
        "print(new_array)\n",
        "gk = plt.imshow(new_array,vmin=0,\\\n",
        "                vmax=10,cmap='RdYlBu')\n",
        "ax.set_title('When To Harvest')\n",
        "for (j,i),label in np.ndenumerate(new_array):\n",
        "    ax.text(i,j,label,ha='center',va='center')\n",
        "\n",
        "ax.set_xticks([])\n",
        "ax.set_yticks([])\n",
        "plt.show()"
      ],
      "metadata": {
        "colab": {
          "base_uri": "https://localhost:8080/",
          "height": 928
        },
        "id": "aYdWxdo8zbt4",
        "outputId": "e5c41eec-4fd5-4980-9e7e-b4f374b55404"
      },
      "execution_count": 24,
      "outputs": [
        {
          "output_type": "stream",
          "name": "stdout",
          "text": [
            "[[2. 3. 2.]\n",
            " [3. 2. 3.]\n",
            " [2. 3. 2.]]\n"
          ]
        },
        {
          "output_type": "display_data",
          "data": {
            "image/png": "[encoded data removed]",
            "text/plain": [
              "<Figure size 1080x1080 with 1 Axes>"
            ]
          },
          "metadata": {}
        }
      ]
    },
    {
      "cell_type": "markdown",
      "source": [
        "(9) Tutorial Problem: In groups, use LINGO or Google OR-Tools to modify the result so that it accounts for an additional constraint from the FMU: \n",
        "(1) At least one stand must be harvested in each time period.\n",
        " Hint: This means that the all of the variables for each time step must add up to be >= 1."
      ],
      "metadata": {
        "id": "EuRf43HQ--jO"
      }
    },
    {
      "cell_type": "code",
      "source": [
        "#Comment out following line to see answer!\n",
        "%%capture \n",
        "#Must harvest one stand in each time step \n",
        "for ts in list(set(information['time_step'])): #Loop through time steps. \n",
        "    time1 = information[information['time_step'] == ts] #Get all records with\n",
        "                                                        #that time step. \n",
        "    track_ts = [] \n",
        "    for id in time1['lookup_index']:\n",
        "      ts_var = vars[id]\n",
        "      track_ts.append(ts_var)\n",
        "    solver.Add(sum(track_ts) >= 1) #Sum of those variables in the time step\n",
        "                                   # must be > = 1. \n",
        "\n",
        "#Solve \n",
        "status = solver.Solve()\n",
        "\n",
        "#Get information from solver \n",
        "decision = [] \n",
        "if status == pywraplp.Solver.OPTIMAL:\n",
        "    \n",
        "    print('Objective value =', solver.Objective().Value())\n",
        "    for var in vars: \n",
        "      #Append to decision list the solution for the specific variable. \n",
        "      decision.append(abs(var.solution_value()))\n",
        "else:\n",
        "    print('The problem does not have an optimal solution.')\n",
        "\n",
        "if len(decision) > 0: \n",
        "  #Append a row to the original table IF there is an optimal solution\n",
        "  information['cut'] = decision \n",
        "\n",
        "#Here's our table. 'cut' tells us whether to harvest or not. \n",
        "print(information[['stand_id','time_step','var_name','cut']])"
      ],
      "metadata": {
        "id": "2iMTuSe3_M19"
      },
      "execution_count": 25,
      "outputs": []
    },
    {
      "cell_type": "markdown",
      "source": [
        "What does the new solution look like? "
      ],
      "metadata": {
        "id": "a8VEWl7LBBUf"
      }
    },
    {
      "cell_type": "code",
      "source": [
        "fig, ax = plt.subplots(figsize=(15, 15))\n",
        "matplotlib.rcParams.update({'font.size': 22})\n",
        "new_array = np.zeros(stand_ids.shape)\n",
        "new_array[0][0] = 2\n",
        "new_array[0][1] = 3\n",
        "new_array[0][2] = 2\n",
        "new_array[1][0] = 3\n",
        "new_array[1][1] = 2\n",
        "new_array[1][2] = 3\n",
        "new_array[2][0] = 1\n",
        "new_array[2][1] = 3\n",
        "new_array[2][2] = 2\n",
        "print(new_array)\n",
        "gk = plt.imshow(new_array,vmin=0,\\\n",
        "                vmax=10,cmap='RdYlBu')\n",
        "ax.set_title('When To Harvest')\n",
        "for (j,i),label in np.ndenumerate(new_array):\n",
        "    ax.text(i,j,label,ha='center',va='center')\n",
        "\n",
        "ax.set_xticks([])\n",
        "ax.set_yticks([])\n",
        "plt.show()"
      ],
      "metadata": {
        "colab": {
          "base_uri": "https://localhost:8080/",
          "height": 928
        },
        "id": "8yzdZ_DKBAr5",
        "outputId": "45a8d9f5-d7e1-4e3d-9920-c29442b85cfe"
      },
      "execution_count": 26,
      "outputs": [
        {
          "output_type": "stream",
          "name": "stdout",
          "text": [
            "[[2. 3. 2.]\n",
            " [3. 2. 3.]\n",
            " [1. 3. 2.]]\n"
          ]
        },
        {
          "output_type": "display_data",
          "data": {
            "image/png": "[encoded data removed]",
            "text/plain": [
              "<Figure size 1080x1080 with 1 Axes>"
            ]
          },
          "metadata": {}
        }
      ]
    }
  ]
}
