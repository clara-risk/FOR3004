{
  "nbformat": 4,
  "nbformat_minor": 0,
  "metadata": {
    "colab": {
      "name": "FOR3004_graphic_simplex_tutorial.ipynb",
      "provenance": [],
      "collapsed_sections": []
    },
    "kernelspec": {
      "name": "python3",
      "display_name": "Python 3"
    },
    "language_info": {
      "name": "python"
    }
  },
  "cells": [
    {
      "cell_type": "markdown",
      "source": [
        "**FOR3004 Tutorial 2: The Graphic Simplex Method and How to Solve Linear Programming Problems in Python and Excel**\n",
        "\n",
        "This tutorial has three components. First, we will look at solving LP problems in Python using the Graphic Simplex method and SciPy. Then, we will see how to solve an LP problem in Excel. \n",
        "\n",
        "*Problem 1:* \n",
        "\n",
        "Maximize: 8x + 6y \n",
        "\n",
        "Subject to constraints: \n",
        "\n",
        "x + y <= 12\n",
        "\n",
        "2x + y <= 16\n",
        "\n",
        "2x + 3y <= 24\n",
        "\n",
        "x, y >= 0\n",
        "\n",
        "First, we will use the graphic simplex method to solve. This means solving the problem by graphing it. "
      ],
      "metadata": {
        "id": "NzIVJb7T7J8K"
      }
    },
    {
      "cell_type": "code",
      "execution_count": 7,
      "metadata": {
        "colab": {
          "base_uri": "https://localhost:8080/"
        },
        "id": "1Fsd2Byi6rVz",
        "outputId": "f8a1b062-2c5f-424f-877b-390691e0883f"
      },
      "outputs": [
        {
          "output_type": "stream",
          "name": "stdout",
          "text": [
            "Requirement already satisfied: matplotlib in /usr/local/lib/python3.7/dist-packages (3.2.2)\n",
            "Requirement already satisfied: kiwisolver>=1.0.1 in /usr/local/lib/python3.7/dist-packages (from matplotlib) (1.3.2)\n",
            "Requirement already satisfied: numpy>=1.11 in /usr/local/lib/python3.7/dist-packages (from matplotlib) (1.19.5)\n",
            "Requirement already satisfied: python-dateutil>=2.1 in /usr/local/lib/python3.7/dist-packages (from matplotlib) (2.8.2)\n",
            "Requirement already satisfied: pyparsing!=2.0.4,!=2.1.2,!=2.1.6,>=2.0.1 in /usr/local/lib/python3.7/dist-packages (from matplotlib) (3.0.7)\n",
            "Requirement already satisfied: cycler>=0.10 in /usr/local/lib/python3.7/dist-packages (from matplotlib) (0.11.0)\n",
            "Requirement already satisfied: six>=1.5 in /usr/local/lib/python3.7/dist-packages (from python-dateutil>=2.1->matplotlib) (1.15.0)\n",
            "Requirement already satisfied: numpy in /usr/local/lib/python3.7/dist-packages (1.19.5)\n",
            "Collecting scipy==1.7.3\n",
            "  Downloading scipy-1.7.3-cp37-cp37m-manylinux_2_12_x86_64.manylinux2010_x86_64.whl (38.1 MB)\n",
            "\u001b[K     |████████████████████████████████| 38.1 MB 331 kB/s \n",
            "\u001b[?25hRequirement already satisfied: numpy<1.23.0,>=1.16.5 in /usr/local/lib/python3.7/dist-packages (from scipy==1.7.3) (1.19.5)\n",
            "Installing collected packages: scipy\n",
            "  Attempting uninstall: scipy\n",
            "    Found existing installation: scipy 1.4.1\n",
            "    Uninstalling scipy-1.4.1:\n",
            "      Successfully uninstalled scipy-1.4.1\n",
            "\u001b[31mERROR: pip's dependency resolver does not currently take into account all the packages that are installed. This behaviour is the source of the following dependency conflicts.\n",
            "albumentations 0.1.12 requires imgaug<0.2.7,>=0.2.5, but you have imgaug 0.2.9 which is incompatible.\u001b[0m\n",
            "Successfully installed scipy-1.7.3\n"
          ]
        }
      ],
      "source": [
        "# First, we need to install the necessary \"packages\", basically pre-written\n",
        "# code, that will help us do this. \n",
        "\n",
        "%pip install matplotlib\n",
        "%pip install numpy\n",
        "%pip install scipy==1.7.3"
      ]
    },
    {
      "cell_type": "code",
      "source": [
        "# Now we need to import the packages\n",
        "import matplotlib.pyplot as plt\n",
        "import numpy as np \n",
        "import scipy "
      ],
      "metadata": {
        "id": "okqObVx7C99_"
      },
      "execution_count": 8,
      "outputs": []
    },
    {
      "cell_type": "code",
      "source": [
        "# First, get a list of constant numbers that we will \"feed\" to the constraint\n",
        "# equations so that the computer can plot them \n",
        "\n",
        "bounds = [-5,15,1000] \n",
        "X = np.linspace(bounds[0],bounds[1],bounds[2]) # 1000 values between -10 and 10\n"
      ],
      "metadata": {
        "id": "m__rX9adCQsX"
      },
      "execution_count": 9,
      "outputs": []
    },
    {
      "cell_type": "code",
      "source": [
        "# Now we need to plot our equations. But to do this, we need to have Y on the \n",
        "# left hand side. It's just some simple re-arranging. Hint: pretend the \n",
        "# inequality is just an = sign! For the purposes of programming, we can't just\n",
        "# name all the Y's Y, otherwise the computer will get confused. So, Y1, Y2, \n",
        "# etc. \n",
        "\n",
        "Y1 = 12-X\n",
        "Y2 = 16-2*X\n",
        "Y3 = (24/3)-(2/3)*X\n",
        "X1 = 0 \n",
        "Y4 = 0 \n",
        "\n",
        "# Plot the constraints \n",
        "plt.plot(X,Y1,label='Constraint 1',c='b')\n",
        "plt.plot(X,Y2,label='Constraint 2',c='r')\n",
        "plt.plot(X,Y3,label='Constraint 3',c='g')\n",
        "plt.axhline(X1,label='Constraint 4', c='y') # Horizontal line\n",
        "plt.axvline(Y4,label='Constraint 5',color='m') # Vertical line \n",
        "plt.legend()\n",
        "plt.show()"
      ],
      "metadata": {
        "colab": {
          "base_uri": "https://localhost:8080/",
          "height": 265
        },
        "id": "E_a5nDsTDKlp",
        "outputId": "f994e739-32d0-46ca-d963-eda379b8512c"
      },
      "execution_count": 10,
      "outputs": [
        {
          "output_type": "display_data",
          "data": {
            "image/png": "[encoded data removed]",
            "text/plain": [
              "<Figure size 432x288 with 1 Axes>"
            ]
          },
          "metadata": {
            "needs_background": "light"
          }
        }
      ]
    },
    {
      "cell_type": "code",
      "source": [
        "# Now we need to remember the constraints. The equations are inequalities, so\n",
        "# for example, for constraint 1, the feasible area is <= 12. \n",
        "\n",
        "plt.plot(X,Y1,c='k')\n",
        "plt.plot(X,Y2,c='k')\n",
        "plt.plot(X,Y3,c='k')\n",
        "plt.axhline(X1, c='k') # Horizontal line\n",
        "plt.axvline(Y4,color='k') # Vertical line \n",
        "\n",
        "# Plot feasible area for each inequality \n",
        "plt.fill_between(X,Y1,where=(X<=12)&(X>=0)&(Y1>=0),color='r',alpha=0.5,\n",
        "                label='Constraint 1') \n",
        "plt.fill_between(X,Y2,where=(X<=16)&(X>=0)&(Y2>=0),color='y',alpha=0.5,\n",
        "                 label='Constraint 2') \n",
        "plt.fill_between(X,Y3,where=(X<=48)&(X>=0)&(Y3>=0),color='b',alpha=0.5,\n",
        "                 label='Constraint 3') \n",
        "\n",
        "plt.legend()\n",
        "plt.show()"
      ],
      "metadata": {
        "colab": {
          "base_uri": "https://localhost:8080/",
          "height": 265
        },
        "id": "Im3JWr7YHQ6v",
        "outputId": "d2342265-b95c-4518-8861-9cfe8b7b9ef3"
      },
      "execution_count": 11,
      "outputs": [
        {
          "output_type": "display_data",
          "data": {
            "image/png": "[encoded data removed]",
            "text/plain": [
              "<Figure size 432x288 with 1 Axes>"
            ]
          },
          "metadata": {
            "needs_background": "light"
          }
        }
      ]
    },
    {
      "cell_type": "code",
      "source": [
        "# Now, we can see the area where all the constraints are met. It's in dark \n",
        "# purple. This means our important equations for plotting are: Y3, Y2, and X=0\n",
        "# and Y = 0. \n",
        "\n",
        "plt.plot(X,Y1,c='k')\n",
        "plt.plot(X,Y2,c='k')\n",
        "plt.plot(X,Y3,c='k')\n",
        "plt.axhline(X1, c='k') # Horizontal line\n",
        "plt.axvline(Y4,color='k') # Vertical line \n",
        "\n",
        "# Plot feasible area using points of intersection \n",
        "plt.scatter(8,0,c='k') # You can just estimate these visually \n",
        "plt.scatter(6,4,c='k')\n",
        "plt.scatter(0,8,c='k')\n",
        "plt.fill_between(X,Y2,where=(X>=0)&(Y2>=0)&(X<=8)&(Y2<=Y3),color='r',alpha=0.5,\n",
        "                label='Constraint Part 1') \n",
        "plt.fill_between(X,Y3,where=(X>=0)&(Y2>=0)&(X<=6),color='b',alpha=0.5,\n",
        "                label='Constraint Part 2') \n",
        "\n",
        "plt.legend()\n",
        "plt.show()"
      ],
      "metadata": {
        "colab": {
          "base_uri": "https://localhost:8080/",
          "height": 265
        },
        "id": "e_T68sJPMZcE",
        "outputId": "c0f6b77d-f0e3-4c5a-a091-d7758db26f8c"
      },
      "execution_count": 12,
      "outputs": [
        {
          "output_type": "display_data",
          "data": {
            "image/png": "[encoded data removed]",
            "text/plain": [
              "<Figure size 432x288 with 1 Axes>"
            ]
          },
          "metadata": {
            "needs_background": "light"
          }
        }
      ]
    },
    {
      "cell_type": "markdown",
      "source": [
        "But which of the three potential points (8,0), (6,4), and (0,8) is the solution?\n",
        "\n",
        "You can just plug them into the original equation that you want to maximize to find which one gets the largest value. \n",
        "\n",
        "So: \n",
        "\n",
        "(A) (8,0)\n",
        "\n",
        "8X + 6Y --> 8(8) + 6(0) = 64\n",
        "\n",
        "(B) (6,4)\n",
        "\n",
        "8X + 6Y --> 8(6) + 6(4) = 72\n",
        "\n",
        "(C) (0,8)\n",
        "\n",
        "8X + 6Y --> 8(0) + 6(8) = 48 \n",
        "\n",
        "Therefore, the optimal solution for maximizing 8X + 6Y is (6,4). That means that the optimal value for X is 6 and for Y is 4. \n",
        "\n",
        "You are probably now thinking that this is a very inefficient method for solving LP problems with lots of constraints or with > 3 variables (obviously hard to visualize). So, how would we solve this problem computationally? "
      ],
      "metadata": {
        "id": "yrskeNiOQV03"
      }
    },
    {
      "cell_type": "code",
      "source": [
        "# First, we need to import the linprog function from SciPy. Please see here for\n",
        "# more details: \n",
        "# https://docs.scipy.org/doc/scipy/reference/generated/scipy.optimize.linprog.html\n",
        "\n",
        "from scipy.optimize import linprog\n",
        "\n",
        "# linprog is coded for minimization by default, not maximizing. \n",
        "# The solution is to multiply the coefficients of the objective function by \n",
        "# -1 to transform the operation from minimization to maximization \n",
        "\n",
        "coefficients = [8, 6]\n",
        "inv_coefficients = [i*-1 for i in coefficients]\n",
        "\n",
        "# Now, we need to set up the inputs to the linprog function. \n",
        "\n",
        "inequality_right = [[1,1],[2,1],[2,3]] # Do not multiply by -1 \n",
        "inequality_left = [12,16,24]\n",
        "X_bound = (0, None)\n",
        "Y_bound = (0, None) \n",
        "\n",
        "# Now, we send the inputs to the function \n",
        "information = linprog(inv_coefficients, A_ub=inequality_right, \n",
        "                      b_ub=inequality_left, bounds=[X_bound, Y_bound], \n",
        "                      method='revised simplex')\n",
        "\n",
        "print(information['x'])"
      ],
      "metadata": {
        "colab": {
          "base_uri": "https://localhost:8080/"
        },
        "id": "UOPfRCeLR99n",
        "outputId": "135600a2-4a23-44ae-8b94-dc2a4a5ad287"
      },
      "execution_count": 13,
      "outputs": [
        {
          "output_type": "stream",
          "name": "stdout",
          "text": [
            "[6. 4.]\n"
          ]
        }
      ]
    },
    {
      "cell_type": "markdown",
      "source": [
        "In practice, linear programming problems are a lot more complicated than this! Let's work through a forestry example. \n",
        "\n",
        "*Problem 2:* A paper company has three mills and sells paper to four different cities. The three mills have annual production capacities of 4, 5 and 7 million tons of paper per year, respectively. The cities each require 4 million tons of paper per year. The cost of shipping a ton of paper includes a handling cost of 50 dollars, and a shipping cost of 0.05 dollars per ton kilometer. The distances from the mills to the cities  are shown in the table below. You must decide how many tons of paper should be shipped from each mill to each city\n",
        "each year, so as to satisfy customer demand and **minimize shipping costs**.\n",
        "\n",
        "Table 1: Distances from mills to cities in km. \n",
        "\n",
        "| | Sault Ste Marie  | North Bay   | Barrie   | Kingston   |\n",
        "|---:|:-------------|:-----------|:------|:------|\n",
        "| Sudbury Mill | 300  | 130       | 300   | 600     |\n",
        "| Cornwall Mill | 900  | 500    | 520   | 180     |\n",
        "| Timmins Mill | 500 | 360    | 600   | 800     |\n",
        "\n",
        "\n",
        "More complicated, but we can sort of see what the computer should be selecting - the Timmins mill should not supply Kingston. Cornwall should - it is closer. Okay, let's get this into a format that a computer can understand. \n",
        "\n",
        "(A) First, define the objective function. \n",
        "\n",
        "Let d = distance from mill to city. \n",
        "Let P = Amount of paper shipped from mill to city.\n",
        "\n",
        "Cost of shipping paper = 50 + 0.05d (Units: dollars + dollars per ton per km * km)\n",
        "\n",
        "Cost for each mill-city combination: P(50+0.05d) (Units: dollars) \n",
        "\n",
        "Objective function: \n",
        "\n",
        "Minimize cost for each mill-city combination (Z). \n",
        "\n",
        "(B) Second, calculate the coefficients. We know the distance from each mill to each city, so we can plug this into P(50+0.5d) to get just P. Let's calculate this for each combination:\n",
        "\n",
        "Table 2. Cost of shipping paper for each mill-city combination. \n",
        "\n",
        "| | Sault Ste Marie  | North Bay   | Barrie   | Kingston   |\n",
        "|---:|:-------------|:-----------|:------|:------|\n",
        "| Sudbury Mill | 50+0.05(300)=65  | 50+0.05(130)=56.6       | 50+0.05(300)=65   | 50+0.05(600)=80     |\n",
        "| Cornwall Mill | 50+0.05(900)=95  | 50+0.05(500)=75    | 50+0.05(520)=76   | 50+0.05(180)=59     |\n",
        "| Timmins Mill | 50+0.05(500)=75  | 50+0.05(360)=68    | 50+0.05(600)=80   | 50+0.05(800)=90     |\n",
        "\n",
        "This table is giving us the coefficients of the objectize function. \n",
        "\n",
        "(C) Third, create the objective function. Notice that the subscripts correspond to the first letter of the mill location and the first letter of the city name. \n",
        "\n",
        "Minimize Cost (Z) = 65$P_{ss}$ + 56.6$P_{sn}$ + 65$P_{sb}$ + 80$P_{sk}$ + 95$P_{cs}$ + 75$P_{cn}$ + 76$P_{cb}$ + 59$P_{ck}$ + 75$P_{ts}$ + 68$P_{tn}$ + 80$P_{tb}$ + 90$P_{tk}$\n",
        "\n",
        "That is our objective function. \n",
        "\n",
        "(D) Fourth, define the constraints. What are our constraints? \n",
        "\n",
        "- Annual production capacity \n",
        "\n",
        "The Sudbury Mill can only produce 4 million tons of paper per year: \n",
        "$P_{ss}$ + $P_{sn}$ + $P_{sb}$ + $P_{sk}$ <= 4\n",
        "\n",
        "The Cornwall Mill can only produce 5 million tons of paper per year: \n",
        "$P_{cs}$ + $P_{cn}$ + $P_{cb}$ + $P_{ck}$ <= 5\n",
        "\n",
        "The Timmins Mill can produce more, a maximum of 7 million tons of paper per year: \n",
        "$P_{ts}$ + $P_{tn}$ + $P_{tb}$ + $P_{tk}$ <= 7 \n",
        "\n",
        "- Demand for paper in the city that must be met \n",
        "\n",
        "The cities of Sault Ste Marie, North Bay, Barrie, and Kingston have each ordered 4 million tons of paper. You must meet this demand: \n",
        "\n",
        "$P_{ss}$ +  $P_{cs}$  + $P_{ts}$ == 4\n",
        "$P_{sn}$ +  $P_{cn}$ + $P_{tn}$ == 4\n",
        "$P_{sb}$ + $P_{cb}$ + $P_{tb}$ == 4\n",
        "$P_{sk}$ + $P_{ck}$ + $P_{tk}$ == 4\n",
        "\n",
        "- You cannot deliver \"negative\" tons of paper, so all P (amount of paper) must be positive (greater pr equal to 0) \n",
        "\n",
        "$P_{ss}$, $P_{sn}$, $P_{sb}$, $P_{sk}$ >= 0 \n",
        "\n",
        "$P_{cs}$, $P_{cn}$, $P_{cb}$, $P_{ck}$ >= 0 \n",
        "\n",
        "$P_{ts}$, $P_{tn}$, $P_{tb}$, $P_{tk}$ >= 0 \n",
        "\n",
        "Now we have all our constraints! \n",
        "\n",
        "(E) Let's send this information to the computer to find how much paper should be sent from each mill to each city. "
      ],
      "metadata": {
        "id": "HUyU_LTYT90o"
      }
    },
    {
      "cell_type": "code",
      "source": [
        "# First, make a list of the coefficients of the objective function: \n",
        "\n",
        "coefficients = [65, 56.6, 65, 80, 95, 75, 76, 59, 75, 68, 80, 90]\n",
        "\n",
        "# Then, make a list of the inequality left coefficients (all ones!)\n",
        "\n",
        "inequality_left = [[1, 1, 1, 1, 0, 0, 0, 0, 0, 0, 0, 0], \n",
        "                   [0, 0, 0, 0, 1, 1, 1, 1, 0, 0, 0, 0], \n",
        "                   [0, 0, 0, 0, 0, 0, 0, 0, 1, 1, 1, 1]]\n",
        "\n",
        "# Make a list of the right side number of the inequalities \n",
        "inequality_right = [4, 5, 7]\n",
        "\n",
        "# Set up the equality constraints list (left hand side)\n",
        "\n",
        "equality_left = [[1, 0, 0, 0, 1, 0, 0, 0, 1, 0, 0, 0], \n",
        "                 [0, 1, 0, 0, 0, 1, 0, 0, 0, 1, 0, 0], \n",
        "                 [0, 0, 1, 0, 0, 0, 1, 0, 0, 0, 1, 0],\n",
        "                 [0, 0, 0, 1, 0, 0, 0, 1, 0, 0, 0, 1]]\n",
        "\n",
        "# Make a list of the right side number of the equality \n",
        "\n",
        "equality_right = [4, 4, 4, 4]\n",
        "\n",
        "# Make a list of the bounds of each unknown P \n",
        "\n",
        "bounds_P = [(0,None)]*12 \n",
        "\n",
        "# Send to the optimizer \n",
        "information = linprog(coefficients, A_ub=inequality_left, b_ub=inequality_right, \n",
        "                      A_eq = equality_left, b_eq = equality_right,\n",
        "                      bounds=bounds_P, method='revised simplex')\n",
        "\n",
        "# Print answer \n",
        "print(information['x'])\n"
      ],
      "metadata": {
        "colab": {
          "base_uri": "https://localhost:8080/"
        },
        "id": "iM0FoI7labNJ",
        "outputId": "51060ef5-2ef9-4a9b-cf0a-e68e7b7fe8ec"
      },
      "execution_count": 14,
      "outputs": [
        {
          "output_type": "stream",
          "name": "stdout",
          "text": [
            "[0. 1. 3. 0. 0. 0. 1. 4. 4. 3. 0. 0.]\n"
          ]
        }
      ]
    },
    {
      "cell_type": "markdown",
      "source": [
        "How do we interpret this answer? \n",
        "\n",
        "$P_{ss}$ = 0\n",
        "\n",
        "$P_{sn}$ = 1\n",
        "\n",
        "$P_{sb}$ = 3 \n",
        "\n",
        "$P_{sk}$ = 0\n",
        "\n",
        "$P_{cs}$ = 0\n",
        "\n",
        "$P_{cn}$ = 0\n",
        "\n",
        "$P_{cb}$ = 1 \n",
        "\n",
        "$P_{ck}$ = 4\n",
        "\n",
        "$P_{ts}$ = 4\n",
        "\n",
        "$P_{tn}$ = 3\n",
        "\n",
        "$P_{tb}$ = 0\n",
        "\n",
        "$P_{tk}$ = 0 \n",
        "\n",
        "Thus, the Sudbury Mill will supply 1 million tons of paper to North Bay and 3 million tons of paper to Barrie. The Cornwall Mill will supply 1 million tons of paper to Barrie and 4 million tons to Kingston. The Timmins Mill will supply 4 million tons of paper to Sault Ste Marie and 3 million to North Bay. \n",
        "\n",
        "Does this make sense geographically? Yes! The mills supply to the closest cities. \n",
        "\n",
        "This results in a total cost of delivery of: \n",
        "\n",
        "Cost (Z) = 65(0)  + 56.6(1)  + 65(3)  + 80(0) + 95(0)  + 75(0)  + 76(1)  + 59(4)  + 75(4)  + 68(3)  + 80(0)  + 90(0)\n",
        "\n",
        "Z = 1067.6 million dollars* \n",
        "\n",
        "*It is millions of dollars because we were working in millions of tons. "
      ],
      "metadata": {
        "id": "ZWPS0JTNfgbg"
      }
    },
    {
      "cell_type": "markdown",
      "source": [
        "What if we want to solve a similar problem but with different city-mill combinations? Different costs per ton of paper to deliver? Let's make things easy for us and create a function! This is a way to make the computer easily solve problems for us with very little work on our part. "
      ],
      "metadata": {
        "id": "EL-3Vv6Xmskf"
      }
    },
    {
      "cell_type": "code",
      "source": [
        "def calculate_coefficient(handling_cost,cost_to_deliver_ton,city_information,\\\n",
        "                          mills): \n",
        "  '''\n",
        "  Calculate the coefficients for each unknown (i.e. mill-city combination)\n",
        "  '''\n",
        "  coefficient_list = [] # Empty list to store the coefficients in \n",
        "  pair_list = [] \n",
        "  distance_list = [] \n",
        "  dict_check = {} \n",
        "  count = 0 \n",
        "  mills_list = list(mills.keys())*len(city_information)\n",
        "  for key,val in city_information.items(): # Key = City name, Val = Distance\n",
        "\n",
        "    distance_from_mill = city_information[key][0] #Get distance\n",
        "    for j in distance_from_mill: #For each distance to each mill \n",
        "      coefficient = handling_cost + cost_to_deliver_ton*j #Calculate coefficient\n",
        "      coefficient_list.append(coefficient) #Send it to the empty list above\n",
        "      pair_list.append(key)\n",
        "      distance_list.append(j)\n",
        "      mill = mills_list[count]\n",
        "      dict_check[count] = [key,mill,j,coefficient]\n",
        "      count+=1\n",
        "  return coefficient_list,pair_list, distance_list,dict_check # \"Return\" the list, which means it can be used by\n",
        "                          # the other function \n",
        "  \n",
        "def minimize_mill_costs(handling_cost,cost_to_deliver_ton,city_information,\n",
        "                        mill_capacity): \n",
        "  '''\n",
        "  Solve the LP problem for amount of paper provided by each mill to each city\n",
        "  '''\n",
        "\n",
        "  coefficients,pairs,dist,dict_1 = calculate_coefficient(handling_cost,cost_to_deliver_ton,\n",
        "                                       city_information,mill_capacity) # Calculate coefficients\n",
        "  #print(dict_1)\n",
        "  #print(coefficients)\n",
        "  #print(pairs)\n",
        "\n",
        "  num_mills = len(list(mill_capacity.keys())) # Get number of mills \n",
        "  num_coefficients = len(coefficients) # Get number of coefficients\n",
        "  num_cities = len(list(city_information.keys())) # Get number of cities \n",
        "\n",
        "  equality_left = [] # Make an empty list to store the left inequalities in \n",
        "  \n",
        "  # Create the matrix for coefficients for the unknowns\n",
        "  count = 0  \n",
        "  for n in range(0,num_cities): \n",
        "    equality_left_prep = [[0]*num_coefficients]*num_cities\n",
        "    #print(inequality_left_prep)\n",
        "    stop = num_mills + count \n",
        "    for i in range(count,stop): \n",
        "      equality_left_prep[n][i] = 1 \n",
        "    count += num_mills\n",
        "    equality_left.append(equality_left_prep[0])\n",
        "\n",
        "  # Make a list of the right side number of the inequalities \n",
        "  inequality_right = [] \n",
        "  for key, val in mill_capacity.items(): \n",
        "    inequality_right.append(val)\n",
        "\n",
        "  \n",
        "  # Create the matrix for coefficients for the unknowns for the equalities\n",
        "  inequality_left = [] \n",
        "  for n in range(0,num_mills): \n",
        "    inequality_left_prep = [[0]*num_coefficients]*num_mills\n",
        "    for i in range(n,len(coefficients),num_mills): \n",
        "      inequality_left_prep[n][i] = 1 \n",
        "    inequality_left.append(inequality_left_prep[0])\n",
        "\n",
        "  # Make a list of the right side number of the equalities\n",
        "  equality_right = [] \n",
        "  for key, val in city_information.items(): \n",
        "    paper_ordered = city_information[key][1]\n",
        "    equality_right.append(paper_ordered)\n",
        "\n",
        "\n",
        "  # Define the bounds \n",
        "  bounds_P = [(0,None)]*num_coefficients \n",
        "\n",
        "  # Run linprog\n",
        "\n",
        "  information = linprog(coefficients, A_ub= inequality_left, \n",
        "                        b_ub= inequality_right, A_eq = equality_left, \n",
        "                        b_eq = equality_right,bounds=bounds_P, \n",
        "                        method='interior-point') #revised-simplex\n",
        "  # Output relevent information\n",
        "  num_paper = information['x']\n",
        "  cities = list(city_information.keys())\n",
        "  mills = list(mill_capacity.keys())*len(cities)\n",
        "  ct = list(city_information.keys())*len(mills)\n",
        "  mills_list = [[mill]*len(cities) for mill in mills] \n",
        "  mills_list = [j for i in mills_list for j in i]\n",
        "  #print(num_paper)\n",
        "  #print(pairs)\n",
        "  for key, val in dict_1.items(): \n",
        "    print('City: %s, Mill: %s, Distance: %s, Coefficient: %s, Paper Tons: %s'\\\n",
        "          %(val[0],val[1],val[2],val[3],round(num_paper[key])))\n",
        "\n",
        "  "
      ],
      "metadata": {
        "id": "1S_elUXqm94i"
      },
      "execution_count": 15,
      "outputs": []
    },
    {
      "cell_type": "markdown",
      "source": [
        "*Problem 3:* A paper company has four mills and sells paper to four different cities. The four mills have annual production capacities of 6 million tons of paper per year. The cities each require 6 million tons of paper per year. The cost of shipping a ton of paper includes a handling cost of 60 dollars, and a shipping cost of 0.07 dollars per ton kilometer. The distances from the mills to the cities  are shown in the table below. You must decide how many tons of paper should be shipped from each mill to each city\n",
        "each year, so as to satisfy customer demand and **minimize shipping costs**.\n",
        "\n",
        "Table 1: Distances from mills to cities in km. \n",
        "\n",
        "| | Thunder Bay  | Ottawa   | Gananoque   | Windsor   |\n",
        "|---:|:-------------|:-----------|:------|:------|\n",
        "| Wawa Mill | 480  | 1000       | 1100   | 800     |\n",
        "| Sarnia Mill | 1300  | 680    | 560   | 100     |\n",
        "| Petawawa Mill | 1300 | 160    | 250   | 740     |\n",
        "| Cobourg Mill | 1500 | 340    | 180   | 480     |\n",
        "\n",
        "Prediction: we want Wawa to supply Thunder Bay, Sarnia to supply Windsor, Petawawa to supply Ottawa, and Cobourg to supply Gananoque. Does our program support our prediction? "
      ],
      "metadata": {
        "id": "h_D-xquJsTxM"
      }
    },
    {
      "cell_type": "code",
      "source": [
        "handling = 60\n",
        "delivery = 0.07\n",
        "city_info = {'Thunder Bay':[[480,1300,1300,1500],6],'Ottawa':\n",
        "                    [[1000,680,160,340],6],'Gananoque':[[1100,560,250,180],6],\n",
        "                    'Windsor':[[800,100,740,480],6]}\n",
        "mill_cap = {'Wawa':6,'Sarnia':6,'Petawawa':6,'Cobourg':6} \n",
        "minimize_mill_costs(handling,delivery,city_info,mill_cap)"
      ],
      "metadata": {
        "colab": {
          "base_uri": "https://localhost:8080/"
        },
        "id": "S2jS7FCusShN",
        "outputId": "6693fc57-f12e-4be9-a2b1-bc4365514475"
      },
      "execution_count": 16,
      "outputs": [
        {
          "output_type": "stream",
          "name": "stdout",
          "text": [
            "City: Thunder Bay, Mill: Wawa, Distance: 480, Coefficient: 93.6, Paper Tons: 6\n",
            "City: Thunder Bay, Mill: Sarnia, Distance: 1300, Coefficient: 151.0, Paper Tons: 0\n",
            "City: Thunder Bay, Mill: Petawawa, Distance: 1300, Coefficient: 151.0, Paper Tons: 0\n",
            "City: Thunder Bay, Mill: Cobourg, Distance: 1500, Coefficient: 165.0, Paper Tons: 0\n",
            "City: Ottawa, Mill: Wawa, Distance: 1000, Coefficient: 130.0, Paper Tons: 0\n",
            "City: Ottawa, Mill: Sarnia, Distance: 680, Coefficient: 107.6, Paper Tons: 0\n",
            "City: Ottawa, Mill: Petawawa, Distance: 160, Coefficient: 71.2, Paper Tons: 6\n",
            "City: Ottawa, Mill: Cobourg, Distance: 340, Coefficient: 83.8, Paper Tons: 0\n",
            "City: Gananoque, Mill: Wawa, Distance: 1100, Coefficient: 137.0, Paper Tons: 0\n",
            "City: Gananoque, Mill: Sarnia, Distance: 560, Coefficient: 99.2, Paper Tons: 0\n",
            "City: Gananoque, Mill: Petawawa, Distance: 250, Coefficient: 77.5, Paper Tons: 0\n",
            "City: Gananoque, Mill: Cobourg, Distance: 180, Coefficient: 72.6, Paper Tons: 6\n",
            "City: Windsor, Mill: Wawa, Distance: 800, Coefficient: 116.0, Paper Tons: 0\n",
            "City: Windsor, Mill: Sarnia, Distance: 100, Coefficient: 67.0, Paper Tons: 6\n",
            "City: Windsor, Mill: Petawawa, Distance: 740, Coefficient: 111.80000000000001, Paper Tons: 0\n",
            "City: Windsor, Mill: Cobourg, Distance: 480, Coefficient: 93.6, Paper Tons: 0\n"
          ]
        }
      ]
    },
    {
      "cell_type": "markdown",
      "source": [
        "Our prediction was correct! That was an easy one. Let's try a more difficult one. This is for you to solve in the breakout rooms. \n",
        "\n"
      ],
      "metadata": {
        "id": "XZs107v68n9i"
      }
    },
    {
      "cell_type": "markdown",
      "source": [
        "*Problem 4:* A paper company has five mills and sells paper to two different cities. The five mills have annual production capacities of 2 million tons of paper per year. The cities each require 5 million tons of paper per year. The cost of shipping a ton of paper includes a handling cost of 100 dollars, and a shipping cost of 0.03 dollars per ton kilometer. The distances from the mills to the cities  are shown in the table below. You must decide how many tons of paper should be shipped from each mill to each city\n",
        "each year, so as to satisfy customer demand and **minimize shipping costs**.\n",
        "\n",
        "Table 1: Distances from mills to cities in km. \n",
        "\n",
        "| | London  | Belleville   |\n",
        "|---:|:-------------|:-----------|\n",
        "| Haliburton Mill | 390  | 175       |\n",
        "| Minden Mill | 365  | 200    | \n",
        "| Bancroft Mill | 419 | 112    | \n",
        "| Huntsville Mill | 376 | 269    | \n",
        "| Bracebridge Mill | 341 | 259    | \n",
        "\n",
        "The mills are all really close together and generally closer to Belleville. How much paper should each mill supply to each city so that the costs of delivery are minimized? Try to figure it out in groups in the breakout room, using the tool of your choice. "
      ],
      "metadata": {
        "id": "BbK-VB9g7IoN"
      }
    },
    {
      "cell_type": "code",
      "source": [
        "# Comment out %%capture to see the correct answer! \n",
        "#%%capture \n",
        "handling = 100\n",
        "delivery = 0.03\n",
        "city_info = {'London':[[390,365,419,376,341],5],\n",
        "             'Belleville':[[175,200,112,269,259],5]}\n",
        "mill_cap = {'Haliburton':2,'Minden':2,'Bancroft':2,'Huntsville':2,\n",
        "            'Bracebridge':2} \n",
        "\n",
        "minimize_mill_costs(handling,delivery,city_info,mill_cap) "
      ],
      "metadata": {
        "id": "WxlMsKwVAEEM",
        "colab": {
          "base_uri": "https://localhost:8080/"
        },
        "outputId": "d74b3da9-8b40-43f8-c116-6b6fcdbca298"
      },
      "execution_count": 17,
      "outputs": [
        {
          "output_type": "stream",
          "name": "stdout",
          "text": [
            "City: London, Mill: Haliburton, Distance: 390, Coefficient: 111.7, Paper Tons: 0\n",
            "City: London, Mill: Minden, Distance: 365, Coefficient: 110.95, Paper Tons: 1\n",
            "City: London, Mill: Bancroft, Distance: 419, Coefficient: 112.57, Paper Tons: 0\n",
            "City: London, Mill: Huntsville, Distance: 376, Coefficient: 111.28, Paper Tons: 2\n",
            "City: London, Mill: Bracebridge, Distance: 341, Coefficient: 110.23, Paper Tons: 2\n",
            "City: Belleville, Mill: Haliburton, Distance: 175, Coefficient: 105.25, Paper Tons: 2\n",
            "City: Belleville, Mill: Minden, Distance: 200, Coefficient: 106.0, Paper Tons: 1\n",
            "City: Belleville, Mill: Bancroft, Distance: 112, Coefficient: 103.36, Paper Tons: 2\n",
            "City: Belleville, Mill: Huntsville, Distance: 269, Coefficient: 108.07, Paper Tons: 0\n",
            "City: Belleville, Mill: Bracebridge, Distance: 259, Coefficient: 107.77, Paper Tons: 0\n"
          ]
        }
      ]
    }
  ]
}