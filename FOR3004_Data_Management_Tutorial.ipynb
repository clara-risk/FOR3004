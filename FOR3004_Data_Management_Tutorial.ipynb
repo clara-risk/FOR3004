{
  "nbformat": 4,
  "nbformat_minor": 0,
  "metadata": {
    "colab": {
      "name": "FOR3004_Data_Management_Tutorial.ipynb",
      "provenance": []
    },
    "kernelspec": {
      "name": "python3",
      "display_name": "Python 3"
    },
    "language_info": {
      "name": "python"
    }
  },
  "cells": [
    {
      "cell_type": "markdown",
      "source": [
        "**FOR3004 Data Management Tutorial**\n",
        "\n",
        "Here, we will be going through how to do the following tasks in R and Python: \n",
        "\n",
        "(A) Addition and subtraction\n",
        "\n",
        "(B) Basic ways to store data (\"data types\") \n",
        "\n",
        "(C) How to read a csv file into the computer\n",
        "\n",
        "(D) How to write a function to calculate the mean and standard deviation for you"
      ],
      "metadata": {
        "id": "O1yyXM8rou7_"
      }
    },
    {
      "cell_type": "code",
      "source": [
        "%%capture\n",
        "#Set up the Colab Notebook\n",
        "\n",
        "%load_ext rpy2.ipython \n",
        "%pip install pandas \n",
        "%pip install numpy"
      ],
      "metadata": {
        "id": "Zvgmvxo4plCK"
      },
      "execution_count": 1,
      "outputs": []
    },
    {
      "cell_type": "code",
      "source": [
        "import numpy as np\n",
        "import pandas as pd "
      ],
      "metadata": {
        "id": "LUaMCpCtpyQS"
      },
      "execution_count": 2,
      "outputs": []
    },
    {
      "cell_type": "markdown",
      "source": [
        "**(A) Addition and subtraction**"
      ],
      "metadata": {
        "id": "T4EBx7U-pU0G"
      }
    },
    {
      "cell_type": "code",
      "execution_count": 30,
      "metadata": {
        "colab": {
          "base_uri": "https://localhost:8080/"
        },
        "id": "jIv-dy4ZorLi",
        "outputId": "4698b2d1-ac75-4d1e-da3f-64347af5573c"
      },
      "outputs": [
        {
          "output_type": "stream",
          "name": "stdout",
          "text": [
            "[1] 2\n",
            "[1] 3\n",
            "[1] 4\n",
            "[1] 22222222222\n"
          ]
        }
      ],
      "source": [
        "# Here is how to add in R \n",
        "%%R\n",
        "\n",
        "print(1+1)\n",
        "print(1+2)\n",
        "print(1+3)\n",
        "print(11111111111 + 11111111111)"
      ]
    },
    {
      "cell_type": "code",
      "source": [
        "# Here is how to add in Python \n",
        "\n",
        "print(1+1)\n",
        "print(1+2)\n",
        "print(1+3)\n",
        "print(11111111111 + 11111111111)"
      ],
      "metadata": {
        "colab": {
          "base_uri": "https://localhost:8080/"
        },
        "id": "L7Y8xNQBqHjs",
        "outputId": "a092a032-ee3d-4496-cf7f-3e8aadc65187"
      },
      "execution_count": 4,
      "outputs": [
        {
          "output_type": "stream",
          "name": "stdout",
          "text": [
            "2\n",
            "3\n",
            "4\n",
            "22222222222\n"
          ]
        }
      ]
    },
    {
      "cell_type": "markdown",
      "source": [
        "Very similar..."
      ],
      "metadata": {
        "id": "InOCsPsQqL6I"
      }
    },
    {
      "cell_type": "code",
      "source": [
        "# Here is how to subtract in R \n",
        "\n",
        "%%R\n",
        "\n",
        "print(1-1)\n",
        "print(1-2)\n",
        "print(1-3)\n",
        "print(1037-1019)"
      ],
      "metadata": {
        "colab": {
          "base_uri": "https://localhost:8080/"
        },
        "id": "-XnejM6CqObo",
        "outputId": "442bee5f-9d4f-4be2-e849-293f544c777c"
      },
      "execution_count": 5,
      "outputs": [
        {
          "output_type": "stream",
          "name": "stdout",
          "text": [
            "[1] 0\n",
            "[1] -1\n",
            "[1] -2\n",
            "[1] 18\n"
          ]
        }
      ]
    },
    {
      "cell_type": "code",
      "source": [
        "# Here is how to subtract in Python \n",
        "\n",
        "print(1-1)\n",
        "print(1-2)\n",
        "print(1-3)\n",
        "print(1037-1019)"
      ],
      "metadata": {
        "colab": {
          "base_uri": "https://localhost:8080/"
        },
        "id": "GdlgChWFqWX0",
        "outputId": "e870a0b0-a4bb-4840-9f28-45ced562d900"
      },
      "execution_count": 6,
      "outputs": [
        {
          "output_type": "stream",
          "name": "stdout",
          "text": [
            "0\n",
            "-1\n",
            "-2\n",
            "18\n"
          ]
        }
      ]
    },
    {
      "cell_type": "markdown",
      "source": [
        "Again, very similar!"
      ],
      "metadata": {
        "id": "FGILGdWEqaGs"
      }
    },
    {
      "cell_type": "markdown",
      "source": [
        "**(B) Basic ways to store data (\"data types\")**\n",
        "\n",
        "Both R and Python store data using specific \"types\". Humans do this too. For example, when I am counting money, I know I am working with numbers. When I am reading a book, I am working with sentences (text). The reason why you need to care about this is because the computer sometimes needs to know what data type you are working with to complete a task correctly. \n",
        "\n",
        "The major ones you might encounter in R are: \n",
        "\n",
        "Characters = text \n",
        "\n",
        "Numeric - Double = decimal number \n",
        "\n",
        "Numeric - Integer = non-decimal number \n",
        "\n",
        "Logical = TRUE or FALSE\n",
        "\n",
        "Vector = list of things \n",
        "\n",
        "Dataframe = table \n",
        "\n",
        "The major ones in Python are: \n",
        "\n",
        "Strings = text \n",
        "\n",
        "Integers = non-decimal numbers\n",
        "\n",
        "Floats = decimal numbers\n",
        "\n",
        "Boolean = TRUE or FALSE\n",
        "\n",
        "List = a list \n",
        "\n",
        "Dictionary = a way of storing information with keys and values (a word in a real dictionary is a \"key\" and its description is the value of the key)\n",
        "\n",
        "Pandas Dataframe = table  \n",
        "\n",
        "Let's go through some examples with these. \n"
      ],
      "metadata": {
        "id": "zUx6AYWoqgcc"
      }
    },
    {
      "cell_type": "code",
      "source": [
        "# Data types in R\n",
        "%%R\n",
        "\n",
        "print('Example of Character')\n",
        "tree_species <- 'black_spruce' #Create a variable called \"tree_species\"\n",
        "print(tree_species)\n",
        "print(typeof(tree_species)) #Print its data type\n",
        "\n",
        "print('Example of Numeric - Integer')\n",
        "num_trees <- as.integer(19) \n",
        "print(num_trees)\n",
        "print(typeof(num_trees))\n",
        "\n",
        "print('Example of Numeric - Double')\n",
        "av_num_trees_in_stand <- 19.2\n",
        "print(av_num_trees_in_stand)\n",
        "print(typeof(av_num_trees_in_stand))\n",
        "\n",
        "print('Example of Vector')\n",
        "stand_locations <- c('Timmins','Ottawa','Port Hope','Englehart','Hearst')\n",
        "print(stand_locations)\n",
        "print('Example of Logical')\n",
        "print(is.vector(stand_locations)) #Is it a vector or not? \n",
        "\n",
        "print('Example of Dataframe')\n",
        "df <- data.frame (tree_growth_trial_location  = c('Timmins','Ottawa',\n",
        "                                                  'Port Hope','Englehart',\n",
        "                                                  'Hearst'), height = \n",
        "                  c(1.29,1.86,2.1,1.16,1.99))\n",
        "print(df)\n",
        "print('Example of Logical')\n",
        "print(is.data.frame(df)) #Is it a dataframe or not? "
      ],
      "metadata": {
        "colab": {
          "base_uri": "https://localhost:8080/"
        },
        "id": "TcyHI_Siswid",
        "outputId": "c58aab1a-425d-463b-d224-1f73f1b1a62b"
      },
      "execution_count": 7,
      "outputs": [
        {
          "output_type": "stream",
          "name": "stdout",
          "text": [
            "[1] \"Example of Character\"\n",
            "[1] \"black_spruce\"\n",
            "[1] \"character\"\n",
            "[1] \"Example of Numeric - Integer\"\n",
            "[1] 19\n",
            "[1] \"integer\"\n",
            "[1] \"Example of Numeric - Double\"\n",
            "[1] 19.2\n",
            "[1] \"double\"\n",
            "[1] \"Example of Vector\"\n",
            "[1] \"Timmins\"   \"Ottawa\"    \"Port Hope\" \"Englehart\" \"Hearst\"   \n",
            "[1] \"Example of Logical\"\n",
            "[1] TRUE\n",
            "[1] \"Example of Dataframe\"\n",
            "  tree_growth_trial_location height\n",
            "1                    Timmins   1.29\n",
            "2                     Ottawa   1.86\n",
            "3                  Port Hope   2.10\n",
            "4                  Englehart   1.16\n",
            "5                     Hearst   1.99\n",
            "[1] \"Example of Logical\"\n",
            "[1] TRUE\n"
          ]
        }
      ]
    },
    {
      "cell_type": "code",
      "source": [
        "# Data types in Python \n",
        "print('Example of String')\n",
        "tree_species = 'black_spruce' #Create a variable called \"tree_species\"\n",
        "print(tree_species)\n",
        "print(type(tree_species)) #Print its data type\n",
        "\n",
        "print('Example of Integer')\n",
        "num_trees = 19\n",
        "print(num_trees)\n",
        "print(type(num_trees))\n",
        "\n",
        "print('Example of Float')\n",
        "av_num_trees_in_stand = 19.2\n",
        "print(av_num_trees_in_stand)\n",
        "print(type(av_num_trees_in_stand))\n",
        "\n",
        "print('Example of List')\n",
        "stand_locations = ['Timmins','Ottawa','Port Hope','Englehart','Hearst']\n",
        "print(stand_locations)\n",
        "print(type(stand_locations)) \n",
        "\n",
        "print('Example of Dictionary')\n",
        "stand_locations = ['Timmins','Ottawa','Port Hope','Englehart','Hearst']\n",
        "heights = [1.29,1.86,2.1,1.16,1.99]  \n",
        "trial_dictionary = {} \n",
        "for loc,height in zip(stand_locations,heights): \n",
        "  trial_dictionary[loc] = height\n",
        "print(trial_dictionary)\n",
        "print(type(height)) \n",
        "\n",
        "print('Example of Pandas Dataframe')\n",
        "df = pd.DataFrame()\n",
        "df['Tree Growth Trial Location'] = stand_locations\n",
        "df['Height'] = [1.29,1.86,2.1,1.16,1.99] \n",
        "print(df)\n",
        "print(type(df)) \n",
        "\n",
        "print('Example of Boolean')\n",
        "print('Timmins' in trial_dictionary.keys()) #Is Timmins one of \n",
        "                                            #the dictionary keys? \n"
      ],
      "metadata": {
        "colab": {
          "base_uri": "https://localhost:8080/"
        },
        "id": "RANI4-KfvwdG",
        "outputId": "abb38fd5-997b-4ac2-d586-a1461cde3df6"
      },
      "execution_count": 8,
      "outputs": [
        {
          "output_type": "stream",
          "name": "stdout",
          "text": [
            "Example of String\n",
            "black_spruce\n",
            "<class 'str'>\n",
            "Example of Integer\n",
            "19\n",
            "<class 'int'>\n",
            "Example of Float\n",
            "19.2\n",
            "<class 'float'>\n",
            "Example of List\n",
            "['Timmins', 'Ottawa', 'Port Hope', 'Englehart', 'Hearst']\n",
            "<class 'list'>\n",
            "Example of Dictionary\n",
            "{'Timmins': 1.29, 'Ottawa': 1.86, 'Port Hope': 2.1, 'Englehart': 1.16, 'Hearst': 1.99}\n",
            "<class 'float'>\n",
            "Example of Pandas Dataframe\n",
            "  Tree Growth Trial Location  Height\n",
            "0                    Timmins    1.29\n",
            "1                     Ottawa    1.86\n",
            "2                  Port Hope    2.10\n",
            "3                  Englehart    1.16\n",
            "4                     Hearst    1.99\n",
            "<class 'pandas.core.frame.DataFrame'>\n",
            "Example of Boolean\n",
            "True\n"
          ]
        }
      ]
    },
    {
      "cell_type": "markdown",
      "source": [
        "**(C) How to read a csv file into the computer** "
      ],
      "metadata": {
        "id": "SnfeB1Htzvcm"
      }
    },
    {
      "cell_type": "code",
      "source": [
        "%%capture\n",
        "# Now, we need to get our data. Our data is located on Quercus under \"Python \n",
        "# Tutorial\", in a text file called \"NFDB_point_20201029.txt\". This is the \n",
        "# text file of the Canadian National Forest Fire Database. Please download this\n",
        "# data and then upload it to your Google Drive in a folder called \"FOR3004_ \n",
        "# Python_Tutorial\". \n",
        "\n",
        "# First, we need to give permission for Google Colab to access our data. You \n",
        "# will need to enable all the permissions (there are 8). \n",
        "\n",
        "from google.colab import drive\n",
        "drive.mount('/content/drive')"
      ],
      "metadata": {
        "id": "3Z0XuwR8zyUQ"
      },
      "execution_count": 9,
      "outputs": []
    },
    {
      "cell_type": "code",
      "source": [
        "%%capture\n",
        "# Now, grab the data from Google Drive. \n",
        "\n",
        "%cd /content/drive/MyDrive/FOR3004_Python_Tutorial/\n"
      ],
      "metadata": {
        "id": "gcSxc88P0ByC"
      },
      "execution_count": 10,
      "outputs": []
    },
    {
      "cell_type": "code",
      "source": [
        "# Read the file using R\n",
        "\n",
        "%%R \n",
        "dirname <- '/content/drive/MyDrive/FOR3004_Python_Tutorial/'\n",
        "fn <- 'NFDB_point_20210916.txt' \n",
        "dirfile <- paste(dirname,fn,sep = \"\")\n",
        "fires <- read.csv(file = dirfile)\n",
        "head(fires)"
      ],
      "metadata": {
        "colab": {
          "base_uri": "https://localhost:8080/"
        },
        "id": "2TVRiT3C0JR_",
        "outputId": "a468662a-c19a-45e7-c3a4-e25b07f0e98c"
      },
      "execution_count": 11,
      "outputs": [
        {
          "output_type": "stream",
          "name": "stdout",
          "text": [
            "  FID SRC_AGENCY     FIRE_ID FIRENAME LATITUDE LONGITUDE YEAR MONTH DAY\n",
            "1   0         BC 1953-G00041            59.963  -128.172 1953     5  26\n",
            "2   1         BC 1950-R00028            59.318  -132.172 1950     6  22\n",
            "3   2         BC 1950-G00026            59.876  -131.922 1950     6   4\n",
            "4   3         BC 1951-R00097            59.760  -132.808 1951     7  15\n",
            "5   4         BC 1952-G00116            59.434  -126.172 1952     6  12\n",
            "6   5         BC 1951-R00100            59.963  -136.502 1951     8   1\n",
            "             REP_DATE ATTK_DATE OUT_DATE    DECADE SIZE_HA CAUSE PROTZONE\n",
            "1 1953-05-26 00:00:00                    1950-1959     8.0     H         \n",
            "2 1950-06-22 00:00:00                    1950-1959     8.0     L         \n",
            "3 1950-06-04 00:00:00                    1950-1959 12949.9     H         \n",
            "4 1951-07-15 00:00:00                    1950-1959   241.1     H         \n",
            "5 1952-06-12 00:00:00                    1950-1959     1.2     H         \n",
            "6 1951-08-01 00:00:00                    1950-1959   194.2     H         \n",
            "  FIRE_TYPE MORE_INFO          CFS_REF_ID CFS_NOTE1 CFS_NOTE2\n",
            "1      Fire           BC-1953-1953-G00041                    \n",
            "2      Fire           BC-1950-1950-R00028                    \n",
            "3      Fire           BC-1950-1950-G00026                    \n",
            "4      Fire           BC-1951-1951-R00097                    \n",
            "5      Fire           BC-1952-1952-G00116                    \n",
            "6      Fire           BC-1951-1951-R00100                    \n",
            "             ACQ_DATE SRC_AGY2 ECOZONE ECOZ_REF         ECOZ_NAME\n",
            "1 2020-05-05 00:00:00       BC      12       12 Boreal Cordillera\n",
            "2 2020-05-05 00:00:00       BC      12       12 Boreal Cordillera\n",
            "3 2020-05-05 00:00:00       BC      12       12 Boreal Cordillera\n",
            "4 2020-05-05 00:00:00       BC      12       12 Boreal Cordillera\n",
            "5 2020-05-05 00:00:00       BC      12       12 Boreal Cordillera\n",
            "6 2020-05-05 00:00:00       BC      12       12 Boreal Cordillera\n",
            "            ECOZ_NOM\n",
            "1 CordillCre boreale\n",
            "2 CordillCre boreale\n",
            "3 CordillCre boreale\n",
            "4 CordillCre boreale\n",
            "5 CordillCre boreale\n",
            "6 CordillCre boreale\n"
          ]
        }
      ]
    },
    {
      "cell_type": "code",
      "source": [
        "# Now in Python \n",
        "\n",
        "dirname = '/content/drive/MyDrive/FOR3004_Python_Tutorial/'\n",
        "fn = 'NFDB_point_20210916.txt' \n",
        "\n",
        "fires_df = pd.read_csv(dirname+fn, delimiter = \",\",low_memory=False)\n",
        "print(fires_df.head(10))"
      ],
      "metadata": {
        "colab": {
          "base_uri": "https://localhost:8080/"
        },
        "id": "3H_av-lp0Giy",
        "outputId": "31f3a3cf-3b9e-4290-82d2-d37aeed3aa18"
      },
      "execution_count": 15,
      "outputs": [
        {
          "output_type": "stream",
          "name": "stdout",
          "text": [
            "   FID SRC_AGENCY      FIRE_ID  ... ECOZ_REF          ECOZ_NAME            ECOZ_NOM\n",
            "0    0         BC  1953-G00041  ...       12  Boreal Cordillera  CordillCre boreale\n",
            "1    1         BC  1950-R00028  ...       12  Boreal Cordillera  CordillCre boreale\n",
            "2    2         BC  1950-G00026  ...       12  Boreal Cordillera  CordillCre boreale\n",
            "3    3         BC  1951-R00097  ...       12  Boreal Cordillera  CordillCre boreale\n",
            "4    4         BC  1952-G00116  ...       12  Boreal Cordillera  CordillCre boreale\n",
            "5    5         BC  1951-R00100  ...       12  Boreal Cordillera  CordillCre boreale\n",
            "6    6         BC  1952-G00211  ...       12  Boreal Cordillera  CordillCre boreale\n",
            "7    7         BC  1950-G00035  ...        4        Taiga Plain   Taiga des plaines\n",
            "8    8         BC  1950-G00039  ...        4        Taiga Plain   Taiga des plaines\n",
            "9    9         BC  1953-G00043  ...        4        Taiga Plain   Taiga des plaines\n",
            "\n",
            "[10 rows x 27 columns]\n"
          ]
        }
      ]
    },
    {
      "cell_type": "markdown",
      "source": [
        "**(D) How to write a function to calculate the mean and standard deviation for you**\n",
        "\n",
        "Functions are blocks of code that can repeatedly execute tasks for you. "
      ],
      "metadata": {
        "id": "Fmn7Rfij2vDo"
      }
    },
    {
      "cell_type": "code",
      "source": [
        "# Calculate the mean size of fires in R using the CNFDB\n",
        "\n",
        "%%R \n",
        "\n",
        "dirname <- '/content/drive/MyDrive/FOR3004_Python_Tutorial/'\n",
        "fn <- 'NFDB_point_20210916.txt' \n",
        "dirfile <- paste(dirname,fn,sep = \"\")\n",
        "fires <- read.csv(file = dirfile)\n",
        "\n",
        "fire_sizes <- fires[c('SIZE_HA')]\n",
        "no_nan <- fire_sizes[!is.na(fire_sizes$SIZE_HA),]\n",
        "mean_size <- mean(no_nan)\n",
        "print(mean_size)"
      ],
      "metadata": {
        "colab": {
          "base_uri": "https://localhost:8080/"
        },
        "id": "ZEZ95Ksl21WG",
        "outputId": "5d857d85-5d65-4fc0-bfb8-f04d9703f575"
      },
      "execution_count": 23,
      "outputs": [
        {
          "output_type": "stream",
          "name": "stdout",
          "text": [
            "[1] 311.571\n"
          ]
        }
      ]
    },
    {
      "cell_type": "code",
      "source": [
        "# Now in Python \n",
        "\n",
        "fire_sizes = fires_df['SIZE_HA'] \n",
        "mean_size = np.nanmean(fire_sizes)\n",
        "print(mean_size)"
      ],
      "metadata": {
        "colab": {
          "base_uri": "https://localhost:8080/"
        },
        "id": "xDNzuyu827uu",
        "outputId": "d20a182a-ecaa-47ca-c304-6bf53a1ed689"
      },
      "execution_count": 24,
      "outputs": [
        {
          "output_type": "stream",
          "name": "stdout",
          "text": [
            "311.5710327143166\n"
          ]
        }
      ]
    },
    {
      "cell_type": "markdown",
      "source": [
        "Okay, but what if we want to be able to do this automatically for other data? To do this, we must create a function. "
      ],
      "metadata": {
        "id": "aX_oL2KmAcdu"
      }
    },
    {
      "cell_type": "code",
      "source": [
        "# Mean function in R\n",
        "\n",
        "%%R \n",
        "dirname <- '/content/drive/MyDrive/FOR3004_Python_Tutorial/'\n",
        "fn <- 'NFDB_point_20210916.txt' \n",
        "dirfile <- paste(dirname,fn,sep = \"\")\n",
        "fires <- read.csv(file = dirfile)\n",
        "\n",
        "calc_mean <- function(data) {\n",
        "  no_nan <- fire_sizes[!is.na(data),]\n",
        "  mean_value <- mean(data)\n",
        "  return(mean_value)\n",
        "}\n",
        "\n",
        "fire_sizes <- fires[c('SIZE_HA')]\n",
        "mean_from_function = calc_mean(fire_sizes$SIZE_HA)\n",
        "print(mean_from_function)"
      ],
      "metadata": {
        "colab": {
          "base_uri": "https://localhost:8080/"
        },
        "id": "os29htwKAku3",
        "outputId": "91d1e750-dd1a-477d-e017-4f2f808aa297"
      },
      "execution_count": 25,
      "outputs": [
        {
          "output_type": "stream",
          "name": "stdout",
          "text": [
            "[1] 311.571\n"
          ]
        }
      ]
    },
    {
      "cell_type": "code",
      "source": [
        "# Mean function in Python \n",
        "\n",
        "def calc_mean(data): \n",
        "  mean_value = np.nanmean(data)\n",
        "  return mean_value\n",
        "\n",
        "fire_sizes = fires_df['SIZE_HA'] \n",
        "mean_from_function = calc_mean(fire_sizes)\n",
        "print(mean_from_function)"
      ],
      "metadata": {
        "colab": {
          "base_uri": "https://localhost:8080/"
        },
        "id": "G67MqX7gBPil",
        "outputId": "59686349-8651-4c9e-c205-152800159130"
      },
      "execution_count": 26,
      "outputs": [
        {
          "output_type": "stream",
          "name": "stdout",
          "text": [
            "311.5710327143166\n"
          ]
        }
      ]
    },
    {
      "cell_type": "markdown",
      "source": [
        "What about standard deviation? "
      ],
      "metadata": {
        "id": "R1HlA8vkBtb6"
      }
    },
    {
      "cell_type": "code",
      "source": [
        "# Function for calculating standard deviation in R\n",
        "\n",
        "%%R \n",
        "\n",
        "dirname <- '/content/drive/MyDrive/FOR3004_Python_Tutorial/'\n",
        "fn <- 'NFDB_point_20210916.txt' \n",
        "dirfile <- paste(dirname,fn,sep = \"\")\n",
        "fires <- read.csv(file = dirfile)\n",
        "\n",
        "calc_stdev <- function(data) {\n",
        "  no_nan <- fire_sizes[!is.na(data),]\n",
        "  stdev_value <- sd(data)\n",
        "  return(stdev_value)\n",
        "}\n",
        "\n",
        "fire_sizes <- fires[c('SIZE_HA')]\n",
        "stdev_from_function = calc_stdev(fire_sizes$SIZE_HA)\n",
        "print(stdev_from_function)\n"
      ],
      "metadata": {
        "colab": {
          "base_uri": "https://localhost:8080/"
        },
        "id": "NwqbLRoaBvaW",
        "outputId": "885a821f-ac81-41ef-faa8-71b9d937876e"
      },
      "execution_count": 28,
      "outputs": [
        {
          "output_type": "stream",
          "name": "stdout",
          "text": [
            "[1] 5605.963\n"
          ]
        }
      ]
    },
    {
      "cell_type": "code",
      "source": [
        "# And in Python... \n",
        "\n",
        "def calc_stdev(data): \n",
        "  stdev_value = np.nanstd(data)\n",
        "  return stdev_value\n",
        "\n",
        "fire_sizes = fires_df['SIZE_HA'] \n",
        "stdev_from_function = calc_stdev(fire_sizes)\n",
        "print(stdev_from_function)"
      ],
      "metadata": {
        "colab": {
          "base_uri": "https://localhost:8080/"
        },
        "id": "zfkNqJ1AESdD",
        "outputId": "040e8647-3e29-4ce8-90eb-f3c8b34ab658"
      },
      "execution_count": 29,
      "outputs": [
        {
          "output_type": "stream",
          "name": "stdout",
          "text": [
            "5605.956716670724\n"
          ]
        }
      ]
    }
  ]
}